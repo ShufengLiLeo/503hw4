{
  "cells": [
    {
      "cell_type": "raw",
      "metadata": {
        "id": "MwJNlMPNcyRn"
      },
      "source": [
        "---\n",
        "title: \"HW3-sl1873\"\n",
        "format:\n",
        "  html:\n",
        "    toc: true\n",
        "    embed-resources: true\n",
        "    code-folding: true\n",
        "\n",
        "execute:\n",
        "  echo: true\n",
        "---"
      ]
    },
    {
      "cell_type": "markdown",
      "metadata": {
        "id": "HTKtpf-WcyRs"
      },
      "source": [
        "### Import"
      ]
    },
    {
      "cell_type": "code",
      "execution_count": 79,
      "metadata": {
        "id": "PgUh9_drcyRs"
      },
      "outputs": [],
      "source": [
        "import pandas as pd\n",
        "import altair as alt\n",
        "import numpy as np\n",
        "import os\n"
      ]
    },
    {
      "cell_type": "code",
      "execution_count": 80,
      "metadata": {},
      "outputs": [
        {
          "data": {
            "text/plain": [
              "DataTransformerRegistry.enable('json')"
            ]
          },
          "execution_count": 80,
          "metadata": {},
          "output_type": "execute_result"
        }
      ],
      "source": [
        "alt.data_transformers.enable('json')"
      ]
    },
    {
      "attachments": {},
      "cell_type": "markdown",
      "metadata": {},
      "source": [
        "Altair plot"
      ]
    },
    {
      "attachments": {},
      "cell_type": "markdown",
      "metadata": {},
      "source": [
        "Consideration and Final Visual Target:\n",
        "\n",
        "I want to understand the daily electrical load and trends of the appliances in my home5 and capture important anomalies, such as power limit days, blackout days, or whether the electricity use of rank3 appliances has changed over time.\n",
        "\n",
        "A Rationale for Design Decisions:\n",
        "\n",
        "Candidate images to show time trends are bar charts, scatter charts, and linear charts, which are not suitable because of the long-time span of the time series displayed and the daily granularity of analysis. Because up to 8 types of furniture are displayed, a scatter plot would reduce readability, so it was finally decided to use a line chart with an additional measurement scale to help the reader see the specific value of the electrical load of the furniture on a given day."
      ]
    },
    {
      "cell_type": "code",
      "execution_count": 81,
      "metadata": {},
      "outputs": [],
      "source": [
        "def concat_csv(folder_path):\n",
        "    # get all csv in folder\n",
        "    csv_list = [f for f in os.listdir(folder_path) if f.endswith('.csv')]\n",
        "    # concat all csv\n",
        "    df = pd.concat([pd.read_csv(os.path.join(folder_path, csv)) for csv in csv_list], axis=1)\n",
        "    df.columns = [csv.split('.')[0] for csv in csv_list]\n",
        "    return df\n",
        "\n",
        "\n",
        "def get_tidy_data(path, furniture_type):\n",
        "    df = concat_csv(path)\n",
        "    data = df.T.sort_index()\n",
        "    data = data.replace(-1, np.nan)\n",
        "    data_day = (data.T.groupby(data.T.index // len(data.T.index)).sum()).T\n",
        "    data_day = data_day.astype(int)\n",
        "    data_day.reset_index(inplace=True)\n",
        "    data_day.rename(columns={0: 'overload', 'index': 'date'}, inplace=True)\n",
        "    data_day['furniture_type'] = furniture_type\n",
        "    return data_day\n",
        "\n",
        "\n",
        "furniture = {'01': 'Fridge', '02': 'KitchenAppliances', '03': 'Lamp', '04': 'StereoAndLaptop', '05': 'Freezer',\n",
        "             '06': 'Tablet', '07': 'Entertainment', '08': 'Microwave'}"
      ]
    },
    {
      "cell_type": "code",
      "execution_count": 82,
      "metadata": {},
      "outputs": [],
      "source": [
        "df = concat_csv('/Users/shufengli/Desktop/eco/05/01')\n",
        "data = df.T.sort_index()\n",
        "data = data.replace(-1, np.nan)\n",
        "data_day = (data.T.groupby(data.T.index // len(data.T.index)).sum()).T\n",
        "data_day = data_day.astype(int)\n",
        "data_day.reset_index(inplace=True)\n",
        "data_day.rename(columns={0: 'overload', 'index': 'date'}, inplace=True)"
      ]
    },
    {
      "cell_type": "code",
      "execution_count": 83,
      "metadata": {},
      "outputs": [],
      "source": [
        "df_family5_Fridge = get_tidy_data('/Users/shufengli/Desktop/eco/05/01', furniture['01'])\n",
        "df_family5_KitchenAppliances = get_tidy_data('/Users/shufengli/Desktop/eco/05/02', furniture['02'])\n",
        "df_family5_Lamp = get_tidy_data('/Users/shufengli/Desktop/eco/05/03', furniture['03'])\n",
        "df_family5_StereoAndLaptop = get_tidy_data('/Users/shufengli/Desktop/eco/05/04', furniture['04'])\n",
        "df_family5_Freezer = get_tidy_data('/Users/shufengli/Desktop/eco/05/05', furniture['05'])\n",
        "df_family5_Tablet = get_tidy_data('/Users/shufengli/Desktop/eco/05/06', furniture['06'])\n",
        "df_family5_Entertainment = get_tidy_data('/Users/shufengli/Desktop/eco/05/07', furniture['07'])\n",
        "df_family5_Microwave = get_tidy_data('/Users/shufengli/Desktop/eco/05/08', furniture['08'])"
      ]
    },
    {
      "cell_type": "code",
      "execution_count": 84,
      "metadata": {},
      "outputs": [],
      "source": [
        "df_family5 = pd.concat(\n",
        "    [df_family5_Fridge, df_family5_KitchenAppliances, df_family5_Lamp, df_family5_StereoAndLaptop, df_family5_Freezer,\n",
        "     df_family5_Tablet, df_family5_Entertainment, df_family5_Microwave], axis=0)"
      ]
    },
    {
      "cell_type": "code",
      "execution_count": 85,
      "metadata": {},
      "outputs": [
        {
          "data": {
            "text/html": [
              "<div>\n",
              "<style scoped>\n",
              "    .dataframe tbody tr th:only-of-type {\n",
              "        vertical-align: middle;\n",
              "    }\n",
              "\n",
              "    .dataframe tbody tr th {\n",
              "        vertical-align: top;\n",
              "    }\n",
              "\n",
              "    .dataframe thead th {\n",
              "        text-align: right;\n",
              "    }\n",
              "</style>\n",
              "<table border=\"1\" class=\"dataframe\">\n",
              "  <thead>\n",
              "    <tr style=\"text-align: right;\">\n",
              "      <th></th>\n",
              "      <th>date</th>\n",
              "      <th>overload</th>\n",
              "      <th>furniture_type</th>\n",
              "    </tr>\n",
              "  </thead>\n",
              "  <tbody>\n",
              "    <tr>\n",
              "      <th>0</th>\n",
              "      <td>2012-06-27</td>\n",
              "      <td>500115</td>\n",
              "      <td>Fridge</td>\n",
              "    </tr>\n",
              "    <tr>\n",
              "      <th>1</th>\n",
              "      <td>2012-06-28</td>\n",
              "      <td>333726</td>\n",
              "      <td>Fridge</td>\n",
              "    </tr>\n",
              "    <tr>\n",
              "      <th>2</th>\n",
              "      <td>2012-06-29</td>\n",
              "      <td>349708</td>\n",
              "      <td>Fridge</td>\n",
              "    </tr>\n",
              "    <tr>\n",
              "      <th>3</th>\n",
              "      <td>2012-06-30</td>\n",
              "      <td>393604</td>\n",
              "      <td>Fridge</td>\n",
              "    </tr>\n",
              "    <tr>\n",
              "      <th>4</th>\n",
              "      <td>2012-07-01</td>\n",
              "      <td>389406</td>\n",
              "      <td>Fridge</td>\n",
              "    </tr>\n",
              "    <tr>\n",
              "      <th>...</th>\n",
              "      <td>...</td>\n",
              "      <td>...</td>\n",
              "      <td>...</td>\n",
              "    </tr>\n",
              "    <tr>\n",
              "      <th>20</th>\n",
              "      <td>2012-09-26</td>\n",
              "      <td>4</td>\n",
              "      <td>Microwave</td>\n",
              "    </tr>\n",
              "    <tr>\n",
              "      <th>21</th>\n",
              "      <td>2012-09-27</td>\n",
              "      <td>6</td>\n",
              "      <td>Microwave</td>\n",
              "    </tr>\n",
              "    <tr>\n",
              "      <th>22</th>\n",
              "      <td>2012-09-28</td>\n",
              "      <td>17</td>\n",
              "      <td>Microwave</td>\n",
              "    </tr>\n",
              "    <tr>\n",
              "      <th>23</th>\n",
              "      <td>2012-09-29</td>\n",
              "      <td>2</td>\n",
              "      <td>Microwave</td>\n",
              "    </tr>\n",
              "    <tr>\n",
              "      <th>24</th>\n",
              "      <td>2012-09-30</td>\n",
              "      <td>416934</td>\n",
              "      <td>Microwave</td>\n",
              "    </tr>\n",
              "  </tbody>\n",
              "</table>\n",
              "<p>1378 rows × 3 columns</p>\n",
              "</div>"
            ],
            "text/plain": [
              "          date  overload furniture_type\n",
              "0   2012-06-27    500115         Fridge\n",
              "1   2012-06-28    333726         Fridge\n",
              "2   2012-06-29    349708         Fridge\n",
              "3   2012-06-30    393604         Fridge\n",
              "4   2012-07-01    389406         Fridge\n",
              "..         ...       ...            ...\n",
              "20  2012-09-26         4      Microwave\n",
              "21  2012-09-27         6      Microwave\n",
              "22  2012-09-28        17      Microwave\n",
              "23  2012-09-29         2      Microwave\n",
              "24  2012-09-30    416934      Microwave\n",
              "\n",
              "[1378 rows x 3 columns]"
            ]
          },
          "execution_count": 85,
          "metadata": {},
          "output_type": "execute_result"
        }
      ],
      "source": [
        "df_family5"
      ]
    },
    {
      "cell_type": "code",
      "execution_count": 86,
      "metadata": {},
      "outputs": [],
      "source": [
        "family5_all_furniture = pd.concat(\n",
        "    [df_family5_Fridge, df_family5_KitchenAppliances, df_family5_Lamp, df_family5_StereoAndLaptop, df_family5_Freezer,\n",
        "     df_family5_Tablet, df_family5_Entertainment, df_family5_Microwave])\n",
        "family5_all_furniture.reset_index(inplace=True)\n",
        "family5_all_furniture.drop(['index'], axis=1, inplace=True)\n",
        "family5_all_furniture.rename(columns={'variable': 'hours', 'value': 'overload'}, inplace=True)\n",
        "\n"
      ]
    },
    {
      "cell_type": "code",
      "execution_count": 87,
      "metadata": {},
      "outputs": [],
      "source": [
        "# Create a selection that chooses the nearest point & selects based on x-value\n",
        "nearest = alt.selection(type='single', nearest=True, on='mouseover',\n",
        "                        fields=['date'], empty='none')\n",
        "\n",
        "line = alt.Chart(family5_all_furniture).mark_line(interpolate='basis').encode(\n",
        "    alt.X('date', title='Date'),\n",
        "    alt.Y('overload', title='Electricity Overload'),\n",
        "    color='furniture_type',\n",
        ")\n",
        "\n",
        "# Transparent selectors across the chart. This is what tells us\n",
        "# the x-value of the cursor\n",
        "selectors = alt.Chart(family5_all_furniture).mark_point().encode(\n",
        "    x='date',\n",
        "    opacity=alt.value(0),\n",
        ").add_selection(\n",
        "    nearest\n",
        ")\n",
        "\n",
        "# Draw points on the line, and highlight based on selection\n",
        "points = line.mark_point().encode(\n",
        "    opacity=alt.condition(nearest, alt.value(1), alt.value(0))\n",
        ")\n",
        "\n",
        "# Draw text labels near the points, and highlight based on selection\n",
        "text = line.mark_text(align='left', dx=5, dy=-5).encode(\n",
        "    text=alt.condition(nearest, 'overload', alt.value(' '))\n",
        ")\n",
        "\n",
        "# Draw a rule at the location of the selection\n",
        "rules = alt.Chart(family5_all_furniture).mark_rule(color='gray').encode(\n",
        "    x='date',\n",
        ").transform_filter(\n",
        "    nearest\n",
        ")\n",
        "\n",
        "# Put the five layers into a chart and bind the data\n",
        "all_plot = alt.layer(\n",
        "    line, selectors, points, rules, text\n",
        ").properties(\n",
        "    width=2400, height=800\n",
        ")\n"
      ]
    },
    {
      "cell_type": "code",
      "execution_count": 100,
      "metadata": {},
      "outputs": [
        {
          "data": {
            "text/html": [
              "\n",
              "<div id=\"altair-viz-a7b45282932e4ebab41f0c4d89dc3206\"></div>\n",
              "<script type=\"text/javascript\">\n",
              "  var VEGA_DEBUG = (typeof VEGA_DEBUG == \"undefined\") ? {} : VEGA_DEBUG;\n",
              "  (function(spec, embedOpt){\n",
              "    let outputDiv = document.currentScript.previousElementSibling;\n",
              "    if (outputDiv.id !== \"altair-viz-a7b45282932e4ebab41f0c4d89dc3206\") {\n",
              "      outputDiv = document.getElementById(\"altair-viz-a7b45282932e4ebab41f0c4d89dc3206\");\n",
              "    }\n",
              "    const paths = {\n",
              "      \"vega\": \"https://cdn.jsdelivr.net/npm//vega@5?noext\",\n",
              "      \"vega-lib\": \"https://cdn.jsdelivr.net/npm//vega-lib?noext\",\n",
              "      \"vega-lite\": \"https://cdn.jsdelivr.net/npm//vega-lite@4.17.0?noext\",\n",
              "      \"vega-embed\": \"https://cdn.jsdelivr.net/npm//vega-embed@6?noext\",\n",
              "    };\n",
              "\n",
              "    function maybeLoadScript(lib, version) {\n",
              "      var key = `${lib.replace(\"-\", \"\")}_version`;\n",
              "      return (VEGA_DEBUG[key] == version) ?\n",
              "        Promise.resolve(paths[lib]) :\n",
              "        new Promise(function(resolve, reject) {\n",
              "          var s = document.createElement('script');\n",
              "          document.getElementsByTagName(\"head\")[0].appendChild(s);\n",
              "          s.async = true;\n",
              "          s.onload = () => {\n",
              "            VEGA_DEBUG[key] = version;\n",
              "            return resolve(paths[lib]);\n",
              "          };\n",
              "          s.onerror = () => reject(`Error loading script: ${paths[lib]}`);\n",
              "          s.src = paths[lib];\n",
              "        });\n",
              "    }\n",
              "\n",
              "    function showError(err) {\n",
              "      outputDiv.innerHTML = `<div class=\"error\" style=\"color:red;\">${err}</div>`;\n",
              "      throw err;\n",
              "    }\n",
              "\n",
              "    function displayChart(vegaEmbed) {\n",
              "      vegaEmbed(outputDiv, spec, embedOpt)\n",
              "        .catch(err => showError(`Javascript Error: ${err.message}<br>This usually means there's a typo in your chart specification. See the javascript console for the full traceback.`));\n",
              "    }\n",
              "\n",
              "    if(typeof define === \"function\" && define.amd) {\n",
              "      requirejs.config({paths});\n",
              "      require([\"vega-embed\"], displayChart, err => showError(`Error loading script: ${err.message}`));\n",
              "    } else {\n",
              "      maybeLoadScript(\"vega\", \"5\")\n",
              "        .then(() => maybeLoadScript(\"vega-lite\", \"4.17.0\"))\n",
              "        .then(() => maybeLoadScript(\"vega-embed\", \"6\"))\n",
              "        .catch(showError)\n",
              "        .then(() => displayChart(vegaEmbed));\n",
              "    }\n",
              "  })({\"config\": {\"view\": {\"continuousWidth\": 400, \"continuousHeight\": 300}}, \"layer\": [{\"mark\": {\"type\": \"line\", \"interpolate\": \"basis\"}, \"encoding\": {\"color\": {\"field\": \"furniture_type\", \"type\": \"nominal\"}, \"x\": {\"field\": \"date\", \"title\": \"Date\", \"type\": \"nominal\"}, \"y\": {\"field\": \"overload\", \"title\": \"Electricity Overload\", \"type\": \"quantitative\"}}}, {\"mark\": \"point\", \"encoding\": {\"opacity\": {\"value\": 0}, \"x\": {\"field\": \"date\", \"type\": \"nominal\"}}, \"selection\": {\"selector005\": {\"type\": \"single\", \"nearest\": true, \"on\": \"mouseover\", \"fields\": [\"date\"], \"empty\": \"none\"}}}, {\"mark\": \"point\", \"encoding\": {\"color\": {\"field\": \"furniture_type\", \"type\": \"nominal\"}, \"opacity\": {\"condition\": {\"value\": 1, \"selection\": \"selector005\"}, \"value\": 0}, \"x\": {\"field\": \"date\", \"title\": \"Date\", \"type\": \"nominal\"}, \"y\": {\"field\": \"overload\", \"title\": \"Electricity Overload\", \"type\": \"quantitative\"}}}, {\"mark\": {\"type\": \"rule\", \"color\": \"gray\"}, \"encoding\": {\"x\": {\"field\": \"date\", \"type\": \"nominal\"}}, \"transform\": [{\"filter\": {\"selection\": \"selector005\"}}]}, {\"mark\": {\"type\": \"text\", \"align\": \"left\", \"dx\": 5, \"dy\": -5}, \"encoding\": {\"color\": {\"field\": \"furniture_type\", \"type\": \"nominal\"}, \"text\": {\"condition\": {\"field\": \"overload\", \"type\": \"quantitative\", \"selection\": \"selector005\"}, \"value\": \" \"}, \"x\": {\"field\": \"date\", \"title\": \"Date\", \"type\": \"nominal\"}, \"y\": {\"field\": \"overload\", \"title\": \"Electricity Overload\", \"type\": \"quantitative\"}}}], \"data\": {\"url\": \"altair-data-01a66c6fed7d6fd68dd920612b9eca99.json\", \"format\": {\"type\": \"json\"}}, \"height\": 800, \"width\": 2400, \"$schema\": \"https://vega.github.io/schema/vega-lite/v4.17.0.json\"}, {\"mode\": \"vega-lite\"});\n",
              "</script>"
            ],
            "text/plain": [
              "alt.LayerChart(...)"
            ]
          },
          "metadata": {},
          "output_type": "display_data"
        }
      ],
      "source": [
        "display(all_plot)"
      ]
    },
    {
      "attachments": {},
      "cell_type": "markdown",
      "metadata": {},
      "source": [
        "Discovery:\n",
        "\n",
        "Between 2012-9-14 and 2012-9-15, between 2012-9-27 and 2012-9-28, the power load of each furniture drops significantly, so there may be power restrictions on this day.\n",
        "Between 2012-9-8 and 2012-9-28, the electrical load of the microwave oven was 0, but the electrical load of other furniture existed, so the microwave oven was damaged during this time.\n",
        "The power load of the refrigerator has been rank1, but the trend of the power load has changed. Before September 2012, the power load of the refrigerator fluctuated around 4,500,000, but after that time period the power load of the refrigerator fluctuated around 3,500,000.\n",
        "Fridge's electrical load fluctuates widely and on a 5-6 day cycle, requiring further investigation to understand the cause."
      ]
    },
    {
      "cell_type": "code",
      "execution_count": 89,
      "metadata": {},
      "outputs": [],
      "source": [
        "import plotly.graph_objects as go\n",
        "import plotly.express as px\n",
        "import plotly.io as pio\n",
        "\n",
        "pio.renderers.default = \"plotly_mimetype+notebook_connected\""
      ]
    },
    {
      "attachments": {},
      "cell_type": "markdown",
      "metadata": {},
      "source": [
        "Plotly plot"
      ]
    },
    {
      "attachments": {},
      "cell_type": "markdown",
      "metadata": {},
      "source": [
        "Consideration and Final Visual Target:\n",
        "\n",
        "I would like to know the electrical appliance usage for each day in Home 4, especially the percentage of electrical load. However, considering the long timeline in the dataset, using one graph to show the 24h electrical load share of household appliances for each day of household 4 would result in too long x states reducing readability. Therefore, I replace the x-axis timeline with the month, and the final visualization goal is the average value of the 24h electricity load share of household 4’s household appliances for each month.\n",
        "\n",
        "A Rationale for Design Decisions:\n",
        "\n",
        "My visualization goal needs to include two dimensions: TimeLine and the percentage of electrical load of each household appliance, the candidate diagrams are pie chart, bar chart and stacked bar chart, the pie chart cannot show the trend of electrical load over time, and the bar chart cannot show the percentage of electrical load, the stacked bar chart meets the visualization conditions of both dimensions and is the best choice.\n",
        "\n"
      ]
    },
    {
      "cell_type": "code",
      "execution_count": 90,
      "metadata": {},
      "outputs": [],
      "source": [
        "def concat_csv(folder_path):\n",
        "    # get all csv in folder\n",
        "    csv_list = [f for f in os.listdir(folder_path) if f.endswith('.csv')]\n",
        "    # concat all csv\n",
        "    df = pd.concat([pd.read_csv(os.path.join(folder_path, csv)) for csv in csv_list], axis=1)\n",
        "    df.columns = [csv.split('.')[0] for csv in csv_list]\n",
        "    return df"
      ]
    },
    {
      "cell_type": "code",
      "execution_count": 91,
      "metadata": {},
      "outputs": [],
      "source": [
        "def get_tidy_data(path, furniture_type):\n",
        "    df = concat_csv(path)\n",
        "    data = df.T.sort_index()\n",
        "    data = data.replace(-1, np.nan)\n",
        "    data_24h = (data.T.groupby(data.T.index // 3600).sum()).T\n",
        "    data_24h.columns = [i for i in range(0, 24)]\n",
        "    data_24h.index = [i[:7] for i in data_24h.index]\n",
        "    output = pd.melt(data_24h.reset_index().rename(columns={'index': 'date'}), ['date'])\n",
        "    output['furniture_type'] = furniture_type\n",
        "    return output"
      ]
    },
    {
      "cell_type": "code",
      "execution_count": 92,
      "metadata": {},
      "outputs": [],
      "source": [
        "furniture = {'01': 'Fridge', '02': 'KitchenAppliances', '03': 'Lamp', '04': 'StereoAndLaptop', '05': 'Freezer',\n",
        "             '06': 'Tablet', '07': 'Entertainment', '08': 'Microwave'}\n",
        "\n",
        "df_family4_Fridge = get_tidy_data('/Users/shufengli/Desktop/eco/04/01', furniture['01'])\n",
        "df_family4_KitchenAppliances = get_tidy_data('/Users/shufengli/Desktop/eco/04/02', furniture['02'])\n",
        "df_family4_Lamp = get_tidy_data('/Users/shufengli/Desktop/eco/04/03', furniture['03'])\n",
        "df_family4_StereoAndLaptop = get_tidy_data('/Users/shufengli/Desktop/eco/04/04', furniture['04'])\n",
        "df_family4_Freezer = get_tidy_data('/Users/shufengli/Desktop/eco/04/05', furniture['05'])\n",
        "df_family4_Tablet = get_tidy_data('/Users/shufengli/Desktop/eco/04/06', furniture['06'])\n",
        "df_family4_Entertainment = get_tidy_data('/Users/shufengli/Desktop/eco/04/07', furniture['07'])\n",
        "df_family4_Microwave = get_tidy_data('/Users/shufengli/Desktop/eco/04/08', furniture['08'])"
      ]
    },
    {
      "cell_type": "code",
      "execution_count": 93,
      "metadata": {},
      "outputs": [],
      "source": [
        "family4_all_furniture = pd.concat(\n",
        "    [df_family4_Fridge, df_family4_KitchenAppliances, df_family4_Lamp, df_family4_StereoAndLaptop, df_family4_Freezer,\n",
        "     df_family4_Tablet, df_family4_Entertainment, df_family4_Microwave])\n",
        "\n",
        "family4_all_furniture.reset_index(inplace=True)\n",
        "family4_all_furniture.drop(['index'], axis=1, inplace=True)\n",
        "family4_all_furniture.rename(columns={'variable': 'hours', 'value': 'overload'}, inplace=True)"
      ]
    },
    {
      "cell_type": "code",
      "execution_count": 94,
      "metadata": {},
      "outputs": [],
      "source": [
        "show_data = family4_all_furniture.groupby(['date', 'hours', 'furniture_type']).mean().reset_index()\n",
        "show_data.sort_values(by=['hours', 'furniture_type'], inplace=True)\n",
        "\n",
        "time_stamp = {0: '0h', 1: '1h', 2: '2h', 3: '3h', 4: '4h', 5: '5h', 6: '6h', 7: '7h', 8: '8h', 9: '9h', 10: '10h',\n",
        "              11: '11h', 12: '12h', 13: '13h', 14: '14h', 15: '15h', 16: '16h', 17: '17h', 18: '18h', 19: '19h',\n",
        "              20: '20h', 21: '21h', 22: '22h', 23: '23h'}\n",
        "show_data['hours'] = show_data['hours'].map(time_stamp)"
      ]
    },
    {
      "cell_type": "code",
      "execution_count": 95,
      "metadata": {},
      "outputs": [
        {
          "data": {
            "text/html": [
              "        <script type=\"text/javascript\">\n",
              "        window.PlotlyConfig = {MathJaxConfig: 'local'};\n",
              "        if (window.MathJax) {MathJax.Hub.Config({SVG: {font: \"STIX-Web\"}});}\n",
              "        if (typeof require !== 'undefined') {\n",
              "        require.undef(\"plotly\");\n",
              "        requirejs.config({\n",
              "            paths: {\n",
              "                'plotly': ['https://cdn.plot.ly/plotly-2.9.0.min']\n",
              "            }\n",
              "        });\n",
              "        require(['plotly'], function(Plotly) {\n",
              "            window._Plotly = Plotly;\n",
              "        });\n",
              "        }\n",
              "        </script>\n",
              "        "
            ]
          },
          "metadata": {},
          "output_type": "display_data"
        },
        {
          "data": {
            "application/vnd.plotly.v1+json": {
              "config": {
                "plotlyServerURL": "https://plot.ly"
              },
              "data": [
                {
                  "alignmentgroup": "True",
                  "hovertemplate": "furniture_type=Entertainment<br>date=2012-06<br>hours=%{x}<br>overload=%{y}<extra></extra>",
                  "legendgroup": "Entertainment",
                  "marker": {
                    "color": "#636efa",
                    "pattern": {
                      "shape": ""
                    }
                  },
                  "name": "Entertainment",
                  "offsetgroup": "Entertainment",
                  "orientation": "v",
                  "showlegend": true,
                  "textposition": "auto",
                  "type": "bar",
                  "x": [
                    "0h",
                    "1h",
                    "2h",
                    "3h",
                    "4h",
                    "5h",
                    "6h",
                    "7h",
                    "8h",
                    "9h",
                    "10h",
                    "11h",
                    "12h",
                    "13h",
                    "14h",
                    "15h",
                    "16h",
                    "17h",
                    "18h",
                    "19h",
                    "20h",
                    "21h",
                    "22h",
                    "23h"
                  ],
                  "xaxis": "x",
                  "y": [
                    28958.237745,
                    31848.975875,
                    35568.677070000005,
                    35085.648570000005,
                    39049.7451,
                    38391.9521,
                    85256.89538,
                    81383.07371,
                    58067.48981,
                    47677.70398,
                    87149.1254,
                    102627.71766,
                    110200.12054,
                    258335.730105,
                    78157.409535,
                    58394.681045,
                    69081.81792500001,
                    114451.16415,
                    94197.75993,
                    154996.25826499998,
                    51729.032575000005,
                    38859.027455,
                    29334.167465,
                    28985.244195
                  ],
                  "yaxis": "y"
                },
                {
                  "alignmentgroup": "True",
                  "hovertemplate": "furniture_type=Freezer<br>date=2012-06<br>hours=%{x}<br>overload=%{y}<extra></extra>",
                  "legendgroup": "Freezer",
                  "marker": {
                    "color": "#EF553B",
                    "pattern": {
                      "shape": ""
                    }
                  },
                  "name": "Freezer",
                  "offsetgroup": "Freezer",
                  "orientation": "v",
                  "showlegend": true,
                  "textposition": "auto",
                  "type": "bar",
                  "x": [
                    "0h",
                    "1h",
                    "2h",
                    "3h",
                    "4h",
                    "5h",
                    "6h",
                    "7h",
                    "8h",
                    "9h",
                    "10h",
                    "11h",
                    "12h",
                    "13h",
                    "14h",
                    "15h",
                    "16h",
                    "17h",
                    "18h",
                    "19h",
                    "20h",
                    "21h",
                    "22h",
                    "23h"
                  ],
                  "xaxis": "x",
                  "y": [
                    577106.249675,
                    624290.283725,
                    658433.5414999999,
                    673981.9708,
                    737252.228775,
                    751904.926475,
                    780064.099275,
                    654733.29475,
                    639740.49125,
                    588839.7349,
                    633831.174,
                    731295.36135,
                    809044.504025,
                    817556.0495,
                    815470.490575,
                    840009.709325,
                    834600.2590000001,
                    823562.841,
                    795600.63475,
                    774221.1411,
                    582315.35535,
                    610226.7314,
                    633313.1096,
                    603517.05025
                  ],
                  "yaxis": "y"
                },
                {
                  "alignmentgroup": "True",
                  "hovertemplate": "furniture_type=Fridge<br>date=2012-06<br>hours=%{x}<br>overload=%{y}<extra></extra>",
                  "legendgroup": "Fridge",
                  "marker": {
                    "color": "#00cc96",
                    "pattern": {
                      "shape": ""
                    }
                  },
                  "name": "Fridge",
                  "offsetgroup": "Fridge",
                  "orientation": "v",
                  "showlegend": true,
                  "textposition": "auto",
                  "type": "bar",
                  "x": [
                    "0h",
                    "1h",
                    "2h",
                    "3h",
                    "4h",
                    "5h",
                    "6h",
                    "7h",
                    "8h",
                    "9h",
                    "10h",
                    "11h",
                    "12h",
                    "13h",
                    "14h",
                    "15h",
                    "16h",
                    "17h",
                    "18h",
                    "19h",
                    "20h",
                    "21h",
                    "22h",
                    "23h"
                  ],
                  "xaxis": "x",
                  "y": [
                    82476.2106325,
                    101113.9536925,
                    81157.5997275,
                    107798.388545,
                    110422.0661275,
                    108699.8811075,
                    127010.373375,
                    107466.5961275,
                    87014.04828,
                    86583.52434999999,
                    86668.048125,
                    97054.608185,
                    129895.1183725,
                    118580.49268,
                    124936.8616875,
                    128265.508005,
                    125977.853575,
                    122606.3117025,
                    139042.749335,
                    129287.05339,
                    92477.28798,
                    91232.496125,
                    91932.5061375,
                    89867.21567
                  ],
                  "yaxis": "y"
                },
                {
                  "alignmentgroup": "True",
                  "hovertemplate": "furniture_type=KitchenAppliances<br>date=2012-06<br>hours=%{x}<br>overload=%{y}<extra></extra>",
                  "legendgroup": "KitchenAppliances",
                  "marker": {
                    "color": "#ab63fa",
                    "pattern": {
                      "shape": ""
                    }
                  },
                  "name": "KitchenAppliances",
                  "offsetgroup": "KitchenAppliances",
                  "orientation": "v",
                  "showlegend": true,
                  "textposition": "auto",
                  "type": "bar",
                  "x": [
                    "0h",
                    "1h",
                    "2h",
                    "3h",
                    "4h",
                    "5h",
                    "6h",
                    "7h",
                    "8h",
                    "9h",
                    "10h",
                    "11h",
                    "12h",
                    "13h",
                    "14h",
                    "15h",
                    "16h",
                    "17h",
                    "18h",
                    "19h",
                    "20h",
                    "21h",
                    "22h",
                    "23h"
                  ],
                  "xaxis": "x",
                  "y": [
                    1454.4462300000002,
                    1613.0442000000003,
                    1795.4589300000002,
                    1785.1744200000003,
                    1970.28077,
                    1928.6162700000002,
                    216039.04664,
                    75942.80961,
                    32974.451595,
                    1444.16172,
                    1504.2449100000001,
                    1805.20215,
                    10907.611895000002,
                    49875.76482,
                    119008.305685,
                    289353.00611,
                    16443.788635,
                    32084.00437,
                    136221.773615,
                    1973.5433400000002,
                    1526.97909,
                    1490.17137,
                    1541.0526300000001,
                    1492.33653
                  ],
                  "yaxis": "y"
                },
                {
                  "alignmentgroup": "True",
                  "hovertemplate": "furniture_type=Lamp<br>date=2012-06<br>hours=%{x}<br>overload=%{y}<extra></extra>",
                  "legendgroup": "Lamp",
                  "marker": {
                    "color": "#FFA15A",
                    "pattern": {
                      "shape": ""
                    }
                  },
                  "name": "Lamp",
                  "offsetgroup": "Lamp",
                  "orientation": "v",
                  "showlegend": true,
                  "textposition": "auto",
                  "type": "bar",
                  "x": [
                    "0h",
                    "1h",
                    "2h",
                    "3h",
                    "4h",
                    "5h",
                    "6h",
                    "7h",
                    "8h",
                    "9h",
                    "10h",
                    "11h",
                    "12h",
                    "13h",
                    "14h",
                    "15h",
                    "16h",
                    "17h",
                    "18h",
                    "19h",
                    "20h",
                    "21h",
                    "22h",
                    "23h"
                  ],
                  "xaxis": "x",
                  "y": [
                    1673.11566,
                    1824.3008100000002,
                    2007.4028250000001,
                    2024.2011750000001,
                    2161.3877,
                    2133.950395,
                    6929.097525,
                    34732.088565,
                    12748.6016775,
                    7831.0001950000005,
                    6816.86697,
                    8553.084825000002,
                    19307.4269775,
                    17970.224515,
                    9431.299570000001,
                    16528.8398,
                    21262.315470000005,
                    18755.3074425,
                    28349.1409125,
                    21069.643155,
                    7381.2008125,
                    5371.4872000000005,
                    12851.377345,
                    1622.1606649999999
                  ],
                  "yaxis": "y"
                },
                {
                  "alignmentgroup": "True",
                  "hovertemplate": "furniture_type=Microwave<br>date=2012-06<br>hours=%{x}<br>overload=%{y}<extra></extra>",
                  "legendgroup": "Microwave",
                  "marker": {
                    "color": "#19d3f3",
                    "pattern": {
                      "shape": ""
                    }
                  },
                  "name": "Microwave",
                  "offsetgroup": "Microwave",
                  "orientation": "v",
                  "showlegend": true,
                  "textposition": "auto",
                  "type": "bar",
                  "x": [
                    "0h",
                    "1h",
                    "2h",
                    "3h",
                    "4h",
                    "5h",
                    "6h",
                    "7h",
                    "8h",
                    "9h",
                    "10h",
                    "11h",
                    "12h",
                    "13h",
                    "14h",
                    "15h",
                    "16h",
                    "17h",
                    "18h",
                    "19h",
                    "20h",
                    "21h",
                    "22h",
                    "23h"
                  ],
                  "xaxis": "x",
                  "y": [
                    7838.819039999999,
                    8617.317039999998,
                    9597.134888,
                    9422.692984,
                    10604.02432,
                    10409.632892,
                    45244.274624,
                    28069.913987999997,
                    40457.864324,
                    7980.510639999999,
                    93018.74453599998,
                    316165.644912,
                    208718.45096800002,
                    10518.5864,
                    10649.28104,
                    10723.29904,
                    10762.634320000001,
                    435707.870864,
                    357601.73786000005,
                    224738.124316,
                    8202.415792,
                    8004.61936,
                    7991.084639999999,
                    7919.956956
                  ],
                  "yaxis": "y"
                },
                {
                  "alignmentgroup": "True",
                  "hovertemplate": "furniture_type=StereoAndLaptop<br>date=2012-06<br>hours=%{x}<br>overload=%{y}<extra></extra>",
                  "legendgroup": "StereoAndLaptop",
                  "marker": {
                    "color": "#FF6692",
                    "pattern": {
                      "shape": ""
                    }
                  },
                  "name": "StereoAndLaptop",
                  "offsetgroup": "StereoAndLaptop",
                  "orientation": "v",
                  "showlegend": true,
                  "textposition": "auto",
                  "type": "bar",
                  "x": [
                    "0h",
                    "1h",
                    "2h",
                    "3h",
                    "4h",
                    "5h",
                    "6h",
                    "7h",
                    "8h",
                    "9h",
                    "10h",
                    "11h",
                    "12h",
                    "13h",
                    "14h",
                    "15h",
                    "16h",
                    "17h",
                    "18h",
                    "19h",
                    "20h",
                    "21h",
                    "22h",
                    "23h"
                  ],
                  "xaxis": "x",
                  "y": [
                    39492.35875,
                    43454.1627,
                    48402.9005,
                    47854.198650000006,
                    53204.137050000005,
                    52266.271974999996,
                    52676.0758,
                    46414.7168,
                    39655.9081,
                    40170.60785,
                    40080.8158,
                    62648.3024,
                    68500.821025,
                    69981.297275,
                    70717.80255,
                    104988.108475,
                    75727.835425,
                    70154.45275,
                    71912.85005,
                    66217.109625,
                    42365.590025,
                    41383.90935,
                    40477.94195,
                    39764.344274999996
                  ],
                  "yaxis": "y"
                },
                {
                  "alignmentgroup": "True",
                  "hovertemplate": "furniture_type=Tablet<br>date=2012-06<br>hours=%{x}<br>overload=%{y}<extra></extra>",
                  "legendgroup": "Tablet",
                  "marker": {
                    "color": "#B6E880",
                    "pattern": {
                      "shape": ""
                    }
                  },
                  "name": "Tablet",
                  "offsetgroup": "Tablet",
                  "orientation": "v",
                  "showlegend": true,
                  "textposition": "auto",
                  "type": "bar",
                  "x": [
                    "0h",
                    "1h",
                    "2h",
                    "3h",
                    "4h",
                    "5h",
                    "6h",
                    "7h",
                    "8h",
                    "9h",
                    "10h",
                    "11h",
                    "12h",
                    "13h",
                    "14h",
                    "15h",
                    "16h",
                    "17h",
                    "18h",
                    "19h",
                    "20h",
                    "21h",
                    "22h",
                    "23h"
                  ],
                  "xaxis": "x",
                  "y": [
                    2403.3006425,
                    2917.61701,
                    3034.0765125,
                    2926.53257,
                    2968.82955,
                    3221.860495,
                    3587.6936349999996,
                    3831.5011974999998,
                    3003.4849624999997,
                    3025.9135949999995,
                    3135.6843774999998,
                    4004.3621399999993,
                    4226.611922499999,
                    4320.187379999999,
                    3992.676525,
                    4146.17817,
                    4156.23414,
                    4227.8322775,
                    4066.4475224999996,
                    4038.7941174999996,
                    2987.2916875,
                    2898.8231349999996,
                    2936.0132099999996,
                    2651.833835
                  ],
                  "yaxis": "y"
                }
              ],
              "frames": [
                {
                  "data": [
                    {
                      "alignmentgroup": "True",
                      "hovertemplate": "furniture_type=Entertainment<br>date=2012-06<br>hours=%{x}<br>overload=%{y}<extra></extra>",
                      "legendgroup": "Entertainment",
                      "marker": {
                        "color": "#636efa",
                        "pattern": {
                          "shape": ""
                        }
                      },
                      "name": "Entertainment",
                      "offsetgroup": "Entertainment",
                      "orientation": "v",
                      "showlegend": true,
                      "textposition": "auto",
                      "type": "bar",
                      "x": [
                        "0h",
                        "1h",
                        "2h",
                        "3h",
                        "4h",
                        "5h",
                        "6h",
                        "7h",
                        "8h",
                        "9h",
                        "10h",
                        "11h",
                        "12h",
                        "13h",
                        "14h",
                        "15h",
                        "16h",
                        "17h",
                        "18h",
                        "19h",
                        "20h",
                        "21h",
                        "22h",
                        "23h"
                      ],
                      "xaxis": "x",
                      "y": [
                        28958.237745,
                        31848.975875,
                        35568.677070000005,
                        35085.648570000005,
                        39049.7451,
                        38391.9521,
                        85256.89538,
                        81383.07371,
                        58067.48981,
                        47677.70398,
                        87149.1254,
                        102627.71766,
                        110200.12054,
                        258335.730105,
                        78157.409535,
                        58394.681045,
                        69081.81792500001,
                        114451.16415,
                        94197.75993,
                        154996.25826499998,
                        51729.032575000005,
                        38859.027455,
                        29334.167465,
                        28985.244195
                      ],
                      "yaxis": "y"
                    },
                    {
                      "alignmentgroup": "True",
                      "hovertemplate": "furniture_type=Freezer<br>date=2012-06<br>hours=%{x}<br>overload=%{y}<extra></extra>",
                      "legendgroup": "Freezer",
                      "marker": {
                        "color": "#EF553B",
                        "pattern": {
                          "shape": ""
                        }
                      },
                      "name": "Freezer",
                      "offsetgroup": "Freezer",
                      "orientation": "v",
                      "showlegend": true,
                      "textposition": "auto",
                      "type": "bar",
                      "x": [
                        "0h",
                        "1h",
                        "2h",
                        "3h",
                        "4h",
                        "5h",
                        "6h",
                        "7h",
                        "8h",
                        "9h",
                        "10h",
                        "11h",
                        "12h",
                        "13h",
                        "14h",
                        "15h",
                        "16h",
                        "17h",
                        "18h",
                        "19h",
                        "20h",
                        "21h",
                        "22h",
                        "23h"
                      ],
                      "xaxis": "x",
                      "y": [
                        577106.249675,
                        624290.283725,
                        658433.5414999999,
                        673981.9708,
                        737252.228775,
                        751904.926475,
                        780064.099275,
                        654733.29475,
                        639740.49125,
                        588839.7349,
                        633831.174,
                        731295.36135,
                        809044.504025,
                        817556.0495,
                        815470.490575,
                        840009.709325,
                        834600.2590000001,
                        823562.841,
                        795600.63475,
                        774221.1411,
                        582315.35535,
                        610226.7314,
                        633313.1096,
                        603517.05025
                      ],
                      "yaxis": "y"
                    },
                    {
                      "alignmentgroup": "True",
                      "hovertemplate": "furniture_type=Fridge<br>date=2012-06<br>hours=%{x}<br>overload=%{y}<extra></extra>",
                      "legendgroup": "Fridge",
                      "marker": {
                        "color": "#00cc96",
                        "pattern": {
                          "shape": ""
                        }
                      },
                      "name": "Fridge",
                      "offsetgroup": "Fridge",
                      "orientation": "v",
                      "showlegend": true,
                      "textposition": "auto",
                      "type": "bar",
                      "x": [
                        "0h",
                        "1h",
                        "2h",
                        "3h",
                        "4h",
                        "5h",
                        "6h",
                        "7h",
                        "8h",
                        "9h",
                        "10h",
                        "11h",
                        "12h",
                        "13h",
                        "14h",
                        "15h",
                        "16h",
                        "17h",
                        "18h",
                        "19h",
                        "20h",
                        "21h",
                        "22h",
                        "23h"
                      ],
                      "xaxis": "x",
                      "y": [
                        82476.2106325,
                        101113.9536925,
                        81157.5997275,
                        107798.388545,
                        110422.0661275,
                        108699.8811075,
                        127010.373375,
                        107466.5961275,
                        87014.04828,
                        86583.52434999999,
                        86668.048125,
                        97054.608185,
                        129895.1183725,
                        118580.49268,
                        124936.8616875,
                        128265.508005,
                        125977.853575,
                        122606.3117025,
                        139042.749335,
                        129287.05339,
                        92477.28798,
                        91232.496125,
                        91932.5061375,
                        89867.21567
                      ],
                      "yaxis": "y"
                    },
                    {
                      "alignmentgroup": "True",
                      "hovertemplate": "furniture_type=KitchenAppliances<br>date=2012-06<br>hours=%{x}<br>overload=%{y}<extra></extra>",
                      "legendgroup": "KitchenAppliances",
                      "marker": {
                        "color": "#ab63fa",
                        "pattern": {
                          "shape": ""
                        }
                      },
                      "name": "KitchenAppliances",
                      "offsetgroup": "KitchenAppliances",
                      "orientation": "v",
                      "showlegend": true,
                      "textposition": "auto",
                      "type": "bar",
                      "x": [
                        "0h",
                        "1h",
                        "2h",
                        "3h",
                        "4h",
                        "5h",
                        "6h",
                        "7h",
                        "8h",
                        "9h",
                        "10h",
                        "11h",
                        "12h",
                        "13h",
                        "14h",
                        "15h",
                        "16h",
                        "17h",
                        "18h",
                        "19h",
                        "20h",
                        "21h",
                        "22h",
                        "23h"
                      ],
                      "xaxis": "x",
                      "y": [
                        1454.4462300000002,
                        1613.0442000000003,
                        1795.4589300000002,
                        1785.1744200000003,
                        1970.28077,
                        1928.6162700000002,
                        216039.04664,
                        75942.80961,
                        32974.451595,
                        1444.16172,
                        1504.2449100000001,
                        1805.20215,
                        10907.611895000002,
                        49875.76482,
                        119008.305685,
                        289353.00611,
                        16443.788635,
                        32084.00437,
                        136221.773615,
                        1973.5433400000002,
                        1526.97909,
                        1490.17137,
                        1541.0526300000001,
                        1492.33653
                      ],
                      "yaxis": "y"
                    },
                    {
                      "alignmentgroup": "True",
                      "hovertemplate": "furniture_type=Lamp<br>date=2012-06<br>hours=%{x}<br>overload=%{y}<extra></extra>",
                      "legendgroup": "Lamp",
                      "marker": {
                        "color": "#FFA15A",
                        "pattern": {
                          "shape": ""
                        }
                      },
                      "name": "Lamp",
                      "offsetgroup": "Lamp",
                      "orientation": "v",
                      "showlegend": true,
                      "textposition": "auto",
                      "type": "bar",
                      "x": [
                        "0h",
                        "1h",
                        "2h",
                        "3h",
                        "4h",
                        "5h",
                        "6h",
                        "7h",
                        "8h",
                        "9h",
                        "10h",
                        "11h",
                        "12h",
                        "13h",
                        "14h",
                        "15h",
                        "16h",
                        "17h",
                        "18h",
                        "19h",
                        "20h",
                        "21h",
                        "22h",
                        "23h"
                      ],
                      "xaxis": "x",
                      "y": [
                        1673.11566,
                        1824.3008100000002,
                        2007.4028250000001,
                        2024.2011750000001,
                        2161.3877,
                        2133.950395,
                        6929.097525,
                        34732.088565,
                        12748.6016775,
                        7831.0001950000005,
                        6816.86697,
                        8553.084825000002,
                        19307.4269775,
                        17970.224515,
                        9431.299570000001,
                        16528.8398,
                        21262.315470000005,
                        18755.3074425,
                        28349.1409125,
                        21069.643155,
                        7381.2008125,
                        5371.4872000000005,
                        12851.377345,
                        1622.1606649999999
                      ],
                      "yaxis": "y"
                    },
                    {
                      "alignmentgroup": "True",
                      "hovertemplate": "furniture_type=Microwave<br>date=2012-06<br>hours=%{x}<br>overload=%{y}<extra></extra>",
                      "legendgroup": "Microwave",
                      "marker": {
                        "color": "#19d3f3",
                        "pattern": {
                          "shape": ""
                        }
                      },
                      "name": "Microwave",
                      "offsetgroup": "Microwave",
                      "orientation": "v",
                      "showlegend": true,
                      "textposition": "auto",
                      "type": "bar",
                      "x": [
                        "0h",
                        "1h",
                        "2h",
                        "3h",
                        "4h",
                        "5h",
                        "6h",
                        "7h",
                        "8h",
                        "9h",
                        "10h",
                        "11h",
                        "12h",
                        "13h",
                        "14h",
                        "15h",
                        "16h",
                        "17h",
                        "18h",
                        "19h",
                        "20h",
                        "21h",
                        "22h",
                        "23h"
                      ],
                      "xaxis": "x",
                      "y": [
                        7838.819039999999,
                        8617.317039999998,
                        9597.134888,
                        9422.692984,
                        10604.02432,
                        10409.632892,
                        45244.274624,
                        28069.913987999997,
                        40457.864324,
                        7980.510639999999,
                        93018.74453599998,
                        316165.644912,
                        208718.45096800002,
                        10518.5864,
                        10649.28104,
                        10723.29904,
                        10762.634320000001,
                        435707.870864,
                        357601.73786000005,
                        224738.124316,
                        8202.415792,
                        8004.61936,
                        7991.084639999999,
                        7919.956956
                      ],
                      "yaxis": "y"
                    },
                    {
                      "alignmentgroup": "True",
                      "hovertemplate": "furniture_type=StereoAndLaptop<br>date=2012-06<br>hours=%{x}<br>overload=%{y}<extra></extra>",
                      "legendgroup": "StereoAndLaptop",
                      "marker": {
                        "color": "#FF6692",
                        "pattern": {
                          "shape": ""
                        }
                      },
                      "name": "StereoAndLaptop",
                      "offsetgroup": "StereoAndLaptop",
                      "orientation": "v",
                      "showlegend": true,
                      "textposition": "auto",
                      "type": "bar",
                      "x": [
                        "0h",
                        "1h",
                        "2h",
                        "3h",
                        "4h",
                        "5h",
                        "6h",
                        "7h",
                        "8h",
                        "9h",
                        "10h",
                        "11h",
                        "12h",
                        "13h",
                        "14h",
                        "15h",
                        "16h",
                        "17h",
                        "18h",
                        "19h",
                        "20h",
                        "21h",
                        "22h",
                        "23h"
                      ],
                      "xaxis": "x",
                      "y": [
                        39492.35875,
                        43454.1627,
                        48402.9005,
                        47854.198650000006,
                        53204.137050000005,
                        52266.271974999996,
                        52676.0758,
                        46414.7168,
                        39655.9081,
                        40170.60785,
                        40080.8158,
                        62648.3024,
                        68500.821025,
                        69981.297275,
                        70717.80255,
                        104988.108475,
                        75727.835425,
                        70154.45275,
                        71912.85005,
                        66217.109625,
                        42365.590025,
                        41383.90935,
                        40477.94195,
                        39764.344274999996
                      ],
                      "yaxis": "y"
                    },
                    {
                      "alignmentgroup": "True",
                      "hovertemplate": "furniture_type=Tablet<br>date=2012-06<br>hours=%{x}<br>overload=%{y}<extra></extra>",
                      "legendgroup": "Tablet",
                      "marker": {
                        "color": "#B6E880",
                        "pattern": {
                          "shape": ""
                        }
                      },
                      "name": "Tablet",
                      "offsetgroup": "Tablet",
                      "orientation": "v",
                      "showlegend": true,
                      "textposition": "auto",
                      "type": "bar",
                      "x": [
                        "0h",
                        "1h",
                        "2h",
                        "3h",
                        "4h",
                        "5h",
                        "6h",
                        "7h",
                        "8h",
                        "9h",
                        "10h",
                        "11h",
                        "12h",
                        "13h",
                        "14h",
                        "15h",
                        "16h",
                        "17h",
                        "18h",
                        "19h",
                        "20h",
                        "21h",
                        "22h",
                        "23h"
                      ],
                      "xaxis": "x",
                      "y": [
                        2403.3006425,
                        2917.61701,
                        3034.0765125,
                        2926.53257,
                        2968.82955,
                        3221.860495,
                        3587.6936349999996,
                        3831.5011974999998,
                        3003.4849624999997,
                        3025.9135949999995,
                        3135.6843774999998,
                        4004.3621399999993,
                        4226.611922499999,
                        4320.187379999999,
                        3992.676525,
                        4146.17817,
                        4156.23414,
                        4227.8322775,
                        4066.4475224999996,
                        4038.7941174999996,
                        2987.2916875,
                        2898.8231349999996,
                        2936.0132099999996,
                        2651.833835
                      ],
                      "yaxis": "y"
                    }
                  ],
                  "name": "2012-06"
                },
                {
                  "data": [
                    {
                      "alignmentgroup": "True",
                      "hovertemplate": "furniture_type=Entertainment<br>date=2012-07<br>hours=%{x}<br>overload=%{y}<extra></extra>",
                      "legendgroup": "Entertainment",
                      "marker": {
                        "color": "#636efa",
                        "pattern": {
                          "shape": ""
                        }
                      },
                      "name": "Entertainment",
                      "offsetgroup": "Entertainment",
                      "orientation": "v",
                      "showlegend": true,
                      "textposition": "auto",
                      "type": "bar",
                      "x": [
                        "0h",
                        "1h",
                        "2h",
                        "3h",
                        "4h",
                        "5h",
                        "6h",
                        "7h",
                        "8h",
                        "9h",
                        "10h",
                        "11h",
                        "12h",
                        "13h",
                        "14h",
                        "15h",
                        "16h",
                        "17h",
                        "18h",
                        "19h",
                        "20h",
                        "21h",
                        "22h",
                        "23h"
                      ],
                      "xaxis": "x",
                      "y": [
                        36769.22905826087,
                        36879.47024695652,
                        37170.369378260875,
                        38391.47339913044,
                        38416.27133652174,
                        38390.7767826087,
                        61756.10918608696,
                        76778.1098121739,
                        82510.42923130436,
                        52270.07349652174,
                        67133.77236695653,
                        91377.08790347827,
                        123171.28754173913,
                        196851.50371739132,
                        101666.54514521739,
                        114160.32534782609,
                        101305.67931043477,
                        113790.87344173912,
                        144079.97576347826,
                        206347.4254791304,
                        215860.76968608695,
                        264959.6827173913,
                        166071.17674086956,
                        56826.886031304355
                      ],
                      "yaxis": "y"
                    },
                    {
                      "alignmentgroup": "True",
                      "hovertemplate": "furniture_type=Freezer<br>date=2012-07<br>hours=%{x}<br>overload=%{y}<extra></extra>",
                      "legendgroup": "Freezer",
                      "marker": {
                        "color": "#EF553B",
                        "pattern": {
                          "shape": ""
                        }
                      },
                      "name": "Freezer",
                      "offsetgroup": "Freezer",
                      "orientation": "v",
                      "showlegend": true,
                      "textposition": "auto",
                      "type": "bar",
                      "x": [
                        "0h",
                        "1h",
                        "2h",
                        "3h",
                        "4h",
                        "5h",
                        "6h",
                        "7h",
                        "8h",
                        "9h",
                        "10h",
                        "11h",
                        "12h",
                        "13h",
                        "14h",
                        "15h",
                        "16h",
                        "17h",
                        "18h",
                        "19h",
                        "20h",
                        "21h",
                        "22h",
                        "23h"
                      ],
                      "xaxis": "x",
                      "y": [
                        731803.3545709677,
                        724371.5675580646,
                        717491.9157,
                        728250.920067742,
                        719211.153948387,
                        712154.36,
                        704180.2050548387,
                        695598.7875000001,
                        712708.9440741936,
                        719565.4815419355,
                        713052.9907451613,
                        706924.0119,
                        708812.0379354839,
                        719490.028335484,
                        719169.5028774193,
                        720455.8559225806,
                        730801.7117645161,
                        722125.3447354839,
                        732740.8472419354,
                        726768.1215935485,
                        730400.663967742,
                        727612.1450225807,
                        726080.7952387098,
                        715045.2169516128
                      ],
                      "yaxis": "y"
                    },
                    {
                      "alignmentgroup": "True",
                      "hovertemplate": "furniture_type=Fridge<br>date=2012-07<br>hours=%{x}<br>overload=%{y}<extra></extra>",
                      "legendgroup": "Fridge",
                      "marker": {
                        "color": "#00cc96",
                        "pattern": {
                          "shape": ""
                        }
                      },
                      "name": "Fridge",
                      "offsetgroup": "Fridge",
                      "orientation": "v",
                      "showlegend": true,
                      "textposition": "auto",
                      "type": "bar",
                      "x": [
                        "0h",
                        "1h",
                        "2h",
                        "3h",
                        "4h",
                        "5h",
                        "6h",
                        "7h",
                        "8h",
                        "9h",
                        "10h",
                        "11h",
                        "12h",
                        "13h",
                        "14h",
                        "15h",
                        "16h",
                        "17h",
                        "18h",
                        "19h",
                        "20h",
                        "21h",
                        "22h",
                        "23h"
                      ],
                      "xaxis": "x",
                      "y": [
                        98607.1653132258,
                        109349.70472645161,
                        105207.37043387098,
                        101552.14591870968,
                        108472.48595129032,
                        101777.78438774192,
                        104415.85285193549,
                        105055.40555096774,
                        104312.28966,
                        96841.82981677419,
                        107059.51288032258,
                        117288.56784548386,
                        107298.80638193547,
                        98685.38700806451,
                        104473.31624935483,
                        110889.31558677419,
                        109341.41014129031,
                        111779.28200096774,
                        116672.66367548387,
                        105793.50975387095,
                        112958.48153258064,
                        115747.8962067742,
                        106126.11394612903,
                        94038.7157835484
                      ],
                      "yaxis": "y"
                    },
                    {
                      "alignmentgroup": "True",
                      "hovertemplate": "furniture_type=KitchenAppliances<br>date=2012-07<br>hours=%{x}<br>overload=%{y}<extra></extra>",
                      "legendgroup": "KitchenAppliances",
                      "marker": {
                        "color": "#ab63fa",
                        "pattern": {
                          "shape": ""
                        }
                      },
                      "name": "KitchenAppliances",
                      "offsetgroup": "KitchenAppliances",
                      "orientation": "v",
                      "showlegend": true,
                      "textposition": "auto",
                      "type": "bar",
                      "x": [
                        "0h",
                        "1h",
                        "2h",
                        "3h",
                        "4h",
                        "5h",
                        "6h",
                        "7h",
                        "8h",
                        "9h",
                        "10h",
                        "11h",
                        "12h",
                        "13h",
                        "14h",
                        "15h",
                        "16h",
                        "17h",
                        "18h",
                        "19h",
                        "20h",
                        "21h",
                        "22h",
                        "23h"
                      ],
                      "xaxis": "x",
                      "y": [
                        2038.6689225806454,
                        2019.3202567741935,
                        2023.7960051612904,
                        2015.6902890322583,
                        1994.4596658064518,
                        7803.659936774195,
                        94471.75056580645,
                        40096.03113806452,
                        53715.58980709678,
                        2012.2717664516133,
                        4452.2702051612905,
                        3466.0551380645165,
                        34166.48273225806,
                        28474.875261935485,
                        4981.997258064516,
                        2003.1901496774196,
                        2022.816277419355,
                        9650.947712903226,
                        157773.9459083871,
                        61372.217110967744,
                        7252.834862580645,
                        2044.6056516129033,
                        2021.3514696774196,
                        2027.0069096774193
                      ],
                      "yaxis": "y"
                    },
                    {
                      "alignmentgroup": "True",
                      "hovertemplate": "furniture_type=Lamp<br>date=2012-07<br>hours=%{x}<br>overload=%{y}<extra></extra>",
                      "legendgroup": "Lamp",
                      "marker": {
                        "color": "#FFA15A",
                        "pattern": {
                          "shape": ""
                        }
                      },
                      "name": "Lamp",
                      "offsetgroup": "Lamp",
                      "orientation": "v",
                      "showlegend": true,
                      "textposition": "auto",
                      "type": "bar",
                      "x": [
                        "0h",
                        "1h",
                        "2h",
                        "3h",
                        "4h",
                        "5h",
                        "6h",
                        "7h",
                        "8h",
                        "9h",
                        "10h",
                        "11h",
                        "12h",
                        "13h",
                        "14h",
                        "15h",
                        "16h",
                        "17h",
                        "18h",
                        "19h",
                        "20h",
                        "21h",
                        "22h",
                        "23h"
                      ],
                      "xaxis": "x",
                      "y": [
                        3431.8947132258068,
                        2842.2895632258064,
                        3204.800955483871,
                        3116.0485406451617,
                        2518.6051761290323,
                        2460.7173296774195,
                        2806.2092251612903,
                        8738.418307419355,
                        7475.359715483872,
                        13880.96953967742,
                        16020.089292258066,
                        13049.241744838711,
                        13450.844581935486,
                        14328.451002903226,
                        15741.778481612904,
                        15002.859580967743,
                        18845.534992903227,
                        17121.940387741935,
                        13610.725987096775,
                        12154.130724193548,
                        14899.704626129032,
                        8047.491122580646,
                        12600.327848387098,
                        7120.677239354839
                      ],
                      "yaxis": "y"
                    },
                    {
                      "alignmentgroup": "True",
                      "hovertemplate": "furniture_type=Microwave<br>date=2012-07<br>hours=%{x}<br>overload=%{y}<extra></extra>",
                      "legendgroup": "Microwave",
                      "marker": {
                        "color": "#19d3f3",
                        "pattern": {
                          "shape": ""
                        }
                      },
                      "name": "Microwave",
                      "offsetgroup": "Microwave",
                      "orientation": "v",
                      "showlegend": true,
                      "textposition": "auto",
                      "type": "bar",
                      "x": [
                        "0h",
                        "1h",
                        "2h",
                        "3h",
                        "4h",
                        "5h",
                        "6h",
                        "7h",
                        "8h",
                        "9h",
                        "10h",
                        "11h",
                        "12h",
                        "13h",
                        "14h",
                        "15h",
                        "16h",
                        "17h",
                        "18h",
                        "19h",
                        "20h",
                        "21h",
                        "22h",
                        "23h"
                      ],
                      "xaxis": "x",
                      "y": [
                        13183.704187096775,
                        13193.796866451612,
                        13212.96650516129,
                        13053.768267741936,
                        13113.814125161289,
                        15092.671474838708,
                        18478.708831612905,
                        21317.618416129033,
                        24874.038792258063,
                        15272.695258064514,
                        55541.487361290325,
                        140189.15806258065,
                        52681.72717612903,
                        32479.09588,
                        13324.055061935484,
                        13249.020669032258,
                        43006.66093806452,
                        18887.73251548387,
                        79533.68477870968,
                        68646.06645870967,
                        28726.343780645162,
                        13231.904038709677,
                        13317.519329032259,
                        13280.972853548386
                      ],
                      "yaxis": "y"
                    },
                    {
                      "alignmentgroup": "True",
                      "hovertemplate": "furniture_type=StereoAndLaptop<br>date=2012-07<br>hours=%{x}<br>overload=%{y}<extra></extra>",
                      "legendgroup": "StereoAndLaptop",
                      "marker": {
                        "color": "#FF6692",
                        "pattern": {
                          "shape": ""
                        }
                      },
                      "name": "StereoAndLaptop",
                      "offsetgroup": "StereoAndLaptop",
                      "orientation": "v",
                      "showlegend": true,
                      "textposition": "auto",
                      "type": "bar",
                      "x": [
                        "0h",
                        "1h",
                        "2h",
                        "3h",
                        "4h",
                        "5h",
                        "6h",
                        "7h",
                        "8h",
                        "9h",
                        "10h",
                        "11h",
                        "12h",
                        "13h",
                        "14h",
                        "15h",
                        "16h",
                        "17h",
                        "18h",
                        "19h",
                        "20h",
                        "21h",
                        "22h",
                        "23h"
                      ],
                      "xaxis": "x",
                      "y": [
                        52680.33225806452,
                        52879.50171935484,
                        53067.84416129032,
                        52627.75213225807,
                        52806.42195161291,
                        52634.10271935484,
                        52699.006822580646,
                        52675.53790967742,
                        53023.969032258065,
                        53155.08611935484,
                        52988.917735483876,
                        59716.18587419355,
                        61518.26535806452,
                        61889.72975483871,
                        68567.44510967743,
                        73198.09998064517,
                        68214.60561612903,
                        67234.07843225807,
                        73361.53953870967,
                        80542.35622258064,
                        91101.2876516129,
                        108527.36586451613,
                        83439.5216419355,
                        60303.98677096774
                      ],
                      "yaxis": "y"
                    },
                    {
                      "alignmentgroup": "True",
                      "hovertemplate": "furniture_type=Tablet<br>date=2012-07<br>hours=%{x}<br>overload=%{y}<extra></extra>",
                      "legendgroup": "Tablet",
                      "marker": {
                        "color": "#B6E880",
                        "pattern": {
                          "shape": ""
                        }
                      },
                      "name": "Tablet",
                      "offsetgroup": "Tablet",
                      "orientation": "v",
                      "showlegend": true,
                      "textposition": "auto",
                      "type": "bar",
                      "x": [
                        "0h",
                        "1h",
                        "2h",
                        "3h",
                        "4h",
                        "5h",
                        "6h",
                        "7h",
                        "8h",
                        "9h",
                        "10h",
                        "11h",
                        "12h",
                        "13h",
                        "14h",
                        "15h",
                        "16h",
                        "17h",
                        "18h",
                        "19h",
                        "20h",
                        "21h",
                        "22h",
                        "23h"
                      ],
                      "xaxis": "x",
                      "y": [
                        3730.039281612903,
                        3716.7100248387096,
                        3718.6479658064513,
                        3765.052881612903,
                        3681.5041780645156,
                        3809.4167899999998,
                        3744.4985667741935,
                        3803.816814516129,
                        3978.8002187096768,
                        4048.755739354838,
                        3849.4428241935484,
                        3727.1278512903223,
                        3741.7110541935485,
                        3858.7462722580644,
                        3868.007620645161,
                        3841.6654919354833,
                        3842.652734838709,
                        3899.397626774193,
                        3873.216093225806,
                        3874.5787048387097,
                        3795.681041935484,
                        3698.8863548387094,
                        3856.0729358064514,
                        3755.7945748387097
                      ],
                      "yaxis": "y"
                    }
                  ],
                  "name": "2012-07"
                },
                {
                  "data": [
                    {
                      "alignmentgroup": "True",
                      "hovertemplate": "furniture_type=Entertainment<br>date=2012-08<br>hours=%{x}<br>overload=%{y}<extra></extra>",
                      "legendgroup": "Entertainment",
                      "marker": {
                        "color": "#636efa",
                        "pattern": {
                          "shape": ""
                        }
                      },
                      "name": "Entertainment",
                      "offsetgroup": "Entertainment",
                      "orientation": "v",
                      "showlegend": true,
                      "textposition": "auto",
                      "type": "bar",
                      "x": [
                        "0h",
                        "1h",
                        "2h",
                        "3h",
                        "4h",
                        "5h",
                        "6h",
                        "7h",
                        "8h",
                        "9h",
                        "10h",
                        "11h",
                        "12h",
                        "13h",
                        "14h",
                        "15h",
                        "16h",
                        "17h",
                        "18h",
                        "19h",
                        "20h",
                        "21h",
                        "22h",
                        "23h"
                      ],
                      "xaxis": "x",
                      "y": [
                        39449.55694,
                        39464.881910322576,
                        39494.53945354839,
                        39529.794089032264,
                        39534.98745612903,
                        39128.34148064516,
                        69698.58681548387,
                        83960.69631741935,
                        61747.397439354834,
                        52606.73881806452,
                        59524.396129677414,
                        112114.09123870968,
                        92442.25510580646,
                        249511.9796516129,
                        177539.47951225808,
                        110532.91268645161,
                        121980.92562258065,
                        134243.61464387097,
                        143767.37349483868,
                        206854.00594451613,
                        181428.6352496774,
                        173891.97880645163,
                        72383.99863806451,
                        44237.2165316129
                      ],
                      "yaxis": "y"
                    },
                    {
                      "alignmentgroup": "True",
                      "hovertemplate": "furniture_type=Freezer<br>date=2012-08<br>hours=%{x}<br>overload=%{y}<extra></extra>",
                      "legendgroup": "Freezer",
                      "marker": {
                        "color": "#EF553B",
                        "pattern": {
                          "shape": ""
                        }
                      },
                      "name": "Freezer",
                      "offsetgroup": "Freezer",
                      "orientation": "v",
                      "showlegend": true,
                      "textposition": "auto",
                      "type": "bar",
                      "x": [
                        "0h",
                        "1h",
                        "2h",
                        "3h",
                        "4h",
                        "5h",
                        "6h",
                        "7h",
                        "8h",
                        "9h",
                        "10h",
                        "11h",
                        "12h",
                        "13h",
                        "14h",
                        "15h",
                        "16h",
                        "17h",
                        "18h",
                        "19h",
                        "20h",
                        "21h",
                        "22h",
                        "23h"
                      ],
                      "xaxis": "x",
                      "y": [
                        746516.3523903226,
                        745473.6660419356,
                        757894.6546741936,
                        767111.226816129,
                        729920.326432258,
                        749789.6970645161,
                        738243.2962483871,
                        727909.8490419355,
                        740764.0914612903,
                        739072.1159483871,
                        737788.2113387097,
                        753150.2112322581,
                        745285.6238258064,
                        751188.8706612902,
                        776320.3172096774,
                        750727.2866774194,
                        730756.4664096774,
                        757978.5670225807,
                        764224.0949290323,
                        744420.4916935484,
                        741395.5657580645,
                        759644.4221290322,
                        768822.9834387096,
                        756659.6137612903
                      ],
                      "yaxis": "y"
                    },
                    {
                      "alignmentgroup": "True",
                      "hovertemplate": "furniture_type=Fridge<br>date=2012-08<br>hours=%{x}<br>overload=%{y}<extra></extra>",
                      "legendgroup": "Fridge",
                      "marker": {
                        "color": "#00cc96",
                        "pattern": {
                          "shape": ""
                        }
                      },
                      "name": "Fridge",
                      "offsetgroup": "Fridge",
                      "orientation": "v",
                      "showlegend": true,
                      "textposition": "auto",
                      "type": "bar",
                      "x": [
                        "0h",
                        "1h",
                        "2h",
                        "3h",
                        "4h",
                        "5h",
                        "6h",
                        "7h",
                        "8h",
                        "9h",
                        "10h",
                        "11h",
                        "12h",
                        "13h",
                        "14h",
                        "15h",
                        "16h",
                        "17h",
                        "18h",
                        "19h",
                        "20h",
                        "21h",
                        "22h",
                        "23h"
                      ],
                      "xaxis": "x",
                      "y": [
                        136453.58317838708,
                        104979.8600196774,
                        102042.58937,
                        125481.8812216129,
                        129077.5803416129,
                        115089.90876741936,
                        130226.78905290322,
                        116092.00634548387,
                        117204.23057612903,
                        117398.47533741935,
                        121946.10614032258,
                        140177.34424580645,
                        135554.59455806453,
                        120044.86276387096,
                        126685.08471290322,
                        122959.36645419354,
                        127147.17852354838,
                        133899.94612032257,
                        143665.47579677418,
                        149967.45828806452,
                        130173.97857516128,
                        107941.8962148387,
                        121358.62203032257,
                        135713.3284164516
                      ],
                      "yaxis": "y"
                    },
                    {
                      "alignmentgroup": "True",
                      "hovertemplate": "furniture_type=KitchenAppliances<br>date=2012-08<br>hours=%{x}<br>overload=%{y}<extra></extra>",
                      "legendgroup": "KitchenAppliances",
                      "marker": {
                        "color": "#ab63fa",
                        "pattern": {
                          "shape": ""
                        }
                      },
                      "name": "KitchenAppliances",
                      "offsetgroup": "KitchenAppliances",
                      "orientation": "v",
                      "showlegend": true,
                      "textposition": "auto",
                      "type": "bar",
                      "x": [
                        "0h",
                        "1h",
                        "2h",
                        "3h",
                        "4h",
                        "5h",
                        "6h",
                        "7h",
                        "8h",
                        "9h",
                        "10h",
                        "11h",
                        "12h",
                        "13h",
                        "14h",
                        "15h",
                        "16h",
                        "17h",
                        "18h",
                        "19h",
                        "20h",
                        "21h",
                        "22h",
                        "23h"
                      ],
                      "xaxis": "x",
                      "y": [
                        1205.4353690322582,
                        1192.7917148387098,
                        1202.1527070967743,
                        1193.6317548387096,
                        1203.6156012903227,
                        1165.7602232258066,
                        155896.5112070968,
                        13355.870387741934,
                        86546.80464645161,
                        31013.125853548387,
                        5292.925264516129,
                        22640.55378967742,
                        58484.67134580645,
                        5914.529312903226,
                        36601.540025806455,
                        5317.166619354838,
                        18825.43041225806,
                        51888.638246451614,
                        232266.23298516127,
                        42054.11322,
                        1108.558092903226,
                        1098.294870967742,
                        1191.8856580645163,
                        1205.5750567741936
                      ],
                      "yaxis": "y"
                    },
                    {
                      "alignmentgroup": "True",
                      "hovertemplate": "furniture_type=Lamp<br>date=2012-08<br>hours=%{x}<br>overload=%{y}<extra></extra>",
                      "legendgroup": "Lamp",
                      "marker": {
                        "color": "#FFA15A",
                        "pattern": {
                          "shape": ""
                        }
                      },
                      "name": "Lamp",
                      "offsetgroup": "Lamp",
                      "orientation": "v",
                      "showlegend": true,
                      "textposition": "auto",
                      "type": "bar",
                      "x": [
                        "0h",
                        "1h",
                        "2h",
                        "3h",
                        "4h",
                        "5h",
                        "6h",
                        "7h",
                        "8h",
                        "9h",
                        "10h",
                        "11h",
                        "12h",
                        "13h",
                        "14h",
                        "15h",
                        "16h",
                        "17h",
                        "18h",
                        "19h",
                        "20h",
                        "21h",
                        "22h",
                        "23h"
                      ],
                      "xaxis": "x",
                      "y": [
                        4081.0642425806454,
                        3487.09450967742,
                        2815.3621193548393,
                        4773.750155483871,
                        2168.8295496774194,
                        2172.2253451612905,
                        3063.497988387097,
                        12869.47962967742,
                        9406.770250000001,
                        13861.46040967742,
                        18589.830357419356,
                        13919.422666451614,
                        13108.625018064517,
                        16351.394196774194,
                        11848.548373548387,
                        14358.546170322581,
                        22534.803108387096,
                        23702.482880322583,
                        28246.968816774195,
                        24439.052746129033,
                        16172.109438064517,
                        13196.647012580646,
                        22435.818150645162,
                        4132.124086451613
                      ],
                      "yaxis": "y"
                    },
                    {
                      "alignmentgroup": "True",
                      "hovertemplate": "furniture_type=Microwave<br>date=2012-08<br>hours=%{x}<br>overload=%{y}<extra></extra>",
                      "legendgroup": "Microwave",
                      "marker": {
                        "color": "#19d3f3",
                        "pattern": {
                          "shape": ""
                        }
                      },
                      "name": "Microwave",
                      "offsetgroup": "Microwave",
                      "orientation": "v",
                      "showlegend": true,
                      "textposition": "auto",
                      "type": "bar",
                      "x": [
                        "0h",
                        "1h",
                        "2h",
                        "3h",
                        "4h",
                        "5h",
                        "6h",
                        "7h",
                        "8h",
                        "9h",
                        "10h",
                        "11h",
                        "12h",
                        "13h",
                        "14h",
                        "15h",
                        "16h",
                        "17h",
                        "18h",
                        "19h",
                        "20h",
                        "21h",
                        "22h",
                        "23h"
                      ],
                      "xaxis": "x",
                      "y": [
                        13384.019874838708,
                        13341.259664516128,
                        13350.975124516128,
                        13263.720840645161,
                        13314.310963225806,
                        13280.577054193547,
                        37049.73372645161,
                        52228.56708967742,
                        33187.22068645161,
                        24868.50264129032,
                        82594.83325483871,
                        334348.1470335484,
                        297742.43831096776,
                        32261.70471096774,
                        18954.56542516129,
                        13414.254374193548,
                        19402.156688387095,
                        113283.00475096775,
                        296872.1908516129,
                        35377.99492774193,
                        16223.451731612904,
                        13268.224182580645,
                        16345.596474193548,
                        13420.276776129032
                      ],
                      "yaxis": "y"
                    },
                    {
                      "alignmentgroup": "True",
                      "hovertemplate": "furniture_type=StereoAndLaptop<br>date=2012-08<br>hours=%{x}<br>overload=%{y}<extra></extra>",
                      "legendgroup": "StereoAndLaptop",
                      "marker": {
                        "color": "#FF6692",
                        "pattern": {
                          "shape": ""
                        }
                      },
                      "name": "StereoAndLaptop",
                      "offsetgroup": "StereoAndLaptop",
                      "orientation": "v",
                      "showlegend": true,
                      "textposition": "auto",
                      "type": "bar",
                      "x": [
                        "0h",
                        "1h",
                        "2h",
                        "3h",
                        "4h",
                        "5h",
                        "6h",
                        "7h",
                        "8h",
                        "9h",
                        "10h",
                        "11h",
                        "12h",
                        "13h",
                        "14h",
                        "15h",
                        "16h",
                        "17h",
                        "18h",
                        "19h",
                        "20h",
                        "21h",
                        "22h",
                        "23h"
                      ],
                      "xaxis": "x",
                      "y": [
                        52176.15269354839,
                        52602.038080645165,
                        57268.21463870968,
                        53703.44082580645,
                        52431.58617096774,
                        51835.88743225807,
                        51353.92401935484,
                        51678.485309677424,
                        51741.36579032258,
                        50756.17991935484,
                        55101.33121290323,
                        60305.46240967742,
                        57380.97642903226,
                        59163.94421935484,
                        66373.82516774195,
                        65639.90542903225,
                        75312.06910000001,
                        89308.05400645162,
                        85263.53120322581,
                        91764.21071935484,
                        103670.48009999999,
                        101200.9320483871,
                        82436.4214451613,
                        54810.57298129032
                      ],
                      "yaxis": "y"
                    },
                    {
                      "alignmentgroup": "True",
                      "hovertemplate": "furniture_type=Tablet<br>date=2012-08<br>hours=%{x}<br>overload=%{y}<extra></extra>",
                      "legendgroup": "Tablet",
                      "marker": {
                        "color": "#B6E880",
                        "pattern": {
                          "shape": ""
                        }
                      },
                      "name": "Tablet",
                      "offsetgroup": "Tablet",
                      "orientation": "v",
                      "showlegend": true,
                      "textposition": "auto",
                      "type": "bar",
                      "x": [
                        "0h",
                        "1h",
                        "2h",
                        "3h",
                        "4h",
                        "5h",
                        "6h",
                        "7h",
                        "8h",
                        "9h",
                        "10h",
                        "11h",
                        "12h",
                        "13h",
                        "14h",
                        "15h",
                        "16h",
                        "17h",
                        "18h",
                        "19h",
                        "20h",
                        "21h",
                        "22h",
                        "23h"
                      ],
                      "xaxis": "x",
                      "y": [
                        3612.671191612903,
                        3650.202823225806,
                        3626.6916287096774,
                        3705.871203548387,
                        3534.0129445161288,
                        3603.3242335483865,
                        3687.4238445161286,
                        3978.990084838709,
                        3810.591562580645,
                        3773.4224709677414,
                        3793.546048709677,
                        3738.4477080645156,
                        4122.638145483871,
                        4072.849977741935,
                        4002.1712280645156,
                        3874.295558064516,
                        4065.907492580645,
                        4049.30043,
                        3897.036222580645,
                        3783.713117741935,
                        3670.2570580645156,
                        3718.3672438709673,
                        3879.539738387097,
                        3640.620813548387
                      ],
                      "yaxis": "y"
                    }
                  ],
                  "name": "2012-08"
                },
                {
                  "data": [
                    {
                      "alignmentgroup": "True",
                      "hovertemplate": "furniture_type=Entertainment<br>date=2012-09<br>hours=%{x}<br>overload=%{y}<extra></extra>",
                      "legendgroup": "Entertainment",
                      "marker": {
                        "color": "#636efa",
                        "pattern": {
                          "shape": ""
                        }
                      },
                      "name": "Entertainment",
                      "offsetgroup": "Entertainment",
                      "orientation": "v",
                      "showlegend": true,
                      "textposition": "auto",
                      "type": "bar",
                      "x": [
                        "0h",
                        "1h",
                        "2h",
                        "3h",
                        "4h",
                        "5h",
                        "6h",
                        "7h",
                        "8h",
                        "9h",
                        "10h",
                        "11h",
                        "12h",
                        "13h",
                        "14h",
                        "15h",
                        "16h",
                        "17h",
                        "18h",
                        "19h",
                        "20h",
                        "21h",
                        "22h",
                        "23h"
                      ],
                      "xaxis": "x",
                      "y": [
                        34934.9351144,
                        35668.737257600005,
                        35904.4764056,
                        35831.4264304,
                        38248.595259199996,
                        35609.084936800005,
                        68449.8562752,
                        99349.0194912,
                        102444.77011119999,
                        88459.9938552,
                        87700.5801584,
                        95696.7731488,
                        113181.115688,
                        283638.586648,
                        195984.29218800002,
                        154094.952624,
                        100369.2101104,
                        140658.9060744,
                        239023.39602880002,
                        335078.6082288,
                        340273.618896,
                        331485.7580288,
                        115045.6168928,
                        38506.797752
                      ],
                      "yaxis": "y"
                    },
                    {
                      "alignmentgroup": "True",
                      "hovertemplate": "furniture_type=Freezer<br>date=2012-09<br>hours=%{x}<br>overload=%{y}<extra></extra>",
                      "legendgroup": "Freezer",
                      "marker": {
                        "color": "#EF553B",
                        "pattern": {
                          "shape": ""
                        }
                      },
                      "name": "Freezer",
                      "offsetgroup": "Freezer",
                      "orientation": "v",
                      "showlegend": true,
                      "textposition": "auto",
                      "type": "bar",
                      "x": [
                        "0h",
                        "1h",
                        "2h",
                        "3h",
                        "4h",
                        "5h",
                        "6h",
                        "7h",
                        "8h",
                        "9h",
                        "10h",
                        "11h",
                        "12h",
                        "13h",
                        "14h",
                        "15h",
                        "16h",
                        "17h",
                        "18h",
                        "19h",
                        "20h",
                        "21h",
                        "22h",
                        "23h"
                      ],
                      "xaxis": "x",
                      "y": [
                        643191.733276,
                        672538.572684,
                        646609.526736,
                        664135.005444,
                        649708.905572,
                        672981.517228,
                        650281.4476160001,
                        649239.19382,
                        646506.4938,
                        603491.268528,
                        603940.251608,
                        632371.3032119999,
                        618401.350592,
                        645167.4176119999,
                        647482.096772,
                        619719.1893879999,
                        636106.049448,
                        818180.244796,
                        660961.990352,
                        673593.07204,
                        651324.7046599999,
                        669262.512904,
                        677356.589084,
                        685749.3798880001
                      ],
                      "yaxis": "y"
                    },
                    {
                      "alignmentgroup": "True",
                      "hovertemplate": "furniture_type=Fridge<br>date=2012-09<br>hours=%{x}<br>overload=%{y}<extra></extra>",
                      "legendgroup": "Fridge",
                      "marker": {
                        "color": "#00cc96",
                        "pattern": {
                          "shape": ""
                        }
                      },
                      "name": "Fridge",
                      "offsetgroup": "Fridge",
                      "orientation": "v",
                      "showlegend": true,
                      "textposition": "auto",
                      "type": "bar",
                      "x": [
                        "0h",
                        "1h",
                        "2h",
                        "3h",
                        "4h",
                        "5h",
                        "6h",
                        "7h",
                        "8h",
                        "9h",
                        "10h",
                        "11h",
                        "12h",
                        "13h",
                        "14h",
                        "15h",
                        "16h",
                        "17h",
                        "18h",
                        "19h",
                        "20h",
                        "21h",
                        "22h",
                        "23h"
                      ],
                      "xaxis": "x",
                      "y": [
                        99817.52246759999,
                        78445.227072,
                        85997.46363399999,
                        92605.69128039999,
                        66129.483104,
                        98149.53686559999,
                        93397.35085640001,
                        83856.3279464,
                        70935.0193192,
                        91879.800628,
                        89863.02610959999,
                        84001.7660808,
                        82121.3973352,
                        85845.303762,
                        91395.84804479999,
                        83601.7811476,
                        77029.18560879999,
                        99519.28932839999,
                        108859.11073680001,
                        85102.72062240001,
                        92403.2224536,
                        94633.8613532,
                        89322.14935240001,
                        77113.2599572
                      ],
                      "yaxis": "y"
                    },
                    {
                      "alignmentgroup": "True",
                      "hovertemplate": "furniture_type=KitchenAppliances<br>date=2012-09<br>hours=%{x}<br>overload=%{y}<extra></extra>",
                      "legendgroup": "KitchenAppliances",
                      "marker": {
                        "color": "#ab63fa",
                        "pattern": {
                          "shape": ""
                        }
                      },
                      "name": "KitchenAppliances",
                      "offsetgroup": "KitchenAppliances",
                      "orientation": "v",
                      "showlegend": true,
                      "textposition": "auto",
                      "type": "bar",
                      "x": [
                        "0h",
                        "1h",
                        "2h",
                        "3h",
                        "4h",
                        "5h",
                        "6h",
                        "7h",
                        "8h",
                        "9h",
                        "10h",
                        "11h",
                        "12h",
                        "13h",
                        "14h",
                        "15h",
                        "16h",
                        "17h",
                        "18h",
                        "19h",
                        "20h",
                        "21h",
                        "22h",
                        "23h"
                      ],
                      "xaxis": "x",
                      "y": [
                        1773.3502736,
                        1739.4847984,
                        1760.8813248000004,
                        1731.7768288,
                        13500.553297600001,
                        1754.2944928000004,
                        183327.02097679998,
                        48265.9611912,
                        33733.2290776,
                        26346.7341952,
                        1606.1133152,
                        1673.0600624,
                        1720.8691680000002,
                        1660.7595808,
                        5880.5221984,
                        11712.856538400001,
                        41057.5828216,
                        57141.60247440001,
                        347691.69554800005,
                        12023.055280800001,
                        1767.8964432000002,
                        1764.2566016000003,
                        1778.7174976000001,
                        1760.0105152
                      ],
                      "yaxis": "y"
                    },
                    {
                      "alignmentgroup": "True",
                      "hovertemplate": "furniture_type=Lamp<br>date=2012-09<br>hours=%{x}<br>overload=%{y}<extra></extra>",
                      "legendgroup": "Lamp",
                      "marker": {
                        "color": "#FFA15A",
                        "pattern": {
                          "shape": ""
                        }
                      },
                      "name": "Lamp",
                      "offsetgroup": "Lamp",
                      "orientation": "v",
                      "showlegend": true,
                      "textposition": "auto",
                      "type": "bar",
                      "x": [
                        "0h",
                        "1h",
                        "2h",
                        "3h",
                        "4h",
                        "5h",
                        "6h",
                        "7h",
                        "8h",
                        "9h",
                        "10h",
                        "11h",
                        "12h",
                        "13h",
                        "14h",
                        "15h",
                        "16h",
                        "17h",
                        "18h",
                        "19h",
                        "20h",
                        "21h",
                        "22h",
                        "23h"
                      ],
                      "xaxis": "x",
                      "y": [
                        3567.9478616,
                        3172.2720016000003,
                        2018.3105536,
                        3252.8125624000004,
                        4846.6808136,
                        2038.7373472000002,
                        3300.076772,
                        9008.843165600001,
                        6595.164990800001,
                        4943.8450908,
                        9227.0914016,
                        18795.9548748,
                        16011.5081976,
                        13920.40442,
                        14508.786296400001,
                        10494.7112152,
                        19894.4921676,
                        26005.35193,
                        25642.647206,
                        12780.1495172,
                        15952.4573016,
                        15821.4197968,
                        16891.554716,
                        5250.009984800001
                      ],
                      "yaxis": "y"
                    },
                    {
                      "alignmentgroup": "True",
                      "hovertemplate": "furniture_type=Microwave<br>date=2012-09<br>hours=%{x}<br>overload=%{y}<extra></extra>",
                      "legendgroup": "Microwave",
                      "marker": {
                        "color": "#19d3f3",
                        "pattern": {
                          "shape": ""
                        }
                      },
                      "name": "Microwave",
                      "offsetgroup": "Microwave",
                      "orientation": "v",
                      "showlegend": true,
                      "textposition": "auto",
                      "type": "bar",
                      "x": [
                        "0h",
                        "1h",
                        "2h",
                        "3h",
                        "4h",
                        "5h",
                        "6h",
                        "7h",
                        "8h",
                        "9h",
                        "10h",
                        "11h",
                        "12h",
                        "13h",
                        "14h",
                        "15h",
                        "16h",
                        "17h",
                        "18h",
                        "19h",
                        "20h",
                        "21h",
                        "22h",
                        "23h"
                      ],
                      "xaxis": "x",
                      "y": [
                        12232.694368,
                        12155.952900799999,
                        15886.6149352,
                        13912.279356,
                        13894.364934399999,
                        12177.4898264,
                        25703.425239999997,
                        20506.670636,
                        21571.5874344,
                        24733.966787999998,
                        119889.4544224,
                        420179.246024,
                        84668.98637120001,
                        15313.621208800001,
                        11749.610896,
                        16084.321278399999,
                        11802.65008,
                        106341.4669376,
                        236976.9595528,
                        18453.1804336,
                        33684.0445728,
                        21658.416754399997,
                        16628.8555792,
                        14664.9595648
                      ],
                      "yaxis": "y"
                    },
                    {
                      "alignmentgroup": "True",
                      "hovertemplate": "furniture_type=StereoAndLaptop<br>date=2012-09<br>hours=%{x}<br>overload=%{y}<extra></extra>",
                      "legendgroup": "StereoAndLaptop",
                      "marker": {
                        "color": "#FF6692",
                        "pattern": {
                          "shape": ""
                        }
                      },
                      "name": "StereoAndLaptop",
                      "offsetgroup": "StereoAndLaptop",
                      "orientation": "v",
                      "showlegend": true,
                      "textposition": "auto",
                      "type": "bar",
                      "x": [
                        "0h",
                        "1h",
                        "2h",
                        "3h",
                        "4h",
                        "5h",
                        "6h",
                        "7h",
                        "8h",
                        "9h",
                        "10h",
                        "11h",
                        "12h",
                        "13h",
                        "14h",
                        "15h",
                        "16h",
                        "17h",
                        "18h",
                        "19h",
                        "20h",
                        "21h",
                        "22h",
                        "23h"
                      ],
                      "xaxis": "x",
                      "y": [
                        57609.217948000005,
                        46798.101884,
                        42737.10048,
                        42618.847052,
                        42760.613896,
                        42465.58718,
                        42147.129076000005,
                        41494.906436,
                        45901.951440000004,
                        42175.289676,
                        43356.3957,
                        56007.100208,
                        56675.528152,
                        63559.017572,
                        61065.478087999996,
                        57527.609840000005,
                        75770.05716,
                        85841.35363600001,
                        82109.241584,
                        82353.460364,
                        63990.69966800001,
                        60083.309995999996,
                        71939.938656,
                        78178.580764
                      ],
                      "yaxis": "y"
                    },
                    {
                      "alignmentgroup": "True",
                      "hovertemplate": "furniture_type=Tablet<br>date=2012-09<br>hours=%{x}<br>overload=%{y}<extra></extra>",
                      "legendgroup": "Tablet",
                      "marker": {
                        "color": "#B6E880",
                        "pattern": {
                          "shape": ""
                        }
                      },
                      "name": "Tablet",
                      "offsetgroup": "Tablet",
                      "orientation": "v",
                      "showlegend": true,
                      "textposition": "auto",
                      "type": "bar",
                      "x": [
                        "0h",
                        "1h",
                        "2h",
                        "3h",
                        "4h",
                        "5h",
                        "6h",
                        "7h",
                        "8h",
                        "9h",
                        "10h",
                        "11h",
                        "12h",
                        "13h",
                        "14h",
                        "15h",
                        "16h",
                        "17h",
                        "18h",
                        "19h",
                        "20h",
                        "21h",
                        "22h",
                        "23h"
                      ],
                      "xaxis": "x",
                      "y": [
                        3594.308014,
                        3662.06627,
                        3740.2557311999994,
                        3637.6727839999994,
                        3715.0262815999995,
                        3758.3770031999993,
                        3772.4056996,
                        3532.5754955999996,
                        3534.75907,
                        3384.8536312,
                        3375.2334083999995,
                        3487.2588136,
                        3700.4469075999996,
                        3725.6407171999995,
                        3902.9763431999995,
                        3629.5201024,
                        3900.9505819999995,
                        4147.6816796,
                        3906.7647192,
                        3716.0650999999993,
                        3757.9673027999997,
                        3819.7994171999994,
                        3677.6847347999997,
                        3691.8729932
                      ],
                      "yaxis": "y"
                    }
                  ],
                  "name": "2012-09"
                },
                {
                  "data": [
                    {
                      "alignmentgroup": "True",
                      "hovertemplate": "furniture_type=Entertainment<br>date=2012-10<br>hours=%{x}<br>overload=%{y}<extra></extra>",
                      "legendgroup": "Entertainment",
                      "marker": {
                        "color": "#636efa",
                        "pattern": {
                          "shape": ""
                        }
                      },
                      "name": "Entertainment",
                      "offsetgroup": "Entertainment",
                      "orientation": "v",
                      "showlegend": true,
                      "textposition": "auto",
                      "type": "bar",
                      "x": [
                        "0h",
                        "1h",
                        "2h",
                        "3h",
                        "4h",
                        "5h",
                        "6h",
                        "7h",
                        "8h",
                        "9h",
                        "10h",
                        "11h",
                        "12h",
                        "13h",
                        "14h",
                        "15h",
                        "16h",
                        "17h",
                        "18h",
                        "19h",
                        "20h",
                        "21h",
                        "22h",
                        "23h"
                      ],
                      "xaxis": "x",
                      "y": [
                        39648.141024799996,
                        37208.0264944,
                        37430.083801600005,
                        37417.5817944,
                        37386.246556,
                        37008.54648,
                        57078.460842399996,
                        68388.64390560001,
                        84011.221808,
                        92355.4368368,
                        90868.3421888,
                        120599.7113216,
                        127394.39667439999,
                        228448.414128,
                        156105.1774016,
                        98357.160432,
                        83834.3206904,
                        124570.2273304,
                        182816.08477279998,
                        284816.560344,
                        332389.5380576,
                        324217.7175344,
                        148772.1052912,
                        53669.599304
                      ],
                      "yaxis": "y"
                    },
                    {
                      "alignmentgroup": "True",
                      "hovertemplate": "furniture_type=Freezer<br>date=2012-10<br>hours=%{x}<br>overload=%{y}<extra></extra>",
                      "legendgroup": "Freezer",
                      "marker": {
                        "color": "#EF553B",
                        "pattern": {
                          "shape": ""
                        }
                      },
                      "name": "Freezer",
                      "offsetgroup": "Freezer",
                      "orientation": "v",
                      "showlegend": true,
                      "textposition": "auto",
                      "type": "bar",
                      "x": [
                        "0h",
                        "1h",
                        "2h",
                        "3h",
                        "4h",
                        "5h",
                        "6h",
                        "7h",
                        "8h",
                        "9h",
                        "10h",
                        "11h",
                        "12h",
                        "13h",
                        "14h",
                        "15h",
                        "16h",
                        "17h",
                        "18h",
                        "19h",
                        "20h",
                        "21h",
                        "22h",
                        "23h"
                      ],
                      "xaxis": "x",
                      "y": [
                        749107.684624,
                        708837.6134520001,
                        737763.9964000001,
                        715789.9057799999,
                        730507.5368080001,
                        703045.374772,
                        722413.203952,
                        692463.318696,
                        691559.40716,
                        702770.1759639999,
                        707050.015072,
                        702152.913928,
                        679529.0385799999,
                        726603.4032320001,
                        677324.297852,
                        724332.748656,
                        690452.1573440001,
                        709497.726056,
                        696805.3182600001,
                        706972.573444,
                        674913.3343799999,
                        726776.413136,
                        662520.6112319999,
                        681489.04154
                      ],
                      "yaxis": "y"
                    },
                    {
                      "alignmentgroup": "True",
                      "hovertemplate": "furniture_type=Fridge<br>date=2012-10<br>hours=%{x}<br>overload=%{y}<extra></extra>",
                      "legendgroup": "Fridge",
                      "marker": {
                        "color": "#00cc96",
                        "pattern": {
                          "shape": ""
                        }
                      },
                      "name": "Fridge",
                      "offsetgroup": "Fridge",
                      "orientation": "v",
                      "showlegend": true,
                      "textposition": "auto",
                      "type": "bar",
                      "x": [
                        "0h",
                        "1h",
                        "2h",
                        "3h",
                        "4h",
                        "5h",
                        "6h",
                        "7h",
                        "8h",
                        "9h",
                        "10h",
                        "11h",
                        "12h",
                        "13h",
                        "14h",
                        "15h",
                        "16h",
                        "17h",
                        "18h",
                        "19h",
                        "20h",
                        "21h",
                        "22h",
                        "23h"
                      ],
                      "xaxis": "x",
                      "y": [
                        84692.04253240001,
                        96963.5613156,
                        86572.74065200001,
                        85869.2503384,
                        96080.6861532,
                        73508.40058399999,
                        105135.4303888,
                        82387.07875439999,
                        98239.276404,
                        94990.8545072,
                        74411.3149876,
                        101863.7492836,
                        106036.02952,
                        79455.19026959999,
                        88628.9005104,
                        104329.3674272,
                        88010.7028836,
                        98085.30454119999,
                        95002.579232,
                        100486.0206848,
                        100419.95868960001,
                        80367.05619799999,
                        94165.27434399999,
                        87917.8986744
                      ],
                      "yaxis": "y"
                    },
                    {
                      "alignmentgroup": "True",
                      "hovertemplate": "furniture_type=KitchenAppliances<br>date=2012-10<br>hours=%{x}<br>overload=%{y}<extra></extra>",
                      "legendgroup": "KitchenAppliances",
                      "marker": {
                        "color": "#ab63fa",
                        "pattern": {
                          "shape": ""
                        }
                      },
                      "name": "KitchenAppliances",
                      "offsetgroup": "KitchenAppliances",
                      "orientation": "v",
                      "showlegend": true,
                      "textposition": "auto",
                      "type": "bar",
                      "x": [
                        "0h",
                        "1h",
                        "2h",
                        "3h",
                        "4h",
                        "5h",
                        "6h",
                        "7h",
                        "8h",
                        "9h",
                        "10h",
                        "11h",
                        "12h",
                        "13h",
                        "14h",
                        "15h",
                        "16h",
                        "17h",
                        "18h",
                        "19h",
                        "20h",
                        "21h",
                        "22h",
                        "23h"
                      ],
                      "xaxis": "x",
                      "y": [
                        1066.7298424,
                        1061.2724528,
                        1064.2989312,
                        1069.1560080000002,
                        1073.053296,
                        1064.9075488,
                        123472.6365152,
                        52668.050983199995,
                        123860.3724216,
                        1993.0259192,
                        1073.3131152,
                        25881.116672,
                        1101.9798336000001,
                        8022.232824000001,
                        7725.4375496,
                        1035.6345856,
                        1023.8608608000001,
                        24533.757596,
                        247454.0104104,
                        84444.5748712,
                        984.8808624000001,
                        1007.836304,
                        989.4757472,
                        993.0289824000001
                      ],
                      "yaxis": "y"
                    },
                    {
                      "alignmentgroup": "True",
                      "hovertemplate": "furniture_type=Lamp<br>date=2012-10<br>hours=%{x}<br>overload=%{y}<extra></extra>",
                      "legendgroup": "Lamp",
                      "marker": {
                        "color": "#FFA15A",
                        "pattern": {
                          "shape": ""
                        }
                      },
                      "name": "Lamp",
                      "offsetgroup": "Lamp",
                      "orientation": "v",
                      "showlegend": true,
                      "textposition": "auto",
                      "type": "bar",
                      "x": [
                        "0h",
                        "1h",
                        "2h",
                        "3h",
                        "4h",
                        "5h",
                        "6h",
                        "7h",
                        "8h",
                        "9h",
                        "10h",
                        "11h",
                        "12h",
                        "13h",
                        "14h",
                        "15h",
                        "16h",
                        "17h",
                        "18h",
                        "19h",
                        "20h",
                        "21h",
                        "22h",
                        "23h"
                      ],
                      "xaxis": "x",
                      "y": [
                        2186.8569096,
                        3825.712748,
                        3285.1520552,
                        2166.0464424,
                        2155.564272,
                        2110.1415336,
                        2937.1150920000005,
                        20159.2208312,
                        15408.4310524,
                        20112.481462400003,
                        25531.7098456,
                        30429.555455200003,
                        21751.473918400003,
                        12945.398452400002,
                        21766.377186,
                        34024.8097132,
                        26146.242758400003,
                        27532.873085600004,
                        34565.6825972,
                        21092.777210400003,
                        17987.429711200002,
                        15420.807281599999,
                        21176.1832384,
                        4924.6136212
                      ],
                      "yaxis": "y"
                    },
                    {
                      "alignmentgroup": "True",
                      "hovertemplate": "furniture_type=Microwave<br>date=2012-10<br>hours=%{x}<br>overload=%{y}<extra></extra>",
                      "legendgroup": "Microwave",
                      "marker": {
                        "color": "#19d3f3",
                        "pattern": {
                          "shape": ""
                        }
                      },
                      "name": "Microwave",
                      "offsetgroup": "Microwave",
                      "orientation": "v",
                      "showlegend": true,
                      "textposition": "auto",
                      "type": "bar",
                      "x": [
                        "0h",
                        "1h",
                        "2h",
                        "3h",
                        "4h",
                        "5h",
                        "6h",
                        "7h",
                        "8h",
                        "9h",
                        "10h",
                        "11h",
                        "12h",
                        "13h",
                        "14h",
                        "15h",
                        "16h",
                        "17h",
                        "18h",
                        "19h",
                        "20h",
                        "21h",
                        "22h",
                        "23h"
                      ],
                      "xaxis": "x",
                      "y": [
                        13235.456601599999,
                        13231.8403624,
                        13265.2495088,
                        13213.326544,
                        15785.883523999999,
                        13032.3511256,
                        39540.1903592,
                        14282.833752800001,
                        15175.1993936,
                        34507.9083768,
                        71482.60072559999,
                        248498.216824,
                        166368.8696864,
                        65756.1184664,
                        14560.0725056,
                        12918.883232,
                        12934.363567999999,
                        46690.8794856,
                        254809.7053912,
                        82072.8971208,
                        19085.105324,
                        12809.252,
                        14908.0890632,
                        12766.273414399999
                      ],
                      "yaxis": "y"
                    },
                    {
                      "alignmentgroup": "True",
                      "hovertemplate": "furniture_type=StereoAndLaptop<br>date=2012-10<br>hours=%{x}<br>overload=%{y}<extra></extra>",
                      "legendgroup": "StereoAndLaptop",
                      "marker": {
                        "color": "#FF6692",
                        "pattern": {
                          "shape": ""
                        }
                      },
                      "name": "StereoAndLaptop",
                      "offsetgroup": "StereoAndLaptop",
                      "orientation": "v",
                      "showlegend": true,
                      "textposition": "auto",
                      "type": "bar",
                      "x": [
                        "0h",
                        "1h",
                        "2h",
                        "3h",
                        "4h",
                        "5h",
                        "6h",
                        "7h",
                        "8h",
                        "9h",
                        "10h",
                        "11h",
                        "12h",
                        "13h",
                        "14h",
                        "15h",
                        "16h",
                        "17h",
                        "18h",
                        "19h",
                        "20h",
                        "21h",
                        "22h",
                        "23h"
                      ],
                      "xaxis": "x",
                      "y": [
                        25787.567058,
                        25638.299684,
                        25836.562213,
                        25772.643344,
                        25654.325245,
                        25569.343719999997,
                        25556.0697295,
                        25633.164389999998,
                        25814.4306,
                        31106.749730500003,
                        33687.114734999996,
                        36312.910851,
                        31725.138495,
                        24949.689690000003,
                        28829.296295,
                        37185.972635,
                        46340.295265,
                        42206.503792,
                        39665.084646999996,
                        43158.714421,
                        35757.086696,
                        33938.806085000004,
                        30661.103120000003,
                        39122.242517
                      ],
                      "yaxis": "y"
                    },
                    {
                      "alignmentgroup": "True",
                      "hovertemplate": "furniture_type=Tablet<br>date=2012-10<br>hours=%{x}<br>overload=%{y}<extra></extra>",
                      "legendgroup": "Tablet",
                      "marker": {
                        "color": "#B6E880",
                        "pattern": {
                          "shape": ""
                        }
                      },
                      "name": "Tablet",
                      "offsetgroup": "Tablet",
                      "orientation": "v",
                      "showlegend": true,
                      "textposition": "auto",
                      "type": "bar",
                      "x": [
                        "0h",
                        "1h",
                        "2h",
                        "3h",
                        "4h",
                        "5h",
                        "6h",
                        "7h",
                        "8h",
                        "9h",
                        "10h",
                        "11h",
                        "12h",
                        "13h",
                        "14h",
                        "15h",
                        "16h",
                        "17h",
                        "18h",
                        "19h",
                        "20h",
                        "21h",
                        "22h",
                        "23h"
                      ],
                      "xaxis": "x",
                      "y": [
                        4035.4499227999995,
                        4035.628234,
                        4080.0277227999995,
                        4168.283458,
                        4092.687818,
                        4020.2934708,
                        4033.3034647999993,
                        4091.5983811999995,
                        4037.1374287999997,
                        4061.6912963999994,
                        4080.6568408,
                        4298.4122596,
                        4327.915762799999,
                        4144.203901999999,
                        4104.7368336,
                        4200.1457887999995,
                        4084.7786607999997,
                        4287.6005444,
                        4073.5968759999996,
                        4109.3832016,
                        3904.6183708,
                        4196.970679599999,
                        3854.5103543999994,
                        3859.1893016
                      ],
                      "yaxis": "y"
                    }
                  ],
                  "name": "2012-10"
                },
                {
                  "data": [
                    {
                      "alignmentgroup": "True",
                      "hovertemplate": "furniture_type=Entertainment<br>date=2012-11<br>hours=%{x}<br>overload=%{y}<extra></extra>",
                      "legendgroup": "Entertainment",
                      "marker": {
                        "color": "#636efa",
                        "pattern": {
                          "shape": ""
                        }
                      },
                      "name": "Entertainment",
                      "offsetgroup": "Entertainment",
                      "orientation": "v",
                      "showlegend": true,
                      "textposition": "auto",
                      "type": "bar",
                      "x": [
                        "0h",
                        "1h",
                        "2h",
                        "3h",
                        "4h",
                        "5h",
                        "6h",
                        "7h",
                        "8h",
                        "9h",
                        "10h",
                        "11h",
                        "12h",
                        "13h",
                        "14h",
                        "15h",
                        "16h",
                        "17h",
                        "18h",
                        "19h",
                        "20h",
                        "21h",
                        "22h",
                        "23h"
                      ],
                      "xaxis": "x",
                      "y": [
                        38078.83345666667,
                        38151.72355333334,
                        38207.121979166666,
                        38146.14833666667,
                        38381.54694416667,
                        38177.4757375,
                        37726.604655,
                        43199.06438833333,
                        59581.11499416667,
                        66826.5362375,
                        82560.37968416668,
                        119367.34176708333,
                        112848.79835416666,
                        297162.08595083334,
                        208136.5982466667,
                        159228.0410925,
                        123566.5073225,
                        109972.5756,
                        236521.24497749997,
                        393568.8002708333,
                        393871.6643708334,
                        411259.13209333335,
                        163885.09127166666,
                        56001.097883333336
                      ],
                      "yaxis": "y"
                    },
                    {
                      "alignmentgroup": "True",
                      "hovertemplate": "furniture_type=Freezer<br>date=2012-11<br>hours=%{x}<br>overload=%{y}<extra></extra>",
                      "legendgroup": "Freezer",
                      "marker": {
                        "color": "#EF553B",
                        "pattern": {
                          "shape": ""
                        }
                      },
                      "name": "Freezer",
                      "offsetgroup": "Freezer",
                      "orientation": "v",
                      "showlegend": true,
                      "textposition": "auto",
                      "type": "bar",
                      "x": [
                        "0h",
                        "1h",
                        "2h",
                        "3h",
                        "4h",
                        "5h",
                        "6h",
                        "7h",
                        "8h",
                        "9h",
                        "10h",
                        "11h",
                        "12h",
                        "13h",
                        "14h",
                        "15h",
                        "16h",
                        "17h",
                        "18h",
                        "19h",
                        "20h",
                        "21h",
                        "22h",
                        "23h"
                      ],
                      "xaxis": "x",
                      "y": [
                        666316.2210916666,
                        659037.666825,
                        719692.2392958333,
                        645916.0993458333,
                        693261.5674208333,
                        695697.1757166666,
                        664324.0877041667,
                        714804.2210749999,
                        660402.0042583334,
                        675107.3362375,
                        721501.9251416667,
                        654667.7985708333,
                        693402.0046,
                        683897.2273041666,
                        670667.5466291667,
                        718548.00979,
                        630435.7772,
                        894778.8796250001,
                        742087.5285416666,
                        687966.4937083333,
                        729907.214825,
                        740452.0445,
                        676244.5389208334,
                        742243.086675
                      ],
                      "yaxis": "y"
                    },
                    {
                      "alignmentgroup": "True",
                      "hovertemplate": "furniture_type=Fridge<br>date=2012-11<br>hours=%{x}<br>overload=%{y}<extra></extra>",
                      "legendgroup": "Fridge",
                      "marker": {
                        "color": "#00cc96",
                        "pattern": {
                          "shape": ""
                        }
                      },
                      "name": "Fridge",
                      "offsetgroup": "Fridge",
                      "orientation": "v",
                      "showlegend": true,
                      "textposition": "auto",
                      "type": "bar",
                      "x": [
                        "0h",
                        "1h",
                        "2h",
                        "3h",
                        "4h",
                        "5h",
                        "6h",
                        "7h",
                        "8h",
                        "9h",
                        "10h",
                        "11h",
                        "12h",
                        "13h",
                        "14h",
                        "15h",
                        "16h",
                        "17h",
                        "18h",
                        "19h",
                        "20h",
                        "21h",
                        "22h",
                        "23h"
                      ],
                      "xaxis": "x",
                      "y": [
                        69512.69633083334,
                        98287.44574125,
                        82473.40312,
                        70353.04471,
                        93058.15390291666,
                        76634.57770458334,
                        103990.11069125,
                        72682.44204583333,
                        92324.60920916667,
                        97745.34963999999,
                        71402.549615,
                        93112.09476374999,
                        100827.72871541667,
                        83789.28715583333,
                        92789.07547416666,
                        98481.13973166667,
                        84597.24079625,
                        93902.36350458332,
                        114042.09039458334,
                        87801.58065833333,
                        90343.26215083332,
                        95211.32424375,
                        95517.18596375,
                        90298.22664333333
                      ],
                      "yaxis": "y"
                    },
                    {
                      "alignmentgroup": "True",
                      "hovertemplate": "furniture_type=KitchenAppliances<br>date=2012-11<br>hours=%{x}<br>overload=%{y}<extra></extra>",
                      "legendgroup": "KitchenAppliances",
                      "marker": {
                        "color": "#ab63fa",
                        "pattern": {
                          "shape": ""
                        }
                      },
                      "name": "KitchenAppliances",
                      "offsetgroup": "KitchenAppliances",
                      "orientation": "v",
                      "showlegend": true,
                      "textposition": "auto",
                      "type": "bar",
                      "x": [
                        "0h",
                        "1h",
                        "2h",
                        "3h",
                        "4h",
                        "5h",
                        "6h",
                        "7h",
                        "8h",
                        "9h",
                        "10h",
                        "11h",
                        "12h",
                        "13h",
                        "14h",
                        "15h",
                        "16h",
                        "17h",
                        "18h",
                        "19h",
                        "20h",
                        "21h",
                        "22h",
                        "23h"
                      ],
                      "xaxis": "x",
                      "y": [
                        1754.4988483333336,
                        1751.2535800000003,
                        1710.020381666667,
                        1697.1221083333332,
                        1724.2792950000003,
                        1695.1373783333336,
                        217385.99645,
                        69837.1304425,
                        53317.19242583334,
                        5096.681050833334,
                        30147.372805833333,
                        51868.54210666667,
                        27648.745716666668,
                        24784.18366916667,
                        39681.981205,
                        24394.012892500003,
                        1827.6632133333335,
                        37279.938105,
                        310083.69290333334,
                        4576.971369166667,
                        29785.786459166662,
                        19330.332902500002,
                        1929.5159483333334,
                        1878.366515
                      ],
                      "yaxis": "y"
                    },
                    {
                      "alignmentgroup": "True",
                      "hovertemplate": "furniture_type=Lamp<br>date=2012-11<br>hours=%{x}<br>overload=%{y}<extra></extra>",
                      "legendgroup": "Lamp",
                      "marker": {
                        "color": "#FFA15A",
                        "pattern": {
                          "shape": ""
                        }
                      },
                      "name": "Lamp",
                      "offsetgroup": "Lamp",
                      "orientation": "v",
                      "showlegend": true,
                      "textposition": "auto",
                      "type": "bar",
                      "x": [
                        "0h",
                        "1h",
                        "2h",
                        "3h",
                        "4h",
                        "5h",
                        "6h",
                        "7h",
                        "8h",
                        "9h",
                        "10h",
                        "11h",
                        "12h",
                        "13h",
                        "14h",
                        "15h",
                        "16h",
                        "17h",
                        "18h",
                        "19h",
                        "20h",
                        "21h",
                        "22h",
                        "23h"
                      ],
                      "xaxis": "x",
                      "y": [
                        2743.385354,
                        2792.77268,
                        1859.2413780000002,
                        1837.291534,
                        1857.225576,
                        1809.966218,
                        4237.842034,
                        13569.78639,
                        8486.527932,
                        12358.533318000002,
                        14384.828338000001,
                        14105.828669999999,
                        8507.186064,
                        23027.841277,
                        4710.4341540000005,
                        12961.650314,
                        16287.762736,
                        20045.386608,
                        15955.012196000001,
                        13219.709852,
                        9415.731952,
                        14043.215066,
                        18141.90123,
                        4781.509782
                      ],
                      "yaxis": "y"
                    },
                    {
                      "alignmentgroup": "True",
                      "hovertemplate": "furniture_type=Microwave<br>date=2012-11<br>hours=%{x}<br>overload=%{y}<extra></extra>",
                      "legendgroup": "Microwave",
                      "marker": {
                        "color": "#19d3f3",
                        "pattern": {
                          "shape": ""
                        }
                      },
                      "name": "Microwave",
                      "offsetgroup": "Microwave",
                      "orientation": "v",
                      "showlegend": true,
                      "textposition": "auto",
                      "type": "bar",
                      "x": [
                        "0h",
                        "1h",
                        "2h",
                        "3h",
                        "4h",
                        "5h",
                        "6h",
                        "7h",
                        "8h",
                        "9h",
                        "10h",
                        "11h",
                        "12h",
                        "13h",
                        "14h",
                        "15h",
                        "16h",
                        "17h",
                        "18h",
                        "19h",
                        "20h",
                        "21h",
                        "22h",
                        "23h"
                      ],
                      "xaxis": "x",
                      "y": [
                        12785.237796666666,
                        12825.5721,
                        12785.126549999999,
                        12690.048666666667,
                        12795.348083333332,
                        12833.414483333334,
                        59167.705604999996,
                        30085.850519999996,
                        107763.44424083334,
                        42463.85387083333,
                        146554.34610833332,
                        767359.3846491667,
                        183719.122875,
                        65522.700731666664,
                        27863.564192499998,
                        12743.130316666668,
                        12779.222733333334,
                        100317.63150999999,
                        346023.78802333336,
                        13295.204389999999,
                        27593.78912083333,
                        13337.397322499999,
                        13336.080521666665,
                        13463.308976666667
                      ],
                      "yaxis": "y"
                    },
                    {
                      "alignmentgroup": "True",
                      "hovertemplate": "furniture_type=StereoAndLaptop<br>date=2012-11<br>hours=%{x}<br>overload=%{y}<extra></extra>",
                      "legendgroup": "StereoAndLaptop",
                      "marker": {
                        "color": "#FF6692",
                        "pattern": {
                          "shape": ""
                        }
                      },
                      "name": "StereoAndLaptop",
                      "offsetgroup": "StereoAndLaptop",
                      "orientation": "v",
                      "showlegend": true,
                      "textposition": "auto",
                      "type": "bar",
                      "x": [
                        "0h",
                        "1h",
                        "2h",
                        "3h",
                        "4h",
                        "5h",
                        "6h",
                        "7h",
                        "8h",
                        "9h",
                        "10h",
                        "11h",
                        "12h",
                        "13h",
                        "14h",
                        "15h",
                        "16h",
                        "17h",
                        "18h",
                        "19h",
                        "20h",
                        "21h",
                        "22h",
                        "23h"
                      ],
                      "xaxis": "x",
                      "y": [
                        2516.6033333333335,
                        1286.3010406666665,
                        679.2887826666667,
                        153.50568,
                        77.12362666666668,
                        89.13711466666668,
                        82.61126933333334,
                        2098.643971333333,
                        5650.40251,
                        5397.143784,
                        27.141584,
                        16.462928,
                        13.941578666666667,
                        20.764053333333333,
                        22.383948,
                        11118.448371333334,
                        22225.025850666665,
                        33085.806036,
                        3831.306456,
                        5165.765826000001,
                        9998.855466666666,
                        8695.218470666667,
                        7721.280619333334,
                        3300.237665333333
                      ],
                      "yaxis": "y"
                    },
                    {
                      "alignmentgroup": "True",
                      "hovertemplate": "furniture_type=Tablet<br>date=2012-11<br>hours=%{x}<br>overload=%{y}<extra></extra>",
                      "legendgroup": "Tablet",
                      "marker": {
                        "color": "#B6E880",
                        "pattern": {
                          "shape": ""
                        }
                      },
                      "name": "Tablet",
                      "offsetgroup": "Tablet",
                      "orientation": "v",
                      "showlegend": true,
                      "textposition": "auto",
                      "type": "bar",
                      "x": [
                        "0h",
                        "1h",
                        "2h",
                        "3h",
                        "4h",
                        "5h",
                        "6h",
                        "7h",
                        "8h",
                        "9h",
                        "10h",
                        "11h",
                        "12h",
                        "13h",
                        "14h",
                        "15h",
                        "16h",
                        "17h",
                        "18h",
                        "19h",
                        "20h",
                        "21h",
                        "22h",
                        "23h"
                      ],
                      "xaxis": "x",
                      "y": [
                        2056.4442999999997,
                        2057.8356210526313,
                        2053.2769299999995,
                        2018.08393,
                        2077.5600999999997,
                        2054.4390973684212,
                        2206.8210463157893,
                        2252.7963526315784,
                        1873.408189473684,
                        3904.094940526316,
                        5132.19676368421,
                        5118.09454631579,
                        7183.322778421053,
                        6090.350700526315,
                        5086.07574,
                        4742.922548421052,
                        13361.095964736844,
                        3055.862322105263,
                        4255.557692105263,
                        4662.922235263158,
                        5400.85926368421,
                        5451.830061052631,
                        3681.7882931578943,
                        2592.20705368421
                      ],
                      "yaxis": "y"
                    }
                  ],
                  "name": "2012-11"
                },
                {
                  "data": [
                    {
                      "alignmentgroup": "True",
                      "hovertemplate": "furniture_type=Entertainment<br>date=2012-12<br>hours=%{x}<br>overload=%{y}<extra></extra>",
                      "legendgroup": "Entertainment",
                      "marker": {
                        "color": "#636efa",
                        "pattern": {
                          "shape": ""
                        }
                      },
                      "name": "Entertainment",
                      "offsetgroup": "Entertainment",
                      "orientation": "v",
                      "showlegend": true,
                      "textposition": "auto",
                      "type": "bar",
                      "x": [
                        "0h",
                        "1h",
                        "2h",
                        "3h",
                        "4h",
                        "5h",
                        "6h",
                        "7h",
                        "8h",
                        "9h",
                        "10h",
                        "11h",
                        "12h",
                        "13h",
                        "14h",
                        "15h",
                        "16h",
                        "17h",
                        "18h",
                        "19h",
                        "20h",
                        "21h",
                        "22h",
                        "23h"
                      ],
                      "xaxis": "x",
                      "y": [
                        37495.34647290323,
                        38070.41981935484,
                        38885.0605032258,
                        38887.53521161291,
                        39153.696592258064,
                        38886.35978645161,
                        40076.11083806452,
                        40542.30701193548,
                        68822.80518967743,
                        84696.81816967743,
                        77964.30388193548,
                        80566.42638645163,
                        103778.6987916129,
                        215014.33846580645,
                        169720.09590709678,
                        126604.70943612902,
                        145083.91282838708,
                        170829.3295083871,
                        191490.9401367742,
                        324934.14270645165,
                        379175.82856838714,
                        383212.2554012903,
                        156713.8843316129,
                        52766.16686322581
                      ],
                      "yaxis": "y"
                    },
                    {
                      "alignmentgroup": "True",
                      "hovertemplate": "furniture_type=Freezer<br>date=2012-12<br>hours=%{x}<br>overload=%{y}<extra></extra>",
                      "legendgroup": "Freezer",
                      "marker": {
                        "color": "#EF553B",
                        "pattern": {
                          "shape": ""
                        }
                      },
                      "name": "Freezer",
                      "offsetgroup": "Freezer",
                      "orientation": "v",
                      "showlegend": true,
                      "textposition": "auto",
                      "type": "bar",
                      "x": [
                        "0h",
                        "1h",
                        "2h",
                        "3h",
                        "4h",
                        "5h",
                        "6h",
                        "7h",
                        "8h",
                        "9h",
                        "10h",
                        "11h",
                        "12h",
                        "13h",
                        "14h",
                        "15h",
                        "16h",
                        "17h",
                        "18h",
                        "19h",
                        "20h",
                        "21h",
                        "22h",
                        "23h"
                      ],
                      "xaxis": "x",
                      "y": [
                        480056.68574193545,
                        468227.46629612905,
                        447864.5004703226,
                        489363.3774196774,
                        452806.5730548387,
                        460940.2947454839,
                        482069.6647351613,
                        455588.9886822581,
                        466312.0785225806,
                        456710.02818741935,
                        437501.9209274194,
                        464864.05057322583,
                        446425.6959648387,
                        457373.52184258064,
                        485855.2333135483,
                        476537.85000193544,
                        546044.61653,
                        582212.1611274193,
                        614325.6642003225,
                        462444.95388000004,
                        437128.0640570968,
                        454710.6466180645,
                        458960.96920225804,
                        434781.5187
                      ],
                      "yaxis": "y"
                    },
                    {
                      "alignmentgroup": "True",
                      "hovertemplate": "furniture_type=Fridge<br>date=2012-12<br>hours=%{x}<br>overload=%{y}<extra></extra>",
                      "legendgroup": "Fridge",
                      "marker": {
                        "color": "#00cc96",
                        "pattern": {
                          "shape": ""
                        }
                      },
                      "name": "Fridge",
                      "offsetgroup": "Fridge",
                      "orientation": "v",
                      "showlegend": true,
                      "textposition": "auto",
                      "type": "bar",
                      "x": [
                        "0h",
                        "1h",
                        "2h",
                        "3h",
                        "4h",
                        "5h",
                        "6h",
                        "7h",
                        "8h",
                        "9h",
                        "10h",
                        "11h",
                        "12h",
                        "13h",
                        "14h",
                        "15h",
                        "16h",
                        "17h",
                        "18h",
                        "19h",
                        "20h",
                        "21h",
                        "22h",
                        "23h"
                      ],
                      "xaxis": "x",
                      "y": [
                        97070.3382167742,
                        83367.07880483872,
                        81035.19035806452,
                        85494.12002451613,
                        81917.43109322581,
                        88802.45658387097,
                        86348.5621183871,
                        83974.09025774193,
                        80280.26053870968,
                        86023.95656225806,
                        95025.40844903226,
                        89756.60252967742,
                        71820.56167516128,
                        93419.28796999999,
                        93408.01231,
                        79801.22497096776,
                        91359.67716193547,
                        101325.50349967742,
                        95308.67594354838,
                        91994.84563096774,
                        95523.96115096773,
                        91437.86353354839,
                        87253.53789451614,
                        91140.29255290322
                      ],
                      "yaxis": "y"
                    },
                    {
                      "alignmentgroup": "True",
                      "hovertemplate": "furniture_type=KitchenAppliances<br>date=2012-12<br>hours=%{x}<br>overload=%{y}<extra></extra>",
                      "legendgroup": "KitchenAppliances",
                      "marker": {
                        "color": "#ab63fa",
                        "pattern": {
                          "shape": ""
                        }
                      },
                      "name": "KitchenAppliances",
                      "offsetgroup": "KitchenAppliances",
                      "orientation": "v",
                      "showlegend": true,
                      "textposition": "auto",
                      "type": "bar",
                      "x": [
                        "0h",
                        "1h",
                        "2h",
                        "3h",
                        "4h",
                        "5h",
                        "6h",
                        "7h",
                        "8h",
                        "9h",
                        "10h",
                        "11h",
                        "12h",
                        "13h",
                        "14h",
                        "15h",
                        "16h",
                        "17h",
                        "18h",
                        "19h",
                        "20h",
                        "21h",
                        "22h",
                        "23h"
                      ],
                      "xaxis": "x",
                      "y": [
                        1524.1989690322582,
                        1524.8237367741938,
                        1538.3112580645163,
                        1525.6695174193549,
                        1538.0318825806453,
                        11531.007732258064,
                        152745.46264903227,
                        62122.162356129025,
                        154620.47743741938,
                        64967.13320258065,
                        29637.57124903226,
                        66633.35318967742,
                        2264.776638064516,
                        17970.072911612904,
                        16877.97422967742,
                        19789.3886916129,
                        32297.00965032258,
                        46241.27742387097,
                        247745.58835483872,
                        36784.35265741936,
                        1487.8122258064518,
                        1485.29976,
                        1490.466292903226,
                        1476.078455483871
                      ],
                      "yaxis": "y"
                    },
                    {
                      "alignmentgroup": "True",
                      "hovertemplate": "furniture_type=Lamp<br>date=2012-12<br>hours=%{x}<br>overload=%{y}<extra></extra>",
                      "legendgroup": "Lamp",
                      "marker": {
                        "color": "#FFA15A",
                        "pattern": {
                          "shape": ""
                        }
                      },
                      "name": "Lamp",
                      "offsetgroup": "Lamp",
                      "orientation": "v",
                      "showlegend": true,
                      "textposition": "auto",
                      "type": "bar",
                      "x": [
                        "0h",
                        "1h",
                        "2h",
                        "3h",
                        "4h",
                        "5h",
                        "6h",
                        "7h",
                        "8h",
                        "9h",
                        "10h",
                        "11h",
                        "12h",
                        "13h",
                        "14h",
                        "15h",
                        "16h",
                        "17h",
                        "18h",
                        "19h",
                        "20h",
                        "21h",
                        "22h",
                        "23h"
                      ],
                      "xaxis": "x",
                      "y": [
                        132839.55635774194,
                        143622.5522567742,
                        130843.12935709677,
                        137072.58197774194,
                        130321.14417096775,
                        126561.22466354838,
                        132848.33887451614,
                        133147.39854935484,
                        138639.17925548388,
                        129392.45737387096,
                        134558.70901,
                        136098.42163935484,
                        144499.68982354837,
                        133163.96307451613,
                        145031.56093387096,
                        140493.3451351613,
                        140983.9039516129,
                        142335.07945548385,
                        145478.67385032255,
                        141638.11030903223,
                        127680.8100516129,
                        131988.4286012903,
                        143382.26859419353,
                        138693.79636612904
                      ],
                      "yaxis": "y"
                    },
                    {
                      "alignmentgroup": "True",
                      "hovertemplate": "furniture_type=Microwave<br>date=2012-12<br>hours=%{x}<br>overload=%{y}<extra></extra>",
                      "legendgroup": "Microwave",
                      "marker": {
                        "color": "#19d3f3",
                        "pattern": {
                          "shape": ""
                        }
                      },
                      "name": "Microwave",
                      "offsetgroup": "Microwave",
                      "orientation": "v",
                      "showlegend": true,
                      "textposition": "auto",
                      "type": "bar",
                      "x": [
                        "0h",
                        "1h",
                        "2h",
                        "3h",
                        "4h",
                        "5h",
                        "6h",
                        "7h",
                        "8h",
                        "9h",
                        "10h",
                        "11h",
                        "12h",
                        "13h",
                        "14h",
                        "15h",
                        "16h",
                        "17h",
                        "18h",
                        "19h",
                        "20h",
                        "21h",
                        "22h",
                        "23h"
                      ],
                      "xaxis": "x",
                      "y": [
                        13305.486072258065,
                        13282.745365161289,
                        13287.19768451613,
                        13239.230956774194,
                        13341.7372,
                        14807.39937032258,
                        36944.90166580646,
                        29643.35490129032,
                        23110.66598903226,
                        55506.64889354839,
                        104956.24995161289,
                        262071.43869032257,
                        134878.02169999998,
                        50848.29127806451,
                        18258.67906516129,
                        17271.213447741935,
                        15079.137888387095,
                        85852.46440774194,
                        294509.41956903227,
                        68950.23268,
                        15270.42392,
                        13264.021097419356,
                        16752.084172903225,
                        13324.200108387096
                      ],
                      "yaxis": "y"
                    },
                    {
                      "alignmentgroup": "True",
                      "hovertemplate": "furniture_type=StereoAndLaptop<br>date=2012-12<br>hours=%{x}<br>overload=%{y}<extra></extra>",
                      "legendgroup": "StereoAndLaptop",
                      "marker": {
                        "color": "#FF6692",
                        "pattern": {
                          "shape": ""
                        }
                      },
                      "name": "StereoAndLaptop",
                      "offsetgroup": "StereoAndLaptop",
                      "orientation": "v",
                      "showlegend": true,
                      "textposition": "auto",
                      "type": "bar",
                      "x": [
                        "0h",
                        "1h",
                        "2h",
                        "3h",
                        "4h",
                        "5h",
                        "6h",
                        "7h",
                        "8h",
                        "9h",
                        "10h",
                        "11h",
                        "12h",
                        "13h",
                        "14h",
                        "15h",
                        "16h",
                        "17h",
                        "18h",
                        "19h",
                        "20h",
                        "21h",
                        "22h",
                        "23h"
                      ],
                      "xaxis": "x",
                      "y": [
                        12977.808212,
                        12820.830654,
                        13018.991533,
                        12901.413923333334,
                        13026.24881,
                        12954.917109666667,
                        12900.183973333333,
                        13274.604973333333,
                        26121.24203266667,
                        20085.527732333332,
                        25742.247639666668,
                        24441.068044666667,
                        14515.668513999999,
                        16017.378231,
                        20629.972512,
                        16295.099114666666,
                        14947.941126333335,
                        32627.988542,
                        19705.729172000003,
                        16723.275370333333,
                        15345.061033,
                        17142.12836,
                        14718.423966666667,
                        15097.091830000001
                      ],
                      "yaxis": "y"
                    },
                    {
                      "alignmentgroup": "True",
                      "hovertemplate": "furniture_type=Tablet<br>date=2012-12<br>hours=%{x}<br>overload=%{y}<extra></extra>",
                      "legendgroup": "Tablet",
                      "marker": {
                        "color": "#B6E880",
                        "pattern": {
                          "shape": ""
                        }
                      },
                      "name": "Tablet",
                      "offsetgroup": "Tablet",
                      "orientation": "v",
                      "showlegend": true,
                      "textposition": "auto",
                      "type": "bar",
                      "x": [
                        "0h",
                        "1h",
                        "2h",
                        "3h",
                        "4h",
                        "5h",
                        "6h",
                        "7h",
                        "8h",
                        "9h",
                        "10h",
                        "11h",
                        "12h",
                        "13h",
                        "14h",
                        "15h",
                        "16h",
                        "17h",
                        "18h",
                        "19h",
                        "20h",
                        "21h",
                        "22h",
                        "23h"
                      ],
                      "xaxis": "x",
                      "y": [
                        6443.507465483871,
                        5172.500568387097,
                        4393.2751303225805,
                        4009.342152580645,
                        3898.250009677419,
                        3755.4546493548382,
                        4705.57878,
                        4811.17803032258,
                        5403.818546129032,
                        6038.003526774194,
                        6493.001377096774,
                        7245.129784838709,
                        5137.989049354838,
                        4928.329561290322,
                        6468.183260967741,
                        6364.235704838709,
                        6796.438596774193,
                        11794.179835483872,
                        6225.235762903226,
                        4539.312824838709,
                        4616.569701290322,
                        4721.764126451612,
                        7510.999514516128,
                        8201.525431612903
                      ],
                      "yaxis": "y"
                    }
                  ],
                  "name": "2012-12"
                },
                {
                  "data": [
                    {
                      "alignmentgroup": "True",
                      "hovertemplate": "furniture_type=Entertainment<br>date=2013-01<br>hours=%{x}<br>overload=%{y}<extra></extra>",
                      "legendgroup": "Entertainment",
                      "marker": {
                        "color": "#636efa",
                        "pattern": {
                          "shape": ""
                        }
                      },
                      "name": "Entertainment",
                      "offsetgroup": "Entertainment",
                      "orientation": "v",
                      "showlegend": true,
                      "textposition": "auto",
                      "type": "bar",
                      "x": [
                        "0h",
                        "1h",
                        "2h",
                        "3h",
                        "4h",
                        "5h",
                        "6h",
                        "7h",
                        "8h",
                        "9h",
                        "10h",
                        "11h",
                        "12h",
                        "13h",
                        "14h",
                        "15h",
                        "16h",
                        "17h",
                        "18h",
                        "19h",
                        "20h",
                        "21h",
                        "22h",
                        "23h"
                      ],
                      "xaxis": "x",
                      "y": [
                        1765.2989995652176,
                        1774.1656286956525,
                        1786.479834347826,
                        1795.2242104347827,
                        1695.629318695652,
                        1763.1715404347826,
                        29069.29132652174,
                        47062.9680647826,
                        47089.41963347826,
                        55267.17232,
                        45128.33543,
                        71906.84288347827,
                        70141.31851652174,
                        176687.62692347827,
                        146861.90448173913,
                        93075.0027178261,
                        84626.68012521739,
                        97383.79275173912,
                        164394.54021347826,
                        210827.01943652175,
                        234288.4825352174,
                        231002.77827695652,
                        72124.20059000001,
                        72.26883304347827
                      ],
                      "yaxis": "y"
                    },
                    {
                      "alignmentgroup": "True",
                      "hovertemplate": "furniture_type=Freezer<br>date=2013-01<br>hours=%{x}<br>overload=%{y}<extra></extra>",
                      "legendgroup": "Freezer",
                      "marker": {
                        "color": "#EF553B",
                        "pattern": {
                          "shape": ""
                        }
                      },
                      "name": "Freezer",
                      "offsetgroup": "Freezer",
                      "orientation": "v",
                      "showlegend": true,
                      "textposition": "auto",
                      "type": "bar",
                      "x": [
                        "0h",
                        "1h",
                        "2h",
                        "3h",
                        "4h",
                        "5h",
                        "6h",
                        "7h",
                        "8h",
                        "9h",
                        "10h",
                        "11h",
                        "12h",
                        "13h",
                        "14h",
                        "15h",
                        "16h",
                        "17h",
                        "18h",
                        "19h",
                        "20h",
                        "21h",
                        "22h",
                        "23h"
                      ],
                      "xaxis": "x",
                      "y": [
                        114937.39367904763,
                        109036.06647809524,
                        115796.02883047619,
                        125433.48869,
                        116147.77303904764,
                        130365.79429380952,
                        111308.5162542857,
                        115548.17817,
                        118040.91492142857,
                        125585.14509047619,
                        106520.99428190477,
                        109096.60622761904,
                        118967.0252947619,
                        113301.35619333333,
                        114341.41191904762,
                        107881.35622714287,
                        85181.6334552381,
                        100503.22811952382,
                        104977.7389209524,
                        124391.79250523809,
                        97427.84663904762,
                        111615.00330857144,
                        106767.60797428573,
                        116785.23689952379
                      ],
                      "yaxis": "y"
                    },
                    {
                      "alignmentgroup": "True",
                      "hovertemplate": "furniture_type=Fridge<br>date=2013-01<br>hours=%{x}<br>overload=%{y}<extra></extra>",
                      "legendgroup": "Fridge",
                      "marker": {
                        "color": "#00cc96",
                        "pattern": {
                          "shape": ""
                        }
                      },
                      "name": "Fridge",
                      "offsetgroup": "Fridge",
                      "orientation": "v",
                      "showlegend": true,
                      "textposition": "auto",
                      "type": "bar",
                      "x": [
                        "0h",
                        "1h",
                        "2h",
                        "3h",
                        "4h",
                        "5h",
                        "6h",
                        "7h",
                        "8h",
                        "9h",
                        "10h",
                        "11h",
                        "12h",
                        "13h",
                        "14h",
                        "15h",
                        "16h",
                        "17h",
                        "18h",
                        "19h",
                        "20h",
                        "21h",
                        "22h",
                        "23h"
                      ],
                      "xaxis": "x",
                      "y": [
                        81331.10869,
                        85974.97672434783,
                        81057.77864391304,
                        83710.12279130434,
                        75523.52617782609,
                        79475.23735130434,
                        88180.6327947826,
                        69776.23967304348,
                        80847.97185652173,
                        81826.59088956522,
                        87497.82028782609,
                        89764.95088130435,
                        79439.25700782609,
                        81236.69041869565,
                        81548.56660086957,
                        76230.03670826087,
                        80584.31638304348,
                        71161.07625130434,
                        91613.01014260869,
                        81050.36334043478,
                        84096.18952391305,
                        74999.76641260869,
                        86121.51097304348,
                        79157.39184695653
                      ],
                      "yaxis": "y"
                    },
                    {
                      "alignmentgroup": "True",
                      "hovertemplate": "furniture_type=KitchenAppliances<br>date=2013-01<br>hours=%{x}<br>overload=%{y}<extra></extra>",
                      "legendgroup": "KitchenAppliances",
                      "marker": {
                        "color": "#ab63fa",
                        "pattern": {
                          "shape": ""
                        }
                      },
                      "name": "KitchenAppliances",
                      "offsetgroup": "KitchenAppliances",
                      "orientation": "v",
                      "showlegend": true,
                      "textposition": "auto",
                      "type": "bar",
                      "x": [
                        "0h",
                        "1h",
                        "2h",
                        "3h",
                        "4h",
                        "5h",
                        "6h",
                        "7h",
                        "8h",
                        "9h",
                        "10h",
                        "11h",
                        "12h",
                        "13h",
                        "14h",
                        "15h",
                        "16h",
                        "17h",
                        "18h",
                        "19h",
                        "20h",
                        "21h",
                        "22h",
                        "23h"
                      ],
                      "xaxis": "x",
                      "y": [
                        448.9386400000001,
                        441.59334434782613,
                        438.39783130434785,
                        443.1962591304348,
                        434.8180313043478,
                        433.59682434782616,
                        174673.5434678261,
                        18813.994636521737,
                        136616.42806347826,
                        43660.73812521739,
                        20559.68491304348,
                        6763.083977391304,
                        61354.396863478265,
                        35664.53844608696,
                        119494.98824869566,
                        8618.972255652174,
                        424.8317304347826,
                        10109.423413043478,
                        298867.4005443478,
                        22096.185592173915,
                        423.6156817391305,
                        441.2193739130435,
                        424.1830852173913,
                        420.13001913043485
                      ],
                      "yaxis": "y"
                    },
                    {
                      "alignmentgroup": "True",
                      "hovertemplate": "furniture_type=Lamp<br>date=2013-01<br>hours=%{x}<br>overload=%{y}<extra></extra>",
                      "legendgroup": "Lamp",
                      "marker": {
                        "color": "#FFA15A",
                        "pattern": {
                          "shape": ""
                        }
                      },
                      "name": "Lamp",
                      "offsetgroup": "Lamp",
                      "orientation": "v",
                      "showlegend": true,
                      "textposition": "auto",
                      "type": "bar",
                      "x": [
                        "0h",
                        "1h",
                        "2h",
                        "3h",
                        "4h",
                        "5h",
                        "6h",
                        "7h",
                        "8h",
                        "9h",
                        "10h",
                        "11h",
                        "12h",
                        "13h",
                        "14h",
                        "15h",
                        "16h",
                        "17h",
                        "18h",
                        "19h",
                        "20h",
                        "21h",
                        "22h",
                        "23h"
                      ],
                      "xaxis": "x",
                      "y": [
                        59999.155199230765,
                        68305.47323153846,
                        78391.02316923077,
                        57208.57600153846,
                        68741.4588376923,
                        57771.121234615384,
                        50167.58838846153,
                        50315.6324,
                        46926.709141538464,
                        63648.56671846153,
                        67644.43546692308,
                        89673.42992153847,
                        51879.03977538462,
                        41079.32989923077,
                        39346.21325384615,
                        41896.6575876923,
                        45756.829163846145,
                        52527.69589230769,
                        63281.43209307692,
                        52514.96174923076,
                        52294.19521692307,
                        48505.519246153846,
                        47292.85368461538,
                        68211.66208153845
                      ],
                      "yaxis": "y"
                    },
                    {
                      "alignmentgroup": "True",
                      "hovertemplate": "furniture_type=Microwave<br>date=2013-01<br>hours=%{x}<br>overload=%{y}<extra></extra>",
                      "legendgroup": "Microwave",
                      "marker": {
                        "color": "#19d3f3",
                        "pattern": {
                          "shape": ""
                        }
                      },
                      "name": "Microwave",
                      "offsetgroup": "Microwave",
                      "orientation": "v",
                      "showlegend": true,
                      "textposition": "auto",
                      "type": "bar",
                      "x": [
                        "0h",
                        "1h",
                        "2h",
                        "3h",
                        "4h",
                        "5h",
                        "6h",
                        "7h",
                        "8h",
                        "9h",
                        "10h",
                        "11h",
                        "12h",
                        "13h",
                        "14h",
                        "15h",
                        "16h",
                        "17h",
                        "18h",
                        "19h",
                        "20h",
                        "21h",
                        "22h",
                        "23h"
                      ],
                      "xaxis": "x",
                      "y": [
                        13486.46307826087,
                        13457.223669565217,
                        13384.730765217391,
                        13467.70572173913,
                        13502.131202608696,
                        13444.85280869565,
                        39866.969575652176,
                        31070.607446086957,
                        24794.86922782609,
                        56578.83466521739,
                        86701.95570086956,
                        313051.16907304345,
                        172852.61274608693,
                        44004.43702347826,
                        13232.107486086956,
                        14388.88234695652,
                        13014.93406173913,
                        29824.35746956522,
                        345921.2944652174,
                        37186.40196956522,
                        15015.02242173913,
                        12806.478186956521,
                        12891.170473913042,
                        12890.681173043477
                      ],
                      "yaxis": "y"
                    },
                    {
                      "alignmentgroup": "True",
                      "hovertemplate": "furniture_type=StereoAndLaptop<br>date=2013-01<br>hours=%{x}<br>overload=%{y}<extra></extra>",
                      "legendgroup": "StereoAndLaptop",
                      "marker": {
                        "color": "#FF6692",
                        "pattern": {
                          "shape": ""
                        }
                      },
                      "name": "StereoAndLaptop",
                      "offsetgroup": "StereoAndLaptop",
                      "orientation": "v",
                      "showlegend": true,
                      "textposition": "auto",
                      "type": "bar",
                      "x": [
                        "0h",
                        "1h",
                        "2h",
                        "3h",
                        "4h",
                        "5h",
                        "6h",
                        "7h",
                        "8h",
                        "9h",
                        "10h",
                        "11h",
                        "12h",
                        "13h",
                        "14h",
                        "15h",
                        "16h",
                        "17h",
                        "18h",
                        "19h",
                        "20h",
                        "21h",
                        "22h",
                        "23h"
                      ],
                      "xaxis": "x",
                      "y": [
                        13387.968761538463,
                        13386.653123076925,
                        13442.567430769232,
                        13366.754207692305,
                        13178.168255384615,
                        13303.610614615385,
                        33796.76044615385,
                        42990.58826153846,
                        35053.71900153846,
                        21120.263553846155,
                        15159.098132307692,
                        28442.416484615384,
                        42570.73970769231,
                        74835.89904615385,
                        51502.40736153846,
                        15410.755715384616,
                        12132.415661538464,
                        42540.21605692308,
                        66040.78227,
                        99921.53254538462,
                        137246.29140000002,
                        160560.74933692307,
                        58349.45005461539,
                        9627.108361538461
                      ],
                      "yaxis": "y"
                    },
                    {
                      "alignmentgroup": "True",
                      "hovertemplate": "furniture_type=Tablet<br>date=2013-01<br>hours=%{x}<br>overload=%{y}<extra></extra>",
                      "legendgroup": "Tablet",
                      "marker": {
                        "color": "#B6E880",
                        "pattern": {
                          "shape": ""
                        }
                      },
                      "name": "Tablet",
                      "offsetgroup": "Tablet",
                      "orientation": "v",
                      "showlegend": true,
                      "textposition": "auto",
                      "type": "bar",
                      "x": [
                        "0h",
                        "1h",
                        "2h",
                        "3h",
                        "4h",
                        "5h",
                        "6h",
                        "7h",
                        "8h",
                        "9h",
                        "10h",
                        "11h",
                        "12h",
                        "13h",
                        "14h",
                        "15h",
                        "16h",
                        "17h",
                        "18h",
                        "19h",
                        "20h",
                        "21h",
                        "22h",
                        "23h"
                      ],
                      "xaxis": "x",
                      "y": [
                        9097.583974347826,
                        7268.904942173913,
                        6086.936246956521,
                        5309.367397826087,
                        4837.888482173913,
                        4678.246293478261,
                        4228.848768695651,
                        6097.181837391305,
                        7288.416396521739,
                        9330.517816956522,
                        10048.545170869564,
                        8969.153868695652,
                        6529.292548260869,
                        5361.294837826086,
                        7729.98618,
                        7919.797973478261,
                        7108.056513478261,
                        6357.334083913043,
                        6140.356496086956,
                        4603.4012008695645,
                        10182.754388695652,
                        10657.936296086957,
                        12010.01297826087,
                        11290.727511739131
                      ],
                      "yaxis": "y"
                    }
                  ],
                  "name": "2013-01"
                }
              ],
              "layout": {
                "barmode": "relative",
                "legend": {
                  "title": {
                    "text": "furniture_type"
                  },
                  "tracegroupgap": 0
                },
                "margin": {
                  "t": 60
                },
                "sliders": [
                  {
                    "active": 0,
                    "currentvalue": {
                      "prefix": "date="
                    },
                    "len": 0.9,
                    "pad": {
                      "b": 10,
                      "t": 60
                    },
                    "steps": [
                      {
                        "args": [
                          [
                            "2012-06"
                          ],
                          {
                            "frame": {
                              "duration": 0,
                              "redraw": true
                            },
                            "fromcurrent": true,
                            "mode": "immediate",
                            "transition": {
                              "duration": 0,
                              "easing": "linear"
                            }
                          }
                        ],
                        "label": "2012-06",
                        "method": "animate"
                      },
                      {
                        "args": [
                          [
                            "2012-07"
                          ],
                          {
                            "frame": {
                              "duration": 0,
                              "redraw": true
                            },
                            "fromcurrent": true,
                            "mode": "immediate",
                            "transition": {
                              "duration": 0,
                              "easing": "linear"
                            }
                          }
                        ],
                        "label": "2012-07",
                        "method": "animate"
                      },
                      {
                        "args": [
                          [
                            "2012-08"
                          ],
                          {
                            "frame": {
                              "duration": 0,
                              "redraw": true
                            },
                            "fromcurrent": true,
                            "mode": "immediate",
                            "transition": {
                              "duration": 0,
                              "easing": "linear"
                            }
                          }
                        ],
                        "label": "2012-08",
                        "method": "animate"
                      },
                      {
                        "args": [
                          [
                            "2012-09"
                          ],
                          {
                            "frame": {
                              "duration": 0,
                              "redraw": true
                            },
                            "fromcurrent": true,
                            "mode": "immediate",
                            "transition": {
                              "duration": 0,
                              "easing": "linear"
                            }
                          }
                        ],
                        "label": "2012-09",
                        "method": "animate"
                      },
                      {
                        "args": [
                          [
                            "2012-10"
                          ],
                          {
                            "frame": {
                              "duration": 0,
                              "redraw": true
                            },
                            "fromcurrent": true,
                            "mode": "immediate",
                            "transition": {
                              "duration": 0,
                              "easing": "linear"
                            }
                          }
                        ],
                        "label": "2012-10",
                        "method": "animate"
                      },
                      {
                        "args": [
                          [
                            "2012-11"
                          ],
                          {
                            "frame": {
                              "duration": 0,
                              "redraw": true
                            },
                            "fromcurrent": true,
                            "mode": "immediate",
                            "transition": {
                              "duration": 0,
                              "easing": "linear"
                            }
                          }
                        ],
                        "label": "2012-11",
                        "method": "animate"
                      },
                      {
                        "args": [
                          [
                            "2012-12"
                          ],
                          {
                            "frame": {
                              "duration": 0,
                              "redraw": true
                            },
                            "fromcurrent": true,
                            "mode": "immediate",
                            "transition": {
                              "duration": 0,
                              "easing": "linear"
                            }
                          }
                        ],
                        "label": "2012-12",
                        "method": "animate"
                      },
                      {
                        "args": [
                          [
                            "2013-01"
                          ],
                          {
                            "frame": {
                              "duration": 0,
                              "redraw": true
                            },
                            "fromcurrent": true,
                            "mode": "immediate",
                            "transition": {
                              "duration": 0,
                              "easing": "linear"
                            }
                          }
                        ],
                        "label": "2013-01",
                        "method": "animate"
                      }
                    ],
                    "x": 0.1,
                    "xanchor": "left",
                    "y": 0,
                    "yanchor": "top"
                  }
                ],
                "template": {
                  "data": {
                    "bar": [
                      {
                        "error_x": {
                          "color": "#2a3f5f"
                        },
                        "error_y": {
                          "color": "#2a3f5f"
                        },
                        "marker": {
                          "line": {
                            "color": "#E5ECF6",
                            "width": 0.5
                          },
                          "pattern": {
                            "fillmode": "overlay",
                            "size": 10,
                            "solidity": 0.2
                          }
                        },
                        "type": "bar"
                      }
                    ],
                    "barpolar": [
                      {
                        "marker": {
                          "line": {
                            "color": "#E5ECF6",
                            "width": 0.5
                          },
                          "pattern": {
                            "fillmode": "overlay",
                            "size": 10,
                            "solidity": 0.2
                          }
                        },
                        "type": "barpolar"
                      }
                    ],
                    "carpet": [
                      {
                        "aaxis": {
                          "endlinecolor": "#2a3f5f",
                          "gridcolor": "white",
                          "linecolor": "white",
                          "minorgridcolor": "white",
                          "startlinecolor": "#2a3f5f"
                        },
                        "baxis": {
                          "endlinecolor": "#2a3f5f",
                          "gridcolor": "white",
                          "linecolor": "white",
                          "minorgridcolor": "white",
                          "startlinecolor": "#2a3f5f"
                        },
                        "type": "carpet"
                      }
                    ],
                    "choropleth": [
                      {
                        "colorbar": {
                          "outlinewidth": 0,
                          "ticks": ""
                        },
                        "type": "choropleth"
                      }
                    ],
                    "contour": [
                      {
                        "colorbar": {
                          "outlinewidth": 0,
                          "ticks": ""
                        },
                        "colorscale": [
                          [
                            0,
                            "#0d0887"
                          ],
                          [
                            0.1111111111111111,
                            "#46039f"
                          ],
                          [
                            0.2222222222222222,
                            "#7201a8"
                          ],
                          [
                            0.3333333333333333,
                            "#9c179e"
                          ],
                          [
                            0.4444444444444444,
                            "#bd3786"
                          ],
                          [
                            0.5555555555555556,
                            "#d8576b"
                          ],
                          [
                            0.6666666666666666,
                            "#ed7953"
                          ],
                          [
                            0.7777777777777778,
                            "#fb9f3a"
                          ],
                          [
                            0.8888888888888888,
                            "#fdca26"
                          ],
                          [
                            1,
                            "#f0f921"
                          ]
                        ],
                        "type": "contour"
                      }
                    ],
                    "contourcarpet": [
                      {
                        "colorbar": {
                          "outlinewidth": 0,
                          "ticks": ""
                        },
                        "type": "contourcarpet"
                      }
                    ],
                    "heatmap": [
                      {
                        "colorbar": {
                          "outlinewidth": 0,
                          "ticks": ""
                        },
                        "colorscale": [
                          [
                            0,
                            "#0d0887"
                          ],
                          [
                            0.1111111111111111,
                            "#46039f"
                          ],
                          [
                            0.2222222222222222,
                            "#7201a8"
                          ],
                          [
                            0.3333333333333333,
                            "#9c179e"
                          ],
                          [
                            0.4444444444444444,
                            "#bd3786"
                          ],
                          [
                            0.5555555555555556,
                            "#d8576b"
                          ],
                          [
                            0.6666666666666666,
                            "#ed7953"
                          ],
                          [
                            0.7777777777777778,
                            "#fb9f3a"
                          ],
                          [
                            0.8888888888888888,
                            "#fdca26"
                          ],
                          [
                            1,
                            "#f0f921"
                          ]
                        ],
                        "type": "heatmap"
                      }
                    ],
                    "heatmapgl": [
                      {
                        "colorbar": {
                          "outlinewidth": 0,
                          "ticks": ""
                        },
                        "colorscale": [
                          [
                            0,
                            "#0d0887"
                          ],
                          [
                            0.1111111111111111,
                            "#46039f"
                          ],
                          [
                            0.2222222222222222,
                            "#7201a8"
                          ],
                          [
                            0.3333333333333333,
                            "#9c179e"
                          ],
                          [
                            0.4444444444444444,
                            "#bd3786"
                          ],
                          [
                            0.5555555555555556,
                            "#d8576b"
                          ],
                          [
                            0.6666666666666666,
                            "#ed7953"
                          ],
                          [
                            0.7777777777777778,
                            "#fb9f3a"
                          ],
                          [
                            0.8888888888888888,
                            "#fdca26"
                          ],
                          [
                            1,
                            "#f0f921"
                          ]
                        ],
                        "type": "heatmapgl"
                      }
                    ],
                    "histogram": [
                      {
                        "marker": {
                          "pattern": {
                            "fillmode": "overlay",
                            "size": 10,
                            "solidity": 0.2
                          }
                        },
                        "type": "histogram"
                      }
                    ],
                    "histogram2d": [
                      {
                        "colorbar": {
                          "outlinewidth": 0,
                          "ticks": ""
                        },
                        "colorscale": [
                          [
                            0,
                            "#0d0887"
                          ],
                          [
                            0.1111111111111111,
                            "#46039f"
                          ],
                          [
                            0.2222222222222222,
                            "#7201a8"
                          ],
                          [
                            0.3333333333333333,
                            "#9c179e"
                          ],
                          [
                            0.4444444444444444,
                            "#bd3786"
                          ],
                          [
                            0.5555555555555556,
                            "#d8576b"
                          ],
                          [
                            0.6666666666666666,
                            "#ed7953"
                          ],
                          [
                            0.7777777777777778,
                            "#fb9f3a"
                          ],
                          [
                            0.8888888888888888,
                            "#fdca26"
                          ],
                          [
                            1,
                            "#f0f921"
                          ]
                        ],
                        "type": "histogram2d"
                      }
                    ],
                    "histogram2dcontour": [
                      {
                        "colorbar": {
                          "outlinewidth": 0,
                          "ticks": ""
                        },
                        "colorscale": [
                          [
                            0,
                            "#0d0887"
                          ],
                          [
                            0.1111111111111111,
                            "#46039f"
                          ],
                          [
                            0.2222222222222222,
                            "#7201a8"
                          ],
                          [
                            0.3333333333333333,
                            "#9c179e"
                          ],
                          [
                            0.4444444444444444,
                            "#bd3786"
                          ],
                          [
                            0.5555555555555556,
                            "#d8576b"
                          ],
                          [
                            0.6666666666666666,
                            "#ed7953"
                          ],
                          [
                            0.7777777777777778,
                            "#fb9f3a"
                          ],
                          [
                            0.8888888888888888,
                            "#fdca26"
                          ],
                          [
                            1,
                            "#f0f921"
                          ]
                        ],
                        "type": "histogram2dcontour"
                      }
                    ],
                    "mesh3d": [
                      {
                        "colorbar": {
                          "outlinewidth": 0,
                          "ticks": ""
                        },
                        "type": "mesh3d"
                      }
                    ],
                    "parcoords": [
                      {
                        "line": {
                          "colorbar": {
                            "outlinewidth": 0,
                            "ticks": ""
                          }
                        },
                        "type": "parcoords"
                      }
                    ],
                    "pie": [
                      {
                        "automargin": true,
                        "type": "pie"
                      }
                    ],
                    "scatter": [
                      {
                        "marker": {
                          "colorbar": {
                            "outlinewidth": 0,
                            "ticks": ""
                          }
                        },
                        "type": "scatter"
                      }
                    ],
                    "scatter3d": [
                      {
                        "line": {
                          "colorbar": {
                            "outlinewidth": 0,
                            "ticks": ""
                          }
                        },
                        "marker": {
                          "colorbar": {
                            "outlinewidth": 0,
                            "ticks": ""
                          }
                        },
                        "type": "scatter3d"
                      }
                    ],
                    "scattercarpet": [
                      {
                        "marker": {
                          "colorbar": {
                            "outlinewidth": 0,
                            "ticks": ""
                          }
                        },
                        "type": "scattercarpet"
                      }
                    ],
                    "scattergeo": [
                      {
                        "marker": {
                          "colorbar": {
                            "outlinewidth": 0,
                            "ticks": ""
                          }
                        },
                        "type": "scattergeo"
                      }
                    ],
                    "scattergl": [
                      {
                        "marker": {
                          "colorbar": {
                            "outlinewidth": 0,
                            "ticks": ""
                          }
                        },
                        "type": "scattergl"
                      }
                    ],
                    "scattermapbox": [
                      {
                        "marker": {
                          "colorbar": {
                            "outlinewidth": 0,
                            "ticks": ""
                          }
                        },
                        "type": "scattermapbox"
                      }
                    ],
                    "scatterpolar": [
                      {
                        "marker": {
                          "colorbar": {
                            "outlinewidth": 0,
                            "ticks": ""
                          }
                        },
                        "type": "scatterpolar"
                      }
                    ],
                    "scatterpolargl": [
                      {
                        "marker": {
                          "colorbar": {
                            "outlinewidth": 0,
                            "ticks": ""
                          }
                        },
                        "type": "scatterpolargl"
                      }
                    ],
                    "scatterternary": [
                      {
                        "marker": {
                          "colorbar": {
                            "outlinewidth": 0,
                            "ticks": ""
                          }
                        },
                        "type": "scatterternary"
                      }
                    ],
                    "surface": [
                      {
                        "colorbar": {
                          "outlinewidth": 0,
                          "ticks": ""
                        },
                        "colorscale": [
                          [
                            0,
                            "#0d0887"
                          ],
                          [
                            0.1111111111111111,
                            "#46039f"
                          ],
                          [
                            0.2222222222222222,
                            "#7201a8"
                          ],
                          [
                            0.3333333333333333,
                            "#9c179e"
                          ],
                          [
                            0.4444444444444444,
                            "#bd3786"
                          ],
                          [
                            0.5555555555555556,
                            "#d8576b"
                          ],
                          [
                            0.6666666666666666,
                            "#ed7953"
                          ],
                          [
                            0.7777777777777778,
                            "#fb9f3a"
                          ],
                          [
                            0.8888888888888888,
                            "#fdca26"
                          ],
                          [
                            1,
                            "#f0f921"
                          ]
                        ],
                        "type": "surface"
                      }
                    ],
                    "table": [
                      {
                        "cells": {
                          "fill": {
                            "color": "#EBF0F8"
                          },
                          "line": {
                            "color": "white"
                          }
                        },
                        "header": {
                          "fill": {
                            "color": "#C8D4E3"
                          },
                          "line": {
                            "color": "white"
                          }
                        },
                        "type": "table"
                      }
                    ]
                  },
                  "layout": {
                    "annotationdefaults": {
                      "arrowcolor": "#2a3f5f",
                      "arrowhead": 0,
                      "arrowwidth": 1
                    },
                    "autotypenumbers": "strict",
                    "coloraxis": {
                      "colorbar": {
                        "outlinewidth": 0,
                        "ticks": ""
                      }
                    },
                    "colorscale": {
                      "diverging": [
                        [
                          0,
                          "#8e0152"
                        ],
                        [
                          0.1,
                          "#c51b7d"
                        ],
                        [
                          0.2,
                          "#de77ae"
                        ],
                        [
                          0.3,
                          "#f1b6da"
                        ],
                        [
                          0.4,
                          "#fde0ef"
                        ],
                        [
                          0.5,
                          "#f7f7f7"
                        ],
                        [
                          0.6,
                          "#e6f5d0"
                        ],
                        [
                          0.7,
                          "#b8e186"
                        ],
                        [
                          0.8,
                          "#7fbc41"
                        ],
                        [
                          0.9,
                          "#4d9221"
                        ],
                        [
                          1,
                          "#276419"
                        ]
                      ],
                      "sequential": [
                        [
                          0,
                          "#0d0887"
                        ],
                        [
                          0.1111111111111111,
                          "#46039f"
                        ],
                        [
                          0.2222222222222222,
                          "#7201a8"
                        ],
                        [
                          0.3333333333333333,
                          "#9c179e"
                        ],
                        [
                          0.4444444444444444,
                          "#bd3786"
                        ],
                        [
                          0.5555555555555556,
                          "#d8576b"
                        ],
                        [
                          0.6666666666666666,
                          "#ed7953"
                        ],
                        [
                          0.7777777777777778,
                          "#fb9f3a"
                        ],
                        [
                          0.8888888888888888,
                          "#fdca26"
                        ],
                        [
                          1,
                          "#f0f921"
                        ]
                      ],
                      "sequentialminus": [
                        [
                          0,
                          "#0d0887"
                        ],
                        [
                          0.1111111111111111,
                          "#46039f"
                        ],
                        [
                          0.2222222222222222,
                          "#7201a8"
                        ],
                        [
                          0.3333333333333333,
                          "#9c179e"
                        ],
                        [
                          0.4444444444444444,
                          "#bd3786"
                        ],
                        [
                          0.5555555555555556,
                          "#d8576b"
                        ],
                        [
                          0.6666666666666666,
                          "#ed7953"
                        ],
                        [
                          0.7777777777777778,
                          "#fb9f3a"
                        ],
                        [
                          0.8888888888888888,
                          "#fdca26"
                        ],
                        [
                          1,
                          "#f0f921"
                        ]
                      ]
                    },
                    "colorway": [
                      "#636efa",
                      "#EF553B",
                      "#00cc96",
                      "#ab63fa",
                      "#FFA15A",
                      "#19d3f3",
                      "#FF6692",
                      "#B6E880",
                      "#FF97FF",
                      "#FECB52"
                    ],
                    "font": {
                      "color": "#2a3f5f"
                    },
                    "geo": {
                      "bgcolor": "white",
                      "lakecolor": "white",
                      "landcolor": "#E5ECF6",
                      "showlakes": true,
                      "showland": true,
                      "subunitcolor": "white"
                    },
                    "hoverlabel": {
                      "align": "left"
                    },
                    "hovermode": "closest",
                    "mapbox": {
                      "style": "light"
                    },
                    "paper_bgcolor": "white",
                    "plot_bgcolor": "#E5ECF6",
                    "polar": {
                      "angularaxis": {
                        "gridcolor": "white",
                        "linecolor": "white",
                        "ticks": ""
                      },
                      "bgcolor": "#E5ECF6",
                      "radialaxis": {
                        "gridcolor": "white",
                        "linecolor": "white",
                        "ticks": ""
                      }
                    },
                    "scene": {
                      "xaxis": {
                        "backgroundcolor": "#E5ECF6",
                        "gridcolor": "white",
                        "gridwidth": 2,
                        "linecolor": "white",
                        "showbackground": true,
                        "ticks": "",
                        "zerolinecolor": "white"
                      },
                      "yaxis": {
                        "backgroundcolor": "#E5ECF6",
                        "gridcolor": "white",
                        "gridwidth": 2,
                        "linecolor": "white",
                        "showbackground": true,
                        "ticks": "",
                        "zerolinecolor": "white"
                      },
                      "zaxis": {
                        "backgroundcolor": "#E5ECF6",
                        "gridcolor": "white",
                        "gridwidth": 2,
                        "linecolor": "white",
                        "showbackground": true,
                        "ticks": "",
                        "zerolinecolor": "white"
                      }
                    },
                    "shapedefaults": {
                      "line": {
                        "color": "#2a3f5f"
                      }
                    },
                    "ternary": {
                      "aaxis": {
                        "gridcolor": "white",
                        "linecolor": "white",
                        "ticks": ""
                      },
                      "baxis": {
                        "gridcolor": "white",
                        "linecolor": "white",
                        "ticks": ""
                      },
                      "bgcolor": "#E5ECF6",
                      "caxis": {
                        "gridcolor": "white",
                        "linecolor": "white",
                        "ticks": ""
                      }
                    },
                    "title": {
                      "x": 0.05
                    },
                    "xaxis": {
                      "automargin": true,
                      "gridcolor": "white",
                      "linecolor": "white",
                      "ticks": "",
                      "title": {
                        "standoff": 15
                      },
                      "zerolinecolor": "white",
                      "zerolinewidth": 2
                    },
                    "yaxis": {
                      "automargin": true,
                      "gridcolor": "white",
                      "linecolor": "white",
                      "ticks": "",
                      "title": {
                        "standoff": 15
                      },
                      "zerolinecolor": "white",
                      "zerolinewidth": 2
                    }
                  }
                },
                "title": {
                  "text": "The mean of electricity overload in Family Fourth"
                },
                "updatemenus": [
                  {
                    "buttons": [
                      {
                        "args": [
                          null,
                          {
                            "frame": {
                              "duration": 500,
                              "redraw": true
                            },
                            "fromcurrent": true,
                            "mode": "immediate",
                            "transition": {
                              "duration": 500,
                              "easing": "linear"
                            }
                          }
                        ],
                        "label": "&#9654;",
                        "method": "animate"
                      },
                      {
                        "args": [
                          [
                            null
                          ],
                          {
                            "frame": {
                              "duration": 0,
                              "redraw": true
                            },
                            "fromcurrent": true,
                            "mode": "immediate",
                            "transition": {
                              "duration": 0,
                              "easing": "linear"
                            }
                          }
                        ],
                        "label": "&#9724;",
                        "method": "animate"
                      }
                    ],
                    "direction": "left",
                    "pad": {
                      "r": 10,
                      "t": 70
                    },
                    "showactive": false,
                    "type": "buttons",
                    "x": 0.1,
                    "xanchor": "right",
                    "y": 0,
                    "yanchor": "top"
                  }
                ],
                "xaxis": {
                  "anchor": "y",
                  "domain": [
                    0,
                    1
                  ],
                  "title": {
                    "text": "Hours"
                  }
                },
                "yaxis": {
                  "anchor": "x",
                  "domain": [
                    0,
                    1
                  ],
                  "title": {
                    "text": "Electricity Overload"
                  }
                }
              }
            },
            "text/html": [
              "<div>                            <div id=\"b116c758-7b0f-4e7d-8731-f3ed0464d480\" class=\"plotly-graph-div\" style=\"height:525px; width:100%;\"></div>            <script type=\"text/javascript\">                require([\"plotly\"], function(Plotly) {                    window.PLOTLYENV=window.PLOTLYENV || {};                                    if (document.getElementById(\"b116c758-7b0f-4e7d-8731-f3ed0464d480\")) {                    Plotly.newPlot(                        \"b116c758-7b0f-4e7d-8731-f3ed0464d480\",                        [{\"alignmentgroup\":\"True\",\"hovertemplate\":\"furniture_type=Entertainment<br>date=2012-06<br>hours=%{x}<br>overload=%{y}<extra></extra>\",\"legendgroup\":\"Entertainment\",\"marker\":{\"color\":\"#636efa\",\"pattern\":{\"shape\":\"\"}},\"name\":\"Entertainment\",\"offsetgroup\":\"Entertainment\",\"orientation\":\"v\",\"showlegend\":true,\"textposition\":\"auto\",\"x\":[\"0h\",\"1h\",\"2h\",\"3h\",\"4h\",\"5h\",\"6h\",\"7h\",\"8h\",\"9h\",\"10h\",\"11h\",\"12h\",\"13h\",\"14h\",\"15h\",\"16h\",\"17h\",\"18h\",\"19h\",\"20h\",\"21h\",\"22h\",\"23h\"],\"xaxis\":\"x\",\"y\":[28958.237745,31848.975875,35568.677070000005,35085.648570000005,39049.7451,38391.9521,85256.89538,81383.07371,58067.48981,47677.70398,87149.1254,102627.71766,110200.12054,258335.730105,78157.409535,58394.681045,69081.81792500001,114451.16415,94197.75993,154996.25826499998,51729.032575000005,38859.027455,29334.167465,28985.244195],\"yaxis\":\"y\",\"type\":\"bar\"},{\"alignmentgroup\":\"True\",\"hovertemplate\":\"furniture_type=Freezer<br>date=2012-06<br>hours=%{x}<br>overload=%{y}<extra></extra>\",\"legendgroup\":\"Freezer\",\"marker\":{\"color\":\"#EF553B\",\"pattern\":{\"shape\":\"\"}},\"name\":\"Freezer\",\"offsetgroup\":\"Freezer\",\"orientation\":\"v\",\"showlegend\":true,\"textposition\":\"auto\",\"x\":[\"0h\",\"1h\",\"2h\",\"3h\",\"4h\",\"5h\",\"6h\",\"7h\",\"8h\",\"9h\",\"10h\",\"11h\",\"12h\",\"13h\",\"14h\",\"15h\",\"16h\",\"17h\",\"18h\",\"19h\",\"20h\",\"21h\",\"22h\",\"23h\"],\"xaxis\":\"x\",\"y\":[577106.249675,624290.283725,658433.5414999999,673981.9708,737252.228775,751904.926475,780064.099275,654733.29475,639740.49125,588839.7349,633831.174,731295.36135,809044.504025,817556.0495,815470.490575,840009.709325,834600.2590000001,823562.841,795600.63475,774221.1411,582315.35535,610226.7314,633313.1096,603517.05025],\"yaxis\":\"y\",\"type\":\"bar\"},{\"alignmentgroup\":\"True\",\"hovertemplate\":\"furniture_type=Fridge<br>date=2012-06<br>hours=%{x}<br>overload=%{y}<extra></extra>\",\"legendgroup\":\"Fridge\",\"marker\":{\"color\":\"#00cc96\",\"pattern\":{\"shape\":\"\"}},\"name\":\"Fridge\",\"offsetgroup\":\"Fridge\",\"orientation\":\"v\",\"showlegend\":true,\"textposition\":\"auto\",\"x\":[\"0h\",\"1h\",\"2h\",\"3h\",\"4h\",\"5h\",\"6h\",\"7h\",\"8h\",\"9h\",\"10h\",\"11h\",\"12h\",\"13h\",\"14h\",\"15h\",\"16h\",\"17h\",\"18h\",\"19h\",\"20h\",\"21h\",\"22h\",\"23h\"],\"xaxis\":\"x\",\"y\":[82476.2106325,101113.9536925,81157.5997275,107798.388545,110422.0661275,108699.8811075,127010.373375,107466.5961275,87014.04828,86583.52434999999,86668.048125,97054.608185,129895.1183725,118580.49268,124936.8616875,128265.508005,125977.853575,122606.3117025,139042.749335,129287.05339,92477.28798,91232.496125,91932.5061375,89867.21567],\"yaxis\":\"y\",\"type\":\"bar\"},{\"alignmentgroup\":\"True\",\"hovertemplate\":\"furniture_type=KitchenAppliances<br>date=2012-06<br>hours=%{x}<br>overload=%{y}<extra></extra>\",\"legendgroup\":\"KitchenAppliances\",\"marker\":{\"color\":\"#ab63fa\",\"pattern\":{\"shape\":\"\"}},\"name\":\"KitchenAppliances\",\"offsetgroup\":\"KitchenAppliances\",\"orientation\":\"v\",\"showlegend\":true,\"textposition\":\"auto\",\"x\":[\"0h\",\"1h\",\"2h\",\"3h\",\"4h\",\"5h\",\"6h\",\"7h\",\"8h\",\"9h\",\"10h\",\"11h\",\"12h\",\"13h\",\"14h\",\"15h\",\"16h\",\"17h\",\"18h\",\"19h\",\"20h\",\"21h\",\"22h\",\"23h\"],\"xaxis\":\"x\",\"y\":[1454.4462300000002,1613.0442000000003,1795.4589300000002,1785.1744200000003,1970.28077,1928.6162700000002,216039.04664,75942.80961,32974.451595,1444.16172,1504.2449100000001,1805.20215,10907.611895000002,49875.76482,119008.305685,289353.00611,16443.788635,32084.00437,136221.773615,1973.5433400000002,1526.97909,1490.17137,1541.0526300000001,1492.33653],\"yaxis\":\"y\",\"type\":\"bar\"},{\"alignmentgroup\":\"True\",\"hovertemplate\":\"furniture_type=Lamp<br>date=2012-06<br>hours=%{x}<br>overload=%{y}<extra></extra>\",\"legendgroup\":\"Lamp\",\"marker\":{\"color\":\"#FFA15A\",\"pattern\":{\"shape\":\"\"}},\"name\":\"Lamp\",\"offsetgroup\":\"Lamp\",\"orientation\":\"v\",\"showlegend\":true,\"textposition\":\"auto\",\"x\":[\"0h\",\"1h\",\"2h\",\"3h\",\"4h\",\"5h\",\"6h\",\"7h\",\"8h\",\"9h\",\"10h\",\"11h\",\"12h\",\"13h\",\"14h\",\"15h\",\"16h\",\"17h\",\"18h\",\"19h\",\"20h\",\"21h\",\"22h\",\"23h\"],\"xaxis\":\"x\",\"y\":[1673.11566,1824.3008100000002,2007.4028250000001,2024.2011750000001,2161.3877,2133.950395,6929.097525,34732.088565,12748.6016775,7831.0001950000005,6816.86697,8553.084825000002,19307.4269775,17970.224515,9431.299570000001,16528.8398,21262.315470000005,18755.3074425,28349.1409125,21069.643155,7381.2008125,5371.4872000000005,12851.377345,1622.1606649999999],\"yaxis\":\"y\",\"type\":\"bar\"},{\"alignmentgroup\":\"True\",\"hovertemplate\":\"furniture_type=Microwave<br>date=2012-06<br>hours=%{x}<br>overload=%{y}<extra></extra>\",\"legendgroup\":\"Microwave\",\"marker\":{\"color\":\"#19d3f3\",\"pattern\":{\"shape\":\"\"}},\"name\":\"Microwave\",\"offsetgroup\":\"Microwave\",\"orientation\":\"v\",\"showlegend\":true,\"textposition\":\"auto\",\"x\":[\"0h\",\"1h\",\"2h\",\"3h\",\"4h\",\"5h\",\"6h\",\"7h\",\"8h\",\"9h\",\"10h\",\"11h\",\"12h\",\"13h\",\"14h\",\"15h\",\"16h\",\"17h\",\"18h\",\"19h\",\"20h\",\"21h\",\"22h\",\"23h\"],\"xaxis\":\"x\",\"y\":[7838.819039999999,8617.317039999998,9597.134888,9422.692984,10604.02432,10409.632892,45244.274624,28069.913987999997,40457.864324,7980.510639999999,93018.74453599998,316165.644912,208718.45096800002,10518.5864,10649.28104,10723.29904,10762.634320000001,435707.870864,357601.73786000005,224738.124316,8202.415792,8004.61936,7991.084639999999,7919.956956],\"yaxis\":\"y\",\"type\":\"bar\"},{\"alignmentgroup\":\"True\",\"hovertemplate\":\"furniture_type=StereoAndLaptop<br>date=2012-06<br>hours=%{x}<br>overload=%{y}<extra></extra>\",\"legendgroup\":\"StereoAndLaptop\",\"marker\":{\"color\":\"#FF6692\",\"pattern\":{\"shape\":\"\"}},\"name\":\"StereoAndLaptop\",\"offsetgroup\":\"StereoAndLaptop\",\"orientation\":\"v\",\"showlegend\":true,\"textposition\":\"auto\",\"x\":[\"0h\",\"1h\",\"2h\",\"3h\",\"4h\",\"5h\",\"6h\",\"7h\",\"8h\",\"9h\",\"10h\",\"11h\",\"12h\",\"13h\",\"14h\",\"15h\",\"16h\",\"17h\",\"18h\",\"19h\",\"20h\",\"21h\",\"22h\",\"23h\"],\"xaxis\":\"x\",\"y\":[39492.35875,43454.1627,48402.9005,47854.198650000006,53204.137050000005,52266.271974999996,52676.0758,46414.7168,39655.9081,40170.60785,40080.8158,62648.3024,68500.821025,69981.297275,70717.80255,104988.108475,75727.835425,70154.45275,71912.85005,66217.109625,42365.590025,41383.90935,40477.94195,39764.344274999996],\"yaxis\":\"y\",\"type\":\"bar\"},{\"alignmentgroup\":\"True\",\"hovertemplate\":\"furniture_type=Tablet<br>date=2012-06<br>hours=%{x}<br>overload=%{y}<extra></extra>\",\"legendgroup\":\"Tablet\",\"marker\":{\"color\":\"#B6E880\",\"pattern\":{\"shape\":\"\"}},\"name\":\"Tablet\",\"offsetgroup\":\"Tablet\",\"orientation\":\"v\",\"showlegend\":true,\"textposition\":\"auto\",\"x\":[\"0h\",\"1h\",\"2h\",\"3h\",\"4h\",\"5h\",\"6h\",\"7h\",\"8h\",\"9h\",\"10h\",\"11h\",\"12h\",\"13h\",\"14h\",\"15h\",\"16h\",\"17h\",\"18h\",\"19h\",\"20h\",\"21h\",\"22h\",\"23h\"],\"xaxis\":\"x\",\"y\":[2403.3006425,2917.61701,3034.0765125,2926.53257,2968.82955,3221.860495,3587.6936349999996,3831.5011974999998,3003.4849624999997,3025.9135949999995,3135.6843774999998,4004.3621399999993,4226.611922499999,4320.187379999999,3992.676525,4146.17817,4156.23414,4227.8322775,4066.4475224999996,4038.7941174999996,2987.2916875,2898.8231349999996,2936.0132099999996,2651.833835],\"yaxis\":\"y\",\"type\":\"bar\"}],                        {\"template\":{\"data\":{\"bar\":[{\"error_x\":{\"color\":\"#2a3f5f\"},\"error_y\":{\"color\":\"#2a3f5f\"},\"marker\":{\"line\":{\"color\":\"#E5ECF6\",\"width\":0.5},\"pattern\":{\"fillmode\":\"overlay\",\"size\":10,\"solidity\":0.2}},\"type\":\"bar\"}],\"barpolar\":[{\"marker\":{\"line\":{\"color\":\"#E5ECF6\",\"width\":0.5},\"pattern\":{\"fillmode\":\"overlay\",\"size\":10,\"solidity\":0.2}},\"type\":\"barpolar\"}],\"carpet\":[{\"aaxis\":{\"endlinecolor\":\"#2a3f5f\",\"gridcolor\":\"white\",\"linecolor\":\"white\",\"minorgridcolor\":\"white\",\"startlinecolor\":\"#2a3f5f\"},\"baxis\":{\"endlinecolor\":\"#2a3f5f\",\"gridcolor\":\"white\",\"linecolor\":\"white\",\"minorgridcolor\":\"white\",\"startlinecolor\":\"#2a3f5f\"},\"type\":\"carpet\"}],\"choropleth\":[{\"colorbar\":{\"outlinewidth\":0,\"ticks\":\"\"},\"type\":\"choropleth\"}],\"contour\":[{\"colorbar\":{\"outlinewidth\":0,\"ticks\":\"\"},\"colorscale\":[[0.0,\"#0d0887\"],[0.1111111111111111,\"#46039f\"],[0.2222222222222222,\"#7201a8\"],[0.3333333333333333,\"#9c179e\"],[0.4444444444444444,\"#bd3786\"],[0.5555555555555556,\"#d8576b\"],[0.6666666666666666,\"#ed7953\"],[0.7777777777777778,\"#fb9f3a\"],[0.8888888888888888,\"#fdca26\"],[1.0,\"#f0f921\"]],\"type\":\"contour\"}],\"contourcarpet\":[{\"colorbar\":{\"outlinewidth\":0,\"ticks\":\"\"},\"type\":\"contourcarpet\"}],\"heatmap\":[{\"colorbar\":{\"outlinewidth\":0,\"ticks\":\"\"},\"colorscale\":[[0.0,\"#0d0887\"],[0.1111111111111111,\"#46039f\"],[0.2222222222222222,\"#7201a8\"],[0.3333333333333333,\"#9c179e\"],[0.4444444444444444,\"#bd3786\"],[0.5555555555555556,\"#d8576b\"],[0.6666666666666666,\"#ed7953\"],[0.7777777777777778,\"#fb9f3a\"],[0.8888888888888888,\"#fdca26\"],[1.0,\"#f0f921\"]],\"type\":\"heatmap\"}],\"heatmapgl\":[{\"colorbar\":{\"outlinewidth\":0,\"ticks\":\"\"},\"colorscale\":[[0.0,\"#0d0887\"],[0.1111111111111111,\"#46039f\"],[0.2222222222222222,\"#7201a8\"],[0.3333333333333333,\"#9c179e\"],[0.4444444444444444,\"#bd3786\"],[0.5555555555555556,\"#d8576b\"],[0.6666666666666666,\"#ed7953\"],[0.7777777777777778,\"#fb9f3a\"],[0.8888888888888888,\"#fdca26\"],[1.0,\"#f0f921\"]],\"type\":\"heatmapgl\"}],\"histogram\":[{\"marker\":{\"pattern\":{\"fillmode\":\"overlay\",\"size\":10,\"solidity\":0.2}},\"type\":\"histogram\"}],\"histogram2d\":[{\"colorbar\":{\"outlinewidth\":0,\"ticks\":\"\"},\"colorscale\":[[0.0,\"#0d0887\"],[0.1111111111111111,\"#46039f\"],[0.2222222222222222,\"#7201a8\"],[0.3333333333333333,\"#9c179e\"],[0.4444444444444444,\"#bd3786\"],[0.5555555555555556,\"#d8576b\"],[0.6666666666666666,\"#ed7953\"],[0.7777777777777778,\"#fb9f3a\"],[0.8888888888888888,\"#fdca26\"],[1.0,\"#f0f921\"]],\"type\":\"histogram2d\"}],\"histogram2dcontour\":[{\"colorbar\":{\"outlinewidth\":0,\"ticks\":\"\"},\"colorscale\":[[0.0,\"#0d0887\"],[0.1111111111111111,\"#46039f\"],[0.2222222222222222,\"#7201a8\"],[0.3333333333333333,\"#9c179e\"],[0.4444444444444444,\"#bd3786\"],[0.5555555555555556,\"#d8576b\"],[0.6666666666666666,\"#ed7953\"],[0.7777777777777778,\"#fb9f3a\"],[0.8888888888888888,\"#fdca26\"],[1.0,\"#f0f921\"]],\"type\":\"histogram2dcontour\"}],\"mesh3d\":[{\"colorbar\":{\"outlinewidth\":0,\"ticks\":\"\"},\"type\":\"mesh3d\"}],\"parcoords\":[{\"line\":{\"colorbar\":{\"outlinewidth\":0,\"ticks\":\"\"}},\"type\":\"parcoords\"}],\"pie\":[{\"automargin\":true,\"type\":\"pie\"}],\"scatter\":[{\"marker\":{\"colorbar\":{\"outlinewidth\":0,\"ticks\":\"\"}},\"type\":\"scatter\"}],\"scatter3d\":[{\"line\":{\"colorbar\":{\"outlinewidth\":0,\"ticks\":\"\"}},\"marker\":{\"colorbar\":{\"outlinewidth\":0,\"ticks\":\"\"}},\"type\":\"scatter3d\"}],\"scattercarpet\":[{\"marker\":{\"colorbar\":{\"outlinewidth\":0,\"ticks\":\"\"}},\"type\":\"scattercarpet\"}],\"scattergeo\":[{\"marker\":{\"colorbar\":{\"outlinewidth\":0,\"ticks\":\"\"}},\"type\":\"scattergeo\"}],\"scattergl\":[{\"marker\":{\"colorbar\":{\"outlinewidth\":0,\"ticks\":\"\"}},\"type\":\"scattergl\"}],\"scattermapbox\":[{\"marker\":{\"colorbar\":{\"outlinewidth\":0,\"ticks\":\"\"}},\"type\":\"scattermapbox\"}],\"scatterpolar\":[{\"marker\":{\"colorbar\":{\"outlinewidth\":0,\"ticks\":\"\"}},\"type\":\"scatterpolar\"}],\"scatterpolargl\":[{\"marker\":{\"colorbar\":{\"outlinewidth\":0,\"ticks\":\"\"}},\"type\":\"scatterpolargl\"}],\"scatterternary\":[{\"marker\":{\"colorbar\":{\"outlinewidth\":0,\"ticks\":\"\"}},\"type\":\"scatterternary\"}],\"surface\":[{\"colorbar\":{\"outlinewidth\":0,\"ticks\":\"\"},\"colorscale\":[[0.0,\"#0d0887\"],[0.1111111111111111,\"#46039f\"],[0.2222222222222222,\"#7201a8\"],[0.3333333333333333,\"#9c179e\"],[0.4444444444444444,\"#bd3786\"],[0.5555555555555556,\"#d8576b\"],[0.6666666666666666,\"#ed7953\"],[0.7777777777777778,\"#fb9f3a\"],[0.8888888888888888,\"#fdca26\"],[1.0,\"#f0f921\"]],\"type\":\"surface\"}],\"table\":[{\"cells\":{\"fill\":{\"color\":\"#EBF0F8\"},\"line\":{\"color\":\"white\"}},\"header\":{\"fill\":{\"color\":\"#C8D4E3\"},\"line\":{\"color\":\"white\"}},\"type\":\"table\"}]},\"layout\":{\"annotationdefaults\":{\"arrowcolor\":\"#2a3f5f\",\"arrowhead\":0,\"arrowwidth\":1},\"autotypenumbers\":\"strict\",\"coloraxis\":{\"colorbar\":{\"outlinewidth\":0,\"ticks\":\"\"}},\"colorscale\":{\"diverging\":[[0,\"#8e0152\"],[0.1,\"#c51b7d\"],[0.2,\"#de77ae\"],[0.3,\"#f1b6da\"],[0.4,\"#fde0ef\"],[0.5,\"#f7f7f7\"],[0.6,\"#e6f5d0\"],[0.7,\"#b8e186\"],[0.8,\"#7fbc41\"],[0.9,\"#4d9221\"],[1,\"#276419\"]],\"sequential\":[[0.0,\"#0d0887\"],[0.1111111111111111,\"#46039f\"],[0.2222222222222222,\"#7201a8\"],[0.3333333333333333,\"#9c179e\"],[0.4444444444444444,\"#bd3786\"],[0.5555555555555556,\"#d8576b\"],[0.6666666666666666,\"#ed7953\"],[0.7777777777777778,\"#fb9f3a\"],[0.8888888888888888,\"#fdca26\"],[1.0,\"#f0f921\"]],\"sequentialminus\":[[0.0,\"#0d0887\"],[0.1111111111111111,\"#46039f\"],[0.2222222222222222,\"#7201a8\"],[0.3333333333333333,\"#9c179e\"],[0.4444444444444444,\"#bd3786\"],[0.5555555555555556,\"#d8576b\"],[0.6666666666666666,\"#ed7953\"],[0.7777777777777778,\"#fb9f3a\"],[0.8888888888888888,\"#fdca26\"],[1.0,\"#f0f921\"]]},\"colorway\":[\"#636efa\",\"#EF553B\",\"#00cc96\",\"#ab63fa\",\"#FFA15A\",\"#19d3f3\",\"#FF6692\",\"#B6E880\",\"#FF97FF\",\"#FECB52\"],\"font\":{\"color\":\"#2a3f5f\"},\"geo\":{\"bgcolor\":\"white\",\"lakecolor\":\"white\",\"landcolor\":\"#E5ECF6\",\"showlakes\":true,\"showland\":true,\"subunitcolor\":\"white\"},\"hoverlabel\":{\"align\":\"left\"},\"hovermode\":\"closest\",\"mapbox\":{\"style\":\"light\"},\"paper_bgcolor\":\"white\",\"plot_bgcolor\":\"#E5ECF6\",\"polar\":{\"angularaxis\":{\"gridcolor\":\"white\",\"linecolor\":\"white\",\"ticks\":\"\"},\"bgcolor\":\"#E5ECF6\",\"radialaxis\":{\"gridcolor\":\"white\",\"linecolor\":\"white\",\"ticks\":\"\"}},\"scene\":{\"xaxis\":{\"backgroundcolor\":\"#E5ECF6\",\"gridcolor\":\"white\",\"gridwidth\":2,\"linecolor\":\"white\",\"showbackground\":true,\"ticks\":\"\",\"zerolinecolor\":\"white\"},\"yaxis\":{\"backgroundcolor\":\"#E5ECF6\",\"gridcolor\":\"white\",\"gridwidth\":2,\"linecolor\":\"white\",\"showbackground\":true,\"ticks\":\"\",\"zerolinecolor\":\"white\"},\"zaxis\":{\"backgroundcolor\":\"#E5ECF6\",\"gridcolor\":\"white\",\"gridwidth\":2,\"linecolor\":\"white\",\"showbackground\":true,\"ticks\":\"\",\"zerolinecolor\":\"white\"}},\"shapedefaults\":{\"line\":{\"color\":\"#2a3f5f\"}},\"ternary\":{\"aaxis\":{\"gridcolor\":\"white\",\"linecolor\":\"white\",\"ticks\":\"\"},\"baxis\":{\"gridcolor\":\"white\",\"linecolor\":\"white\",\"ticks\":\"\"},\"bgcolor\":\"#E5ECF6\",\"caxis\":{\"gridcolor\":\"white\",\"linecolor\":\"white\",\"ticks\":\"\"}},\"title\":{\"x\":0.05},\"xaxis\":{\"automargin\":true,\"gridcolor\":\"white\",\"linecolor\":\"white\",\"ticks\":\"\",\"title\":{\"standoff\":15},\"zerolinecolor\":\"white\",\"zerolinewidth\":2},\"yaxis\":{\"automargin\":true,\"gridcolor\":\"white\",\"linecolor\":\"white\",\"ticks\":\"\",\"title\":{\"standoff\":15},\"zerolinecolor\":\"white\",\"zerolinewidth\":2}}},\"xaxis\":{\"anchor\":\"y\",\"domain\":[0.0,1.0],\"title\":{\"text\":\"Hours\"}},\"yaxis\":{\"anchor\":\"x\",\"domain\":[0.0,1.0],\"title\":{\"text\":\"Electricity Overload\"}},\"legend\":{\"title\":{\"text\":\"furniture_type\"},\"tracegroupgap\":0},\"margin\":{\"t\":60},\"barmode\":\"relative\",\"updatemenus\":[{\"buttons\":[{\"args\":[null,{\"frame\":{\"duration\":500,\"redraw\":true},\"mode\":\"immediate\",\"fromcurrent\":true,\"transition\":{\"duration\":500,\"easing\":\"linear\"}}],\"label\":\"&#9654;\",\"method\":\"animate\"},{\"args\":[[null],{\"frame\":{\"duration\":0,\"redraw\":true},\"mode\":\"immediate\",\"fromcurrent\":true,\"transition\":{\"duration\":0,\"easing\":\"linear\"}}],\"label\":\"&#9724;\",\"method\":\"animate\"}],\"direction\":\"left\",\"pad\":{\"r\":10,\"t\":70},\"showactive\":false,\"type\":\"buttons\",\"x\":0.1,\"xanchor\":\"right\",\"y\":0,\"yanchor\":\"top\"}],\"sliders\":[{\"active\":0,\"currentvalue\":{\"prefix\":\"date=\"},\"len\":0.9,\"pad\":{\"b\":10,\"t\":60},\"steps\":[{\"args\":[[\"2012-06\"],{\"frame\":{\"duration\":0,\"redraw\":true},\"mode\":\"immediate\",\"fromcurrent\":true,\"transition\":{\"duration\":0,\"easing\":\"linear\"}}],\"label\":\"2012-06\",\"method\":\"animate\"},{\"args\":[[\"2012-07\"],{\"frame\":{\"duration\":0,\"redraw\":true},\"mode\":\"immediate\",\"fromcurrent\":true,\"transition\":{\"duration\":0,\"easing\":\"linear\"}}],\"label\":\"2012-07\",\"method\":\"animate\"},{\"args\":[[\"2012-08\"],{\"frame\":{\"duration\":0,\"redraw\":true},\"mode\":\"immediate\",\"fromcurrent\":true,\"transition\":{\"duration\":0,\"easing\":\"linear\"}}],\"label\":\"2012-08\",\"method\":\"animate\"},{\"args\":[[\"2012-09\"],{\"frame\":{\"duration\":0,\"redraw\":true},\"mode\":\"immediate\",\"fromcurrent\":true,\"transition\":{\"duration\":0,\"easing\":\"linear\"}}],\"label\":\"2012-09\",\"method\":\"animate\"},{\"args\":[[\"2012-10\"],{\"frame\":{\"duration\":0,\"redraw\":true},\"mode\":\"immediate\",\"fromcurrent\":true,\"transition\":{\"duration\":0,\"easing\":\"linear\"}}],\"label\":\"2012-10\",\"method\":\"animate\"},{\"args\":[[\"2012-11\"],{\"frame\":{\"duration\":0,\"redraw\":true},\"mode\":\"immediate\",\"fromcurrent\":true,\"transition\":{\"duration\":0,\"easing\":\"linear\"}}],\"label\":\"2012-11\",\"method\":\"animate\"},{\"args\":[[\"2012-12\"],{\"frame\":{\"duration\":0,\"redraw\":true},\"mode\":\"immediate\",\"fromcurrent\":true,\"transition\":{\"duration\":0,\"easing\":\"linear\"}}],\"label\":\"2012-12\",\"method\":\"animate\"},{\"args\":[[\"2013-01\"],{\"frame\":{\"duration\":0,\"redraw\":true},\"mode\":\"immediate\",\"fromcurrent\":true,\"transition\":{\"duration\":0,\"easing\":\"linear\"}}],\"label\":\"2013-01\",\"method\":\"animate\"}],\"x\":0.1,\"xanchor\":\"left\",\"y\":0,\"yanchor\":\"top\"}],\"title\":{\"text\":\"The mean of electricity overload in Family Fourth\"}},                        {\"responsive\": true}                    ).then(function(){\n",
              "                            Plotly.addFrames('b116c758-7b0f-4e7d-8731-f3ed0464d480', [{\"data\":[{\"alignmentgroup\":\"True\",\"hovertemplate\":\"furniture_type=Entertainment<br>date=2012-06<br>hours=%{x}<br>overload=%{y}<extra></extra>\",\"legendgroup\":\"Entertainment\",\"marker\":{\"color\":\"#636efa\",\"pattern\":{\"shape\":\"\"}},\"name\":\"Entertainment\",\"offsetgroup\":\"Entertainment\",\"orientation\":\"v\",\"showlegend\":true,\"textposition\":\"auto\",\"x\":[\"0h\",\"1h\",\"2h\",\"3h\",\"4h\",\"5h\",\"6h\",\"7h\",\"8h\",\"9h\",\"10h\",\"11h\",\"12h\",\"13h\",\"14h\",\"15h\",\"16h\",\"17h\",\"18h\",\"19h\",\"20h\",\"21h\",\"22h\",\"23h\"],\"xaxis\":\"x\",\"y\":[28958.237745,31848.975875,35568.677070000005,35085.648570000005,39049.7451,38391.9521,85256.89538,81383.07371,58067.48981,47677.70398,87149.1254,102627.71766,110200.12054,258335.730105,78157.409535,58394.681045,69081.81792500001,114451.16415,94197.75993,154996.25826499998,51729.032575000005,38859.027455,29334.167465,28985.244195],\"yaxis\":\"y\",\"type\":\"bar\"},{\"alignmentgroup\":\"True\",\"hovertemplate\":\"furniture_type=Freezer<br>date=2012-06<br>hours=%{x}<br>overload=%{y}<extra></extra>\",\"legendgroup\":\"Freezer\",\"marker\":{\"color\":\"#EF553B\",\"pattern\":{\"shape\":\"\"}},\"name\":\"Freezer\",\"offsetgroup\":\"Freezer\",\"orientation\":\"v\",\"showlegend\":true,\"textposition\":\"auto\",\"x\":[\"0h\",\"1h\",\"2h\",\"3h\",\"4h\",\"5h\",\"6h\",\"7h\",\"8h\",\"9h\",\"10h\",\"11h\",\"12h\",\"13h\",\"14h\",\"15h\",\"16h\",\"17h\",\"18h\",\"19h\",\"20h\",\"21h\",\"22h\",\"23h\"],\"xaxis\":\"x\",\"y\":[577106.249675,624290.283725,658433.5414999999,673981.9708,737252.228775,751904.926475,780064.099275,654733.29475,639740.49125,588839.7349,633831.174,731295.36135,809044.504025,817556.0495,815470.490575,840009.709325,834600.2590000001,823562.841,795600.63475,774221.1411,582315.35535,610226.7314,633313.1096,603517.05025],\"yaxis\":\"y\",\"type\":\"bar\"},{\"alignmentgroup\":\"True\",\"hovertemplate\":\"furniture_type=Fridge<br>date=2012-06<br>hours=%{x}<br>overload=%{y}<extra></extra>\",\"legendgroup\":\"Fridge\",\"marker\":{\"color\":\"#00cc96\",\"pattern\":{\"shape\":\"\"}},\"name\":\"Fridge\",\"offsetgroup\":\"Fridge\",\"orientation\":\"v\",\"showlegend\":true,\"textposition\":\"auto\",\"x\":[\"0h\",\"1h\",\"2h\",\"3h\",\"4h\",\"5h\",\"6h\",\"7h\",\"8h\",\"9h\",\"10h\",\"11h\",\"12h\",\"13h\",\"14h\",\"15h\",\"16h\",\"17h\",\"18h\",\"19h\",\"20h\",\"21h\",\"22h\",\"23h\"],\"xaxis\":\"x\",\"y\":[82476.2106325,101113.9536925,81157.5997275,107798.388545,110422.0661275,108699.8811075,127010.373375,107466.5961275,87014.04828,86583.52434999999,86668.048125,97054.608185,129895.1183725,118580.49268,124936.8616875,128265.508005,125977.853575,122606.3117025,139042.749335,129287.05339,92477.28798,91232.496125,91932.5061375,89867.21567],\"yaxis\":\"y\",\"type\":\"bar\"},{\"alignmentgroup\":\"True\",\"hovertemplate\":\"furniture_type=KitchenAppliances<br>date=2012-06<br>hours=%{x}<br>overload=%{y}<extra></extra>\",\"legendgroup\":\"KitchenAppliances\",\"marker\":{\"color\":\"#ab63fa\",\"pattern\":{\"shape\":\"\"}},\"name\":\"KitchenAppliances\",\"offsetgroup\":\"KitchenAppliances\",\"orientation\":\"v\",\"showlegend\":true,\"textposition\":\"auto\",\"x\":[\"0h\",\"1h\",\"2h\",\"3h\",\"4h\",\"5h\",\"6h\",\"7h\",\"8h\",\"9h\",\"10h\",\"11h\",\"12h\",\"13h\",\"14h\",\"15h\",\"16h\",\"17h\",\"18h\",\"19h\",\"20h\",\"21h\",\"22h\",\"23h\"],\"xaxis\":\"x\",\"y\":[1454.4462300000002,1613.0442000000003,1795.4589300000002,1785.1744200000003,1970.28077,1928.6162700000002,216039.04664,75942.80961,32974.451595,1444.16172,1504.2449100000001,1805.20215,10907.611895000002,49875.76482,119008.305685,289353.00611,16443.788635,32084.00437,136221.773615,1973.5433400000002,1526.97909,1490.17137,1541.0526300000001,1492.33653],\"yaxis\":\"y\",\"type\":\"bar\"},{\"alignmentgroup\":\"True\",\"hovertemplate\":\"furniture_type=Lamp<br>date=2012-06<br>hours=%{x}<br>overload=%{y}<extra></extra>\",\"legendgroup\":\"Lamp\",\"marker\":{\"color\":\"#FFA15A\",\"pattern\":{\"shape\":\"\"}},\"name\":\"Lamp\",\"offsetgroup\":\"Lamp\",\"orientation\":\"v\",\"showlegend\":true,\"textposition\":\"auto\",\"x\":[\"0h\",\"1h\",\"2h\",\"3h\",\"4h\",\"5h\",\"6h\",\"7h\",\"8h\",\"9h\",\"10h\",\"11h\",\"12h\",\"13h\",\"14h\",\"15h\",\"16h\",\"17h\",\"18h\",\"19h\",\"20h\",\"21h\",\"22h\",\"23h\"],\"xaxis\":\"x\",\"y\":[1673.11566,1824.3008100000002,2007.4028250000001,2024.2011750000001,2161.3877,2133.950395,6929.097525,34732.088565,12748.6016775,7831.0001950000005,6816.86697,8553.084825000002,19307.4269775,17970.224515,9431.299570000001,16528.8398,21262.315470000005,18755.3074425,28349.1409125,21069.643155,7381.2008125,5371.4872000000005,12851.377345,1622.1606649999999],\"yaxis\":\"y\",\"type\":\"bar\"},{\"alignmentgroup\":\"True\",\"hovertemplate\":\"furniture_type=Microwave<br>date=2012-06<br>hours=%{x}<br>overload=%{y}<extra></extra>\",\"legendgroup\":\"Microwave\",\"marker\":{\"color\":\"#19d3f3\",\"pattern\":{\"shape\":\"\"}},\"name\":\"Microwave\",\"offsetgroup\":\"Microwave\",\"orientation\":\"v\",\"showlegend\":true,\"textposition\":\"auto\",\"x\":[\"0h\",\"1h\",\"2h\",\"3h\",\"4h\",\"5h\",\"6h\",\"7h\",\"8h\",\"9h\",\"10h\",\"11h\",\"12h\",\"13h\",\"14h\",\"15h\",\"16h\",\"17h\",\"18h\",\"19h\",\"20h\",\"21h\",\"22h\",\"23h\"],\"xaxis\":\"x\",\"y\":[7838.819039999999,8617.317039999998,9597.134888,9422.692984,10604.02432,10409.632892,45244.274624,28069.913987999997,40457.864324,7980.510639999999,93018.74453599998,316165.644912,208718.45096800002,10518.5864,10649.28104,10723.29904,10762.634320000001,435707.870864,357601.73786000005,224738.124316,8202.415792,8004.61936,7991.084639999999,7919.956956],\"yaxis\":\"y\",\"type\":\"bar\"},{\"alignmentgroup\":\"True\",\"hovertemplate\":\"furniture_type=StereoAndLaptop<br>date=2012-06<br>hours=%{x}<br>overload=%{y}<extra></extra>\",\"legendgroup\":\"StereoAndLaptop\",\"marker\":{\"color\":\"#FF6692\",\"pattern\":{\"shape\":\"\"}},\"name\":\"StereoAndLaptop\",\"offsetgroup\":\"StereoAndLaptop\",\"orientation\":\"v\",\"showlegend\":true,\"textposition\":\"auto\",\"x\":[\"0h\",\"1h\",\"2h\",\"3h\",\"4h\",\"5h\",\"6h\",\"7h\",\"8h\",\"9h\",\"10h\",\"11h\",\"12h\",\"13h\",\"14h\",\"15h\",\"16h\",\"17h\",\"18h\",\"19h\",\"20h\",\"21h\",\"22h\",\"23h\"],\"xaxis\":\"x\",\"y\":[39492.35875,43454.1627,48402.9005,47854.198650000006,53204.137050000005,52266.271974999996,52676.0758,46414.7168,39655.9081,40170.60785,40080.8158,62648.3024,68500.821025,69981.297275,70717.80255,104988.108475,75727.835425,70154.45275,71912.85005,66217.109625,42365.590025,41383.90935,40477.94195,39764.344274999996],\"yaxis\":\"y\",\"type\":\"bar\"},{\"alignmentgroup\":\"True\",\"hovertemplate\":\"furniture_type=Tablet<br>date=2012-06<br>hours=%{x}<br>overload=%{y}<extra></extra>\",\"legendgroup\":\"Tablet\",\"marker\":{\"color\":\"#B6E880\",\"pattern\":{\"shape\":\"\"}},\"name\":\"Tablet\",\"offsetgroup\":\"Tablet\",\"orientation\":\"v\",\"showlegend\":true,\"textposition\":\"auto\",\"x\":[\"0h\",\"1h\",\"2h\",\"3h\",\"4h\",\"5h\",\"6h\",\"7h\",\"8h\",\"9h\",\"10h\",\"11h\",\"12h\",\"13h\",\"14h\",\"15h\",\"16h\",\"17h\",\"18h\",\"19h\",\"20h\",\"21h\",\"22h\",\"23h\"],\"xaxis\":\"x\",\"y\":[2403.3006425,2917.61701,3034.0765125,2926.53257,2968.82955,3221.860495,3587.6936349999996,3831.5011974999998,3003.4849624999997,3025.9135949999995,3135.6843774999998,4004.3621399999993,4226.611922499999,4320.187379999999,3992.676525,4146.17817,4156.23414,4227.8322775,4066.4475224999996,4038.7941174999996,2987.2916875,2898.8231349999996,2936.0132099999996,2651.833835],\"yaxis\":\"y\",\"type\":\"bar\"}],\"name\":\"2012-06\"},{\"data\":[{\"alignmentgroup\":\"True\",\"hovertemplate\":\"furniture_type=Entertainment<br>date=2012-07<br>hours=%{x}<br>overload=%{y}<extra></extra>\",\"legendgroup\":\"Entertainment\",\"marker\":{\"color\":\"#636efa\",\"pattern\":{\"shape\":\"\"}},\"name\":\"Entertainment\",\"offsetgroup\":\"Entertainment\",\"orientation\":\"v\",\"showlegend\":true,\"textposition\":\"auto\",\"x\":[\"0h\",\"1h\",\"2h\",\"3h\",\"4h\",\"5h\",\"6h\",\"7h\",\"8h\",\"9h\",\"10h\",\"11h\",\"12h\",\"13h\",\"14h\",\"15h\",\"16h\",\"17h\",\"18h\",\"19h\",\"20h\",\"21h\",\"22h\",\"23h\"],\"xaxis\":\"x\",\"y\":[36769.22905826087,36879.47024695652,37170.369378260875,38391.47339913044,38416.27133652174,38390.7767826087,61756.10918608696,76778.1098121739,82510.42923130436,52270.07349652174,67133.77236695653,91377.08790347827,123171.28754173913,196851.50371739132,101666.54514521739,114160.32534782609,101305.67931043477,113790.87344173912,144079.97576347826,206347.4254791304,215860.76968608695,264959.6827173913,166071.17674086956,56826.886031304355],\"yaxis\":\"y\",\"type\":\"bar\"},{\"alignmentgroup\":\"True\",\"hovertemplate\":\"furniture_type=Freezer<br>date=2012-07<br>hours=%{x}<br>overload=%{y}<extra></extra>\",\"legendgroup\":\"Freezer\",\"marker\":{\"color\":\"#EF553B\",\"pattern\":{\"shape\":\"\"}},\"name\":\"Freezer\",\"offsetgroup\":\"Freezer\",\"orientation\":\"v\",\"showlegend\":true,\"textposition\":\"auto\",\"x\":[\"0h\",\"1h\",\"2h\",\"3h\",\"4h\",\"5h\",\"6h\",\"7h\",\"8h\",\"9h\",\"10h\",\"11h\",\"12h\",\"13h\",\"14h\",\"15h\",\"16h\",\"17h\",\"18h\",\"19h\",\"20h\",\"21h\",\"22h\",\"23h\"],\"xaxis\":\"x\",\"y\":[731803.3545709677,724371.5675580646,717491.9157,728250.920067742,719211.153948387,712154.36,704180.2050548387,695598.7875000001,712708.9440741936,719565.4815419355,713052.9907451613,706924.0119,708812.0379354839,719490.028335484,719169.5028774193,720455.8559225806,730801.7117645161,722125.3447354839,732740.8472419354,726768.1215935485,730400.663967742,727612.1450225807,726080.7952387098,715045.2169516128],\"yaxis\":\"y\",\"type\":\"bar\"},{\"alignmentgroup\":\"True\",\"hovertemplate\":\"furniture_type=Fridge<br>date=2012-07<br>hours=%{x}<br>overload=%{y}<extra></extra>\",\"legendgroup\":\"Fridge\",\"marker\":{\"color\":\"#00cc96\",\"pattern\":{\"shape\":\"\"}},\"name\":\"Fridge\",\"offsetgroup\":\"Fridge\",\"orientation\":\"v\",\"showlegend\":true,\"textposition\":\"auto\",\"x\":[\"0h\",\"1h\",\"2h\",\"3h\",\"4h\",\"5h\",\"6h\",\"7h\",\"8h\",\"9h\",\"10h\",\"11h\",\"12h\",\"13h\",\"14h\",\"15h\",\"16h\",\"17h\",\"18h\",\"19h\",\"20h\",\"21h\",\"22h\",\"23h\"],\"xaxis\":\"x\",\"y\":[98607.1653132258,109349.70472645161,105207.37043387098,101552.14591870968,108472.48595129032,101777.78438774192,104415.85285193549,105055.40555096774,104312.28966,96841.82981677419,107059.51288032258,117288.56784548386,107298.80638193547,98685.38700806451,104473.31624935483,110889.31558677419,109341.41014129031,111779.28200096774,116672.66367548387,105793.50975387095,112958.48153258064,115747.8962067742,106126.11394612903,94038.7157835484],\"yaxis\":\"y\",\"type\":\"bar\"},{\"alignmentgroup\":\"True\",\"hovertemplate\":\"furniture_type=KitchenAppliances<br>date=2012-07<br>hours=%{x}<br>overload=%{y}<extra></extra>\",\"legendgroup\":\"KitchenAppliances\",\"marker\":{\"color\":\"#ab63fa\",\"pattern\":{\"shape\":\"\"}},\"name\":\"KitchenAppliances\",\"offsetgroup\":\"KitchenAppliances\",\"orientation\":\"v\",\"showlegend\":true,\"textposition\":\"auto\",\"x\":[\"0h\",\"1h\",\"2h\",\"3h\",\"4h\",\"5h\",\"6h\",\"7h\",\"8h\",\"9h\",\"10h\",\"11h\",\"12h\",\"13h\",\"14h\",\"15h\",\"16h\",\"17h\",\"18h\",\"19h\",\"20h\",\"21h\",\"22h\",\"23h\"],\"xaxis\":\"x\",\"y\":[2038.6689225806454,2019.3202567741935,2023.7960051612904,2015.6902890322583,1994.4596658064518,7803.659936774195,94471.75056580645,40096.03113806452,53715.58980709678,2012.2717664516133,4452.2702051612905,3466.0551380645165,34166.48273225806,28474.875261935485,4981.997258064516,2003.1901496774196,2022.816277419355,9650.947712903226,157773.9459083871,61372.217110967744,7252.834862580645,2044.6056516129033,2021.3514696774196,2027.0069096774193],\"yaxis\":\"y\",\"type\":\"bar\"},{\"alignmentgroup\":\"True\",\"hovertemplate\":\"furniture_type=Lamp<br>date=2012-07<br>hours=%{x}<br>overload=%{y}<extra></extra>\",\"legendgroup\":\"Lamp\",\"marker\":{\"color\":\"#FFA15A\",\"pattern\":{\"shape\":\"\"}},\"name\":\"Lamp\",\"offsetgroup\":\"Lamp\",\"orientation\":\"v\",\"showlegend\":true,\"textposition\":\"auto\",\"x\":[\"0h\",\"1h\",\"2h\",\"3h\",\"4h\",\"5h\",\"6h\",\"7h\",\"8h\",\"9h\",\"10h\",\"11h\",\"12h\",\"13h\",\"14h\",\"15h\",\"16h\",\"17h\",\"18h\",\"19h\",\"20h\",\"21h\",\"22h\",\"23h\"],\"xaxis\":\"x\",\"y\":[3431.8947132258068,2842.2895632258064,3204.800955483871,3116.0485406451617,2518.6051761290323,2460.7173296774195,2806.2092251612903,8738.418307419355,7475.359715483872,13880.96953967742,16020.089292258066,13049.241744838711,13450.844581935486,14328.451002903226,15741.778481612904,15002.859580967743,18845.534992903227,17121.940387741935,13610.725987096775,12154.130724193548,14899.704626129032,8047.491122580646,12600.327848387098,7120.677239354839],\"yaxis\":\"y\",\"type\":\"bar\"},{\"alignmentgroup\":\"True\",\"hovertemplate\":\"furniture_type=Microwave<br>date=2012-07<br>hours=%{x}<br>overload=%{y}<extra></extra>\",\"legendgroup\":\"Microwave\",\"marker\":{\"color\":\"#19d3f3\",\"pattern\":{\"shape\":\"\"}},\"name\":\"Microwave\",\"offsetgroup\":\"Microwave\",\"orientation\":\"v\",\"showlegend\":true,\"textposition\":\"auto\",\"x\":[\"0h\",\"1h\",\"2h\",\"3h\",\"4h\",\"5h\",\"6h\",\"7h\",\"8h\",\"9h\",\"10h\",\"11h\",\"12h\",\"13h\",\"14h\",\"15h\",\"16h\",\"17h\",\"18h\",\"19h\",\"20h\",\"21h\",\"22h\",\"23h\"],\"xaxis\":\"x\",\"y\":[13183.704187096775,13193.796866451612,13212.96650516129,13053.768267741936,13113.814125161289,15092.671474838708,18478.708831612905,21317.618416129033,24874.038792258063,15272.695258064514,55541.487361290325,140189.15806258065,52681.72717612903,32479.09588,13324.055061935484,13249.020669032258,43006.66093806452,18887.73251548387,79533.68477870968,68646.06645870967,28726.343780645162,13231.904038709677,13317.519329032259,13280.972853548386],\"yaxis\":\"y\",\"type\":\"bar\"},{\"alignmentgroup\":\"True\",\"hovertemplate\":\"furniture_type=StereoAndLaptop<br>date=2012-07<br>hours=%{x}<br>overload=%{y}<extra></extra>\",\"legendgroup\":\"StereoAndLaptop\",\"marker\":{\"color\":\"#FF6692\",\"pattern\":{\"shape\":\"\"}},\"name\":\"StereoAndLaptop\",\"offsetgroup\":\"StereoAndLaptop\",\"orientation\":\"v\",\"showlegend\":true,\"textposition\":\"auto\",\"x\":[\"0h\",\"1h\",\"2h\",\"3h\",\"4h\",\"5h\",\"6h\",\"7h\",\"8h\",\"9h\",\"10h\",\"11h\",\"12h\",\"13h\",\"14h\",\"15h\",\"16h\",\"17h\",\"18h\",\"19h\",\"20h\",\"21h\",\"22h\",\"23h\"],\"xaxis\":\"x\",\"y\":[52680.33225806452,52879.50171935484,53067.84416129032,52627.75213225807,52806.42195161291,52634.10271935484,52699.006822580646,52675.53790967742,53023.969032258065,53155.08611935484,52988.917735483876,59716.18587419355,61518.26535806452,61889.72975483871,68567.44510967743,73198.09998064517,68214.60561612903,67234.07843225807,73361.53953870967,80542.35622258064,91101.2876516129,108527.36586451613,83439.5216419355,60303.98677096774],\"yaxis\":\"y\",\"type\":\"bar\"},{\"alignmentgroup\":\"True\",\"hovertemplate\":\"furniture_type=Tablet<br>date=2012-07<br>hours=%{x}<br>overload=%{y}<extra></extra>\",\"legendgroup\":\"Tablet\",\"marker\":{\"color\":\"#B6E880\",\"pattern\":{\"shape\":\"\"}},\"name\":\"Tablet\",\"offsetgroup\":\"Tablet\",\"orientation\":\"v\",\"showlegend\":true,\"textposition\":\"auto\",\"x\":[\"0h\",\"1h\",\"2h\",\"3h\",\"4h\",\"5h\",\"6h\",\"7h\",\"8h\",\"9h\",\"10h\",\"11h\",\"12h\",\"13h\",\"14h\",\"15h\",\"16h\",\"17h\",\"18h\",\"19h\",\"20h\",\"21h\",\"22h\",\"23h\"],\"xaxis\":\"x\",\"y\":[3730.039281612903,3716.7100248387096,3718.6479658064513,3765.052881612903,3681.5041780645156,3809.4167899999998,3744.4985667741935,3803.816814516129,3978.8002187096768,4048.755739354838,3849.4428241935484,3727.1278512903223,3741.7110541935485,3858.7462722580644,3868.007620645161,3841.6654919354833,3842.652734838709,3899.397626774193,3873.216093225806,3874.5787048387097,3795.681041935484,3698.8863548387094,3856.0729358064514,3755.7945748387097],\"yaxis\":\"y\",\"type\":\"bar\"}],\"name\":\"2012-07\"},{\"data\":[{\"alignmentgroup\":\"True\",\"hovertemplate\":\"furniture_type=Entertainment<br>date=2012-08<br>hours=%{x}<br>overload=%{y}<extra></extra>\",\"legendgroup\":\"Entertainment\",\"marker\":{\"color\":\"#636efa\",\"pattern\":{\"shape\":\"\"}},\"name\":\"Entertainment\",\"offsetgroup\":\"Entertainment\",\"orientation\":\"v\",\"showlegend\":true,\"textposition\":\"auto\",\"x\":[\"0h\",\"1h\",\"2h\",\"3h\",\"4h\",\"5h\",\"6h\",\"7h\",\"8h\",\"9h\",\"10h\",\"11h\",\"12h\",\"13h\",\"14h\",\"15h\",\"16h\",\"17h\",\"18h\",\"19h\",\"20h\",\"21h\",\"22h\",\"23h\"],\"xaxis\":\"x\",\"y\":[39449.55694,39464.881910322576,39494.53945354839,39529.794089032264,39534.98745612903,39128.34148064516,69698.58681548387,83960.69631741935,61747.397439354834,52606.73881806452,59524.396129677414,112114.09123870968,92442.25510580646,249511.9796516129,177539.47951225808,110532.91268645161,121980.92562258065,134243.61464387097,143767.37349483868,206854.00594451613,181428.6352496774,173891.97880645163,72383.99863806451,44237.2165316129],\"yaxis\":\"y\",\"type\":\"bar\"},{\"alignmentgroup\":\"True\",\"hovertemplate\":\"furniture_type=Freezer<br>date=2012-08<br>hours=%{x}<br>overload=%{y}<extra></extra>\",\"legendgroup\":\"Freezer\",\"marker\":{\"color\":\"#EF553B\",\"pattern\":{\"shape\":\"\"}},\"name\":\"Freezer\",\"offsetgroup\":\"Freezer\",\"orientation\":\"v\",\"showlegend\":true,\"textposition\":\"auto\",\"x\":[\"0h\",\"1h\",\"2h\",\"3h\",\"4h\",\"5h\",\"6h\",\"7h\",\"8h\",\"9h\",\"10h\",\"11h\",\"12h\",\"13h\",\"14h\",\"15h\",\"16h\",\"17h\",\"18h\",\"19h\",\"20h\",\"21h\",\"22h\",\"23h\"],\"xaxis\":\"x\",\"y\":[746516.3523903226,745473.6660419356,757894.6546741936,767111.226816129,729920.326432258,749789.6970645161,738243.2962483871,727909.8490419355,740764.0914612903,739072.1159483871,737788.2113387097,753150.2112322581,745285.6238258064,751188.8706612902,776320.3172096774,750727.2866774194,730756.4664096774,757978.5670225807,764224.0949290323,744420.4916935484,741395.5657580645,759644.4221290322,768822.9834387096,756659.6137612903],\"yaxis\":\"y\",\"type\":\"bar\"},{\"alignmentgroup\":\"True\",\"hovertemplate\":\"furniture_type=Fridge<br>date=2012-08<br>hours=%{x}<br>overload=%{y}<extra></extra>\",\"legendgroup\":\"Fridge\",\"marker\":{\"color\":\"#00cc96\",\"pattern\":{\"shape\":\"\"}},\"name\":\"Fridge\",\"offsetgroup\":\"Fridge\",\"orientation\":\"v\",\"showlegend\":true,\"textposition\":\"auto\",\"x\":[\"0h\",\"1h\",\"2h\",\"3h\",\"4h\",\"5h\",\"6h\",\"7h\",\"8h\",\"9h\",\"10h\",\"11h\",\"12h\",\"13h\",\"14h\",\"15h\",\"16h\",\"17h\",\"18h\",\"19h\",\"20h\",\"21h\",\"22h\",\"23h\"],\"xaxis\":\"x\",\"y\":[136453.58317838708,104979.8600196774,102042.58937,125481.8812216129,129077.5803416129,115089.90876741936,130226.78905290322,116092.00634548387,117204.23057612903,117398.47533741935,121946.10614032258,140177.34424580645,135554.59455806453,120044.86276387096,126685.08471290322,122959.36645419354,127147.17852354838,133899.94612032257,143665.47579677418,149967.45828806452,130173.97857516128,107941.8962148387,121358.62203032257,135713.3284164516],\"yaxis\":\"y\",\"type\":\"bar\"},{\"alignmentgroup\":\"True\",\"hovertemplate\":\"furniture_type=KitchenAppliances<br>date=2012-08<br>hours=%{x}<br>overload=%{y}<extra></extra>\",\"legendgroup\":\"KitchenAppliances\",\"marker\":{\"color\":\"#ab63fa\",\"pattern\":{\"shape\":\"\"}},\"name\":\"KitchenAppliances\",\"offsetgroup\":\"KitchenAppliances\",\"orientation\":\"v\",\"showlegend\":true,\"textposition\":\"auto\",\"x\":[\"0h\",\"1h\",\"2h\",\"3h\",\"4h\",\"5h\",\"6h\",\"7h\",\"8h\",\"9h\",\"10h\",\"11h\",\"12h\",\"13h\",\"14h\",\"15h\",\"16h\",\"17h\",\"18h\",\"19h\",\"20h\",\"21h\",\"22h\",\"23h\"],\"xaxis\":\"x\",\"y\":[1205.4353690322582,1192.7917148387098,1202.1527070967743,1193.6317548387096,1203.6156012903227,1165.7602232258066,155896.5112070968,13355.870387741934,86546.80464645161,31013.125853548387,5292.925264516129,22640.55378967742,58484.67134580645,5914.529312903226,36601.540025806455,5317.166619354838,18825.43041225806,51888.638246451614,232266.23298516127,42054.11322,1108.558092903226,1098.294870967742,1191.8856580645163,1205.5750567741936],\"yaxis\":\"y\",\"type\":\"bar\"},{\"alignmentgroup\":\"True\",\"hovertemplate\":\"furniture_type=Lamp<br>date=2012-08<br>hours=%{x}<br>overload=%{y}<extra></extra>\",\"legendgroup\":\"Lamp\",\"marker\":{\"color\":\"#FFA15A\",\"pattern\":{\"shape\":\"\"}},\"name\":\"Lamp\",\"offsetgroup\":\"Lamp\",\"orientation\":\"v\",\"showlegend\":true,\"textposition\":\"auto\",\"x\":[\"0h\",\"1h\",\"2h\",\"3h\",\"4h\",\"5h\",\"6h\",\"7h\",\"8h\",\"9h\",\"10h\",\"11h\",\"12h\",\"13h\",\"14h\",\"15h\",\"16h\",\"17h\",\"18h\",\"19h\",\"20h\",\"21h\",\"22h\",\"23h\"],\"xaxis\":\"x\",\"y\":[4081.0642425806454,3487.09450967742,2815.3621193548393,4773.750155483871,2168.8295496774194,2172.2253451612905,3063.497988387097,12869.47962967742,9406.770250000001,13861.46040967742,18589.830357419356,13919.422666451614,13108.625018064517,16351.394196774194,11848.548373548387,14358.546170322581,22534.803108387096,23702.482880322583,28246.968816774195,24439.052746129033,16172.109438064517,13196.647012580646,22435.818150645162,4132.124086451613],\"yaxis\":\"y\",\"type\":\"bar\"},{\"alignmentgroup\":\"True\",\"hovertemplate\":\"furniture_type=Microwave<br>date=2012-08<br>hours=%{x}<br>overload=%{y}<extra></extra>\",\"legendgroup\":\"Microwave\",\"marker\":{\"color\":\"#19d3f3\",\"pattern\":{\"shape\":\"\"}},\"name\":\"Microwave\",\"offsetgroup\":\"Microwave\",\"orientation\":\"v\",\"showlegend\":true,\"textposition\":\"auto\",\"x\":[\"0h\",\"1h\",\"2h\",\"3h\",\"4h\",\"5h\",\"6h\",\"7h\",\"8h\",\"9h\",\"10h\",\"11h\",\"12h\",\"13h\",\"14h\",\"15h\",\"16h\",\"17h\",\"18h\",\"19h\",\"20h\",\"21h\",\"22h\",\"23h\"],\"xaxis\":\"x\",\"y\":[13384.019874838708,13341.259664516128,13350.975124516128,13263.720840645161,13314.310963225806,13280.577054193547,37049.73372645161,52228.56708967742,33187.22068645161,24868.50264129032,82594.83325483871,334348.1470335484,297742.43831096776,32261.70471096774,18954.56542516129,13414.254374193548,19402.156688387095,113283.00475096775,296872.1908516129,35377.99492774193,16223.451731612904,13268.224182580645,16345.596474193548,13420.276776129032],\"yaxis\":\"y\",\"type\":\"bar\"},{\"alignmentgroup\":\"True\",\"hovertemplate\":\"furniture_type=StereoAndLaptop<br>date=2012-08<br>hours=%{x}<br>overload=%{y}<extra></extra>\",\"legendgroup\":\"StereoAndLaptop\",\"marker\":{\"color\":\"#FF6692\",\"pattern\":{\"shape\":\"\"}},\"name\":\"StereoAndLaptop\",\"offsetgroup\":\"StereoAndLaptop\",\"orientation\":\"v\",\"showlegend\":true,\"textposition\":\"auto\",\"x\":[\"0h\",\"1h\",\"2h\",\"3h\",\"4h\",\"5h\",\"6h\",\"7h\",\"8h\",\"9h\",\"10h\",\"11h\",\"12h\",\"13h\",\"14h\",\"15h\",\"16h\",\"17h\",\"18h\",\"19h\",\"20h\",\"21h\",\"22h\",\"23h\"],\"xaxis\":\"x\",\"y\":[52176.15269354839,52602.038080645165,57268.21463870968,53703.44082580645,52431.58617096774,51835.88743225807,51353.92401935484,51678.485309677424,51741.36579032258,50756.17991935484,55101.33121290323,60305.46240967742,57380.97642903226,59163.94421935484,66373.82516774195,65639.90542903225,75312.06910000001,89308.05400645162,85263.53120322581,91764.21071935484,103670.48009999999,101200.9320483871,82436.4214451613,54810.57298129032],\"yaxis\":\"y\",\"type\":\"bar\"},{\"alignmentgroup\":\"True\",\"hovertemplate\":\"furniture_type=Tablet<br>date=2012-08<br>hours=%{x}<br>overload=%{y}<extra></extra>\",\"legendgroup\":\"Tablet\",\"marker\":{\"color\":\"#B6E880\",\"pattern\":{\"shape\":\"\"}},\"name\":\"Tablet\",\"offsetgroup\":\"Tablet\",\"orientation\":\"v\",\"showlegend\":true,\"textposition\":\"auto\",\"x\":[\"0h\",\"1h\",\"2h\",\"3h\",\"4h\",\"5h\",\"6h\",\"7h\",\"8h\",\"9h\",\"10h\",\"11h\",\"12h\",\"13h\",\"14h\",\"15h\",\"16h\",\"17h\",\"18h\",\"19h\",\"20h\",\"21h\",\"22h\",\"23h\"],\"xaxis\":\"x\",\"y\":[3612.671191612903,3650.202823225806,3626.6916287096774,3705.871203548387,3534.0129445161288,3603.3242335483865,3687.4238445161286,3978.990084838709,3810.591562580645,3773.4224709677414,3793.546048709677,3738.4477080645156,4122.638145483871,4072.849977741935,4002.1712280645156,3874.295558064516,4065.907492580645,4049.30043,3897.036222580645,3783.713117741935,3670.2570580645156,3718.3672438709673,3879.539738387097,3640.620813548387],\"yaxis\":\"y\",\"type\":\"bar\"}],\"name\":\"2012-08\"},{\"data\":[{\"alignmentgroup\":\"True\",\"hovertemplate\":\"furniture_type=Entertainment<br>date=2012-09<br>hours=%{x}<br>overload=%{y}<extra></extra>\",\"legendgroup\":\"Entertainment\",\"marker\":{\"color\":\"#636efa\",\"pattern\":{\"shape\":\"\"}},\"name\":\"Entertainment\",\"offsetgroup\":\"Entertainment\",\"orientation\":\"v\",\"showlegend\":true,\"textposition\":\"auto\",\"x\":[\"0h\",\"1h\",\"2h\",\"3h\",\"4h\",\"5h\",\"6h\",\"7h\",\"8h\",\"9h\",\"10h\",\"11h\",\"12h\",\"13h\",\"14h\",\"15h\",\"16h\",\"17h\",\"18h\",\"19h\",\"20h\",\"21h\",\"22h\",\"23h\"],\"xaxis\":\"x\",\"y\":[34934.9351144,35668.737257600005,35904.4764056,35831.4264304,38248.595259199996,35609.084936800005,68449.8562752,99349.0194912,102444.77011119999,88459.9938552,87700.5801584,95696.7731488,113181.115688,283638.586648,195984.29218800002,154094.952624,100369.2101104,140658.9060744,239023.39602880002,335078.6082288,340273.618896,331485.7580288,115045.6168928,38506.797752],\"yaxis\":\"y\",\"type\":\"bar\"},{\"alignmentgroup\":\"True\",\"hovertemplate\":\"furniture_type=Freezer<br>date=2012-09<br>hours=%{x}<br>overload=%{y}<extra></extra>\",\"legendgroup\":\"Freezer\",\"marker\":{\"color\":\"#EF553B\",\"pattern\":{\"shape\":\"\"}},\"name\":\"Freezer\",\"offsetgroup\":\"Freezer\",\"orientation\":\"v\",\"showlegend\":true,\"textposition\":\"auto\",\"x\":[\"0h\",\"1h\",\"2h\",\"3h\",\"4h\",\"5h\",\"6h\",\"7h\",\"8h\",\"9h\",\"10h\",\"11h\",\"12h\",\"13h\",\"14h\",\"15h\",\"16h\",\"17h\",\"18h\",\"19h\",\"20h\",\"21h\",\"22h\",\"23h\"],\"xaxis\":\"x\",\"y\":[643191.733276,672538.572684,646609.526736,664135.005444,649708.905572,672981.517228,650281.4476160001,649239.19382,646506.4938,603491.268528,603940.251608,632371.3032119999,618401.350592,645167.4176119999,647482.096772,619719.1893879999,636106.049448,818180.244796,660961.990352,673593.07204,651324.7046599999,669262.512904,677356.589084,685749.3798880001],\"yaxis\":\"y\",\"type\":\"bar\"},{\"alignmentgroup\":\"True\",\"hovertemplate\":\"furniture_type=Fridge<br>date=2012-09<br>hours=%{x}<br>overload=%{y}<extra></extra>\",\"legendgroup\":\"Fridge\",\"marker\":{\"color\":\"#00cc96\",\"pattern\":{\"shape\":\"\"}},\"name\":\"Fridge\",\"offsetgroup\":\"Fridge\",\"orientation\":\"v\",\"showlegend\":true,\"textposition\":\"auto\",\"x\":[\"0h\",\"1h\",\"2h\",\"3h\",\"4h\",\"5h\",\"6h\",\"7h\",\"8h\",\"9h\",\"10h\",\"11h\",\"12h\",\"13h\",\"14h\",\"15h\",\"16h\",\"17h\",\"18h\",\"19h\",\"20h\",\"21h\",\"22h\",\"23h\"],\"xaxis\":\"x\",\"y\":[99817.52246759999,78445.227072,85997.46363399999,92605.69128039999,66129.483104,98149.53686559999,93397.35085640001,83856.3279464,70935.0193192,91879.800628,89863.02610959999,84001.7660808,82121.3973352,85845.303762,91395.84804479999,83601.7811476,77029.18560879999,99519.28932839999,108859.11073680001,85102.72062240001,92403.2224536,94633.8613532,89322.14935240001,77113.2599572],\"yaxis\":\"y\",\"type\":\"bar\"},{\"alignmentgroup\":\"True\",\"hovertemplate\":\"furniture_type=KitchenAppliances<br>date=2012-09<br>hours=%{x}<br>overload=%{y}<extra></extra>\",\"legendgroup\":\"KitchenAppliances\",\"marker\":{\"color\":\"#ab63fa\",\"pattern\":{\"shape\":\"\"}},\"name\":\"KitchenAppliances\",\"offsetgroup\":\"KitchenAppliances\",\"orientation\":\"v\",\"showlegend\":true,\"textposition\":\"auto\",\"x\":[\"0h\",\"1h\",\"2h\",\"3h\",\"4h\",\"5h\",\"6h\",\"7h\",\"8h\",\"9h\",\"10h\",\"11h\",\"12h\",\"13h\",\"14h\",\"15h\",\"16h\",\"17h\",\"18h\",\"19h\",\"20h\",\"21h\",\"22h\",\"23h\"],\"xaxis\":\"x\",\"y\":[1773.3502736,1739.4847984,1760.8813248000004,1731.7768288,13500.553297600001,1754.2944928000004,183327.02097679998,48265.9611912,33733.2290776,26346.7341952,1606.1133152,1673.0600624,1720.8691680000002,1660.7595808,5880.5221984,11712.856538400001,41057.5828216,57141.60247440001,347691.69554800005,12023.055280800001,1767.8964432000002,1764.2566016000003,1778.7174976000001,1760.0105152],\"yaxis\":\"y\",\"type\":\"bar\"},{\"alignmentgroup\":\"True\",\"hovertemplate\":\"furniture_type=Lamp<br>date=2012-09<br>hours=%{x}<br>overload=%{y}<extra></extra>\",\"legendgroup\":\"Lamp\",\"marker\":{\"color\":\"#FFA15A\",\"pattern\":{\"shape\":\"\"}},\"name\":\"Lamp\",\"offsetgroup\":\"Lamp\",\"orientation\":\"v\",\"showlegend\":true,\"textposition\":\"auto\",\"x\":[\"0h\",\"1h\",\"2h\",\"3h\",\"4h\",\"5h\",\"6h\",\"7h\",\"8h\",\"9h\",\"10h\",\"11h\",\"12h\",\"13h\",\"14h\",\"15h\",\"16h\",\"17h\",\"18h\",\"19h\",\"20h\",\"21h\",\"22h\",\"23h\"],\"xaxis\":\"x\",\"y\":[3567.9478616,3172.2720016000003,2018.3105536,3252.8125624000004,4846.6808136,2038.7373472000002,3300.076772,9008.843165600001,6595.164990800001,4943.8450908,9227.0914016,18795.9548748,16011.5081976,13920.40442,14508.786296400001,10494.7112152,19894.4921676,26005.35193,25642.647206,12780.1495172,15952.4573016,15821.4197968,16891.554716,5250.009984800001],\"yaxis\":\"y\",\"type\":\"bar\"},{\"alignmentgroup\":\"True\",\"hovertemplate\":\"furniture_type=Microwave<br>date=2012-09<br>hours=%{x}<br>overload=%{y}<extra></extra>\",\"legendgroup\":\"Microwave\",\"marker\":{\"color\":\"#19d3f3\",\"pattern\":{\"shape\":\"\"}},\"name\":\"Microwave\",\"offsetgroup\":\"Microwave\",\"orientation\":\"v\",\"showlegend\":true,\"textposition\":\"auto\",\"x\":[\"0h\",\"1h\",\"2h\",\"3h\",\"4h\",\"5h\",\"6h\",\"7h\",\"8h\",\"9h\",\"10h\",\"11h\",\"12h\",\"13h\",\"14h\",\"15h\",\"16h\",\"17h\",\"18h\",\"19h\",\"20h\",\"21h\",\"22h\",\"23h\"],\"xaxis\":\"x\",\"y\":[12232.694368,12155.952900799999,15886.6149352,13912.279356,13894.364934399999,12177.4898264,25703.425239999997,20506.670636,21571.5874344,24733.966787999998,119889.4544224,420179.246024,84668.98637120001,15313.621208800001,11749.610896,16084.321278399999,11802.65008,106341.4669376,236976.9595528,18453.1804336,33684.0445728,21658.416754399997,16628.8555792,14664.9595648],\"yaxis\":\"y\",\"type\":\"bar\"},{\"alignmentgroup\":\"True\",\"hovertemplate\":\"furniture_type=StereoAndLaptop<br>date=2012-09<br>hours=%{x}<br>overload=%{y}<extra></extra>\",\"legendgroup\":\"StereoAndLaptop\",\"marker\":{\"color\":\"#FF6692\",\"pattern\":{\"shape\":\"\"}},\"name\":\"StereoAndLaptop\",\"offsetgroup\":\"StereoAndLaptop\",\"orientation\":\"v\",\"showlegend\":true,\"textposition\":\"auto\",\"x\":[\"0h\",\"1h\",\"2h\",\"3h\",\"4h\",\"5h\",\"6h\",\"7h\",\"8h\",\"9h\",\"10h\",\"11h\",\"12h\",\"13h\",\"14h\",\"15h\",\"16h\",\"17h\",\"18h\",\"19h\",\"20h\",\"21h\",\"22h\",\"23h\"],\"xaxis\":\"x\",\"y\":[57609.217948000005,46798.101884,42737.10048,42618.847052,42760.613896,42465.58718,42147.129076000005,41494.906436,45901.951440000004,42175.289676,43356.3957,56007.100208,56675.528152,63559.017572,61065.478087999996,57527.609840000005,75770.05716,85841.35363600001,82109.241584,82353.460364,63990.69966800001,60083.309995999996,71939.938656,78178.580764],\"yaxis\":\"y\",\"type\":\"bar\"},{\"alignmentgroup\":\"True\",\"hovertemplate\":\"furniture_type=Tablet<br>date=2012-09<br>hours=%{x}<br>overload=%{y}<extra></extra>\",\"legendgroup\":\"Tablet\",\"marker\":{\"color\":\"#B6E880\",\"pattern\":{\"shape\":\"\"}},\"name\":\"Tablet\",\"offsetgroup\":\"Tablet\",\"orientation\":\"v\",\"showlegend\":true,\"textposition\":\"auto\",\"x\":[\"0h\",\"1h\",\"2h\",\"3h\",\"4h\",\"5h\",\"6h\",\"7h\",\"8h\",\"9h\",\"10h\",\"11h\",\"12h\",\"13h\",\"14h\",\"15h\",\"16h\",\"17h\",\"18h\",\"19h\",\"20h\",\"21h\",\"22h\",\"23h\"],\"xaxis\":\"x\",\"y\":[3594.308014,3662.06627,3740.2557311999994,3637.6727839999994,3715.0262815999995,3758.3770031999993,3772.4056996,3532.5754955999996,3534.75907,3384.8536312,3375.2334083999995,3487.2588136,3700.4469075999996,3725.6407171999995,3902.9763431999995,3629.5201024,3900.9505819999995,4147.6816796,3906.7647192,3716.0650999999993,3757.9673027999997,3819.7994171999994,3677.6847347999997,3691.8729932],\"yaxis\":\"y\",\"type\":\"bar\"}],\"name\":\"2012-09\"},{\"data\":[{\"alignmentgroup\":\"True\",\"hovertemplate\":\"furniture_type=Entertainment<br>date=2012-10<br>hours=%{x}<br>overload=%{y}<extra></extra>\",\"legendgroup\":\"Entertainment\",\"marker\":{\"color\":\"#636efa\",\"pattern\":{\"shape\":\"\"}},\"name\":\"Entertainment\",\"offsetgroup\":\"Entertainment\",\"orientation\":\"v\",\"showlegend\":true,\"textposition\":\"auto\",\"x\":[\"0h\",\"1h\",\"2h\",\"3h\",\"4h\",\"5h\",\"6h\",\"7h\",\"8h\",\"9h\",\"10h\",\"11h\",\"12h\",\"13h\",\"14h\",\"15h\",\"16h\",\"17h\",\"18h\",\"19h\",\"20h\",\"21h\",\"22h\",\"23h\"],\"xaxis\":\"x\",\"y\":[39648.141024799996,37208.0264944,37430.083801600005,37417.5817944,37386.246556,37008.54648,57078.460842399996,68388.64390560001,84011.221808,92355.4368368,90868.3421888,120599.7113216,127394.39667439999,228448.414128,156105.1774016,98357.160432,83834.3206904,124570.2273304,182816.08477279998,284816.560344,332389.5380576,324217.7175344,148772.1052912,53669.599304],\"yaxis\":\"y\",\"type\":\"bar\"},{\"alignmentgroup\":\"True\",\"hovertemplate\":\"furniture_type=Freezer<br>date=2012-10<br>hours=%{x}<br>overload=%{y}<extra></extra>\",\"legendgroup\":\"Freezer\",\"marker\":{\"color\":\"#EF553B\",\"pattern\":{\"shape\":\"\"}},\"name\":\"Freezer\",\"offsetgroup\":\"Freezer\",\"orientation\":\"v\",\"showlegend\":true,\"textposition\":\"auto\",\"x\":[\"0h\",\"1h\",\"2h\",\"3h\",\"4h\",\"5h\",\"6h\",\"7h\",\"8h\",\"9h\",\"10h\",\"11h\",\"12h\",\"13h\",\"14h\",\"15h\",\"16h\",\"17h\",\"18h\",\"19h\",\"20h\",\"21h\",\"22h\",\"23h\"],\"xaxis\":\"x\",\"y\":[749107.684624,708837.6134520001,737763.9964000001,715789.9057799999,730507.5368080001,703045.374772,722413.203952,692463.318696,691559.40716,702770.1759639999,707050.015072,702152.913928,679529.0385799999,726603.4032320001,677324.297852,724332.748656,690452.1573440001,709497.726056,696805.3182600001,706972.573444,674913.3343799999,726776.413136,662520.6112319999,681489.04154],\"yaxis\":\"y\",\"type\":\"bar\"},{\"alignmentgroup\":\"True\",\"hovertemplate\":\"furniture_type=Fridge<br>date=2012-10<br>hours=%{x}<br>overload=%{y}<extra></extra>\",\"legendgroup\":\"Fridge\",\"marker\":{\"color\":\"#00cc96\",\"pattern\":{\"shape\":\"\"}},\"name\":\"Fridge\",\"offsetgroup\":\"Fridge\",\"orientation\":\"v\",\"showlegend\":true,\"textposition\":\"auto\",\"x\":[\"0h\",\"1h\",\"2h\",\"3h\",\"4h\",\"5h\",\"6h\",\"7h\",\"8h\",\"9h\",\"10h\",\"11h\",\"12h\",\"13h\",\"14h\",\"15h\",\"16h\",\"17h\",\"18h\",\"19h\",\"20h\",\"21h\",\"22h\",\"23h\"],\"xaxis\":\"x\",\"y\":[84692.04253240001,96963.5613156,86572.74065200001,85869.2503384,96080.6861532,73508.40058399999,105135.4303888,82387.07875439999,98239.276404,94990.8545072,74411.3149876,101863.7492836,106036.02952,79455.19026959999,88628.9005104,104329.3674272,88010.7028836,98085.30454119999,95002.579232,100486.0206848,100419.95868960001,80367.05619799999,94165.27434399999,87917.8986744],\"yaxis\":\"y\",\"type\":\"bar\"},{\"alignmentgroup\":\"True\",\"hovertemplate\":\"furniture_type=KitchenAppliances<br>date=2012-10<br>hours=%{x}<br>overload=%{y}<extra></extra>\",\"legendgroup\":\"KitchenAppliances\",\"marker\":{\"color\":\"#ab63fa\",\"pattern\":{\"shape\":\"\"}},\"name\":\"KitchenAppliances\",\"offsetgroup\":\"KitchenAppliances\",\"orientation\":\"v\",\"showlegend\":true,\"textposition\":\"auto\",\"x\":[\"0h\",\"1h\",\"2h\",\"3h\",\"4h\",\"5h\",\"6h\",\"7h\",\"8h\",\"9h\",\"10h\",\"11h\",\"12h\",\"13h\",\"14h\",\"15h\",\"16h\",\"17h\",\"18h\",\"19h\",\"20h\",\"21h\",\"22h\",\"23h\"],\"xaxis\":\"x\",\"y\":[1066.7298424,1061.2724528,1064.2989312,1069.1560080000002,1073.053296,1064.9075488,123472.6365152,52668.050983199995,123860.3724216,1993.0259192,1073.3131152,25881.116672,1101.9798336000001,8022.232824000001,7725.4375496,1035.6345856,1023.8608608000001,24533.757596,247454.0104104,84444.5748712,984.8808624000001,1007.836304,989.4757472,993.0289824000001],\"yaxis\":\"y\",\"type\":\"bar\"},{\"alignmentgroup\":\"True\",\"hovertemplate\":\"furniture_type=Lamp<br>date=2012-10<br>hours=%{x}<br>overload=%{y}<extra></extra>\",\"legendgroup\":\"Lamp\",\"marker\":{\"color\":\"#FFA15A\",\"pattern\":{\"shape\":\"\"}},\"name\":\"Lamp\",\"offsetgroup\":\"Lamp\",\"orientation\":\"v\",\"showlegend\":true,\"textposition\":\"auto\",\"x\":[\"0h\",\"1h\",\"2h\",\"3h\",\"4h\",\"5h\",\"6h\",\"7h\",\"8h\",\"9h\",\"10h\",\"11h\",\"12h\",\"13h\",\"14h\",\"15h\",\"16h\",\"17h\",\"18h\",\"19h\",\"20h\",\"21h\",\"22h\",\"23h\"],\"xaxis\":\"x\",\"y\":[2186.8569096,3825.712748,3285.1520552,2166.0464424,2155.564272,2110.1415336,2937.1150920000005,20159.2208312,15408.4310524,20112.481462400003,25531.7098456,30429.555455200003,21751.473918400003,12945.398452400002,21766.377186,34024.8097132,26146.242758400003,27532.873085600004,34565.6825972,21092.777210400003,17987.429711200002,15420.807281599999,21176.1832384,4924.6136212],\"yaxis\":\"y\",\"type\":\"bar\"},{\"alignmentgroup\":\"True\",\"hovertemplate\":\"furniture_type=Microwave<br>date=2012-10<br>hours=%{x}<br>overload=%{y}<extra></extra>\",\"legendgroup\":\"Microwave\",\"marker\":{\"color\":\"#19d3f3\",\"pattern\":{\"shape\":\"\"}},\"name\":\"Microwave\",\"offsetgroup\":\"Microwave\",\"orientation\":\"v\",\"showlegend\":true,\"textposition\":\"auto\",\"x\":[\"0h\",\"1h\",\"2h\",\"3h\",\"4h\",\"5h\",\"6h\",\"7h\",\"8h\",\"9h\",\"10h\",\"11h\",\"12h\",\"13h\",\"14h\",\"15h\",\"16h\",\"17h\",\"18h\",\"19h\",\"20h\",\"21h\",\"22h\",\"23h\"],\"xaxis\":\"x\",\"y\":[13235.456601599999,13231.8403624,13265.2495088,13213.326544,15785.883523999999,13032.3511256,39540.1903592,14282.833752800001,15175.1993936,34507.9083768,71482.60072559999,248498.216824,166368.8696864,65756.1184664,14560.0725056,12918.883232,12934.363567999999,46690.8794856,254809.7053912,82072.8971208,19085.105324,12809.252,14908.0890632,12766.273414399999],\"yaxis\":\"y\",\"type\":\"bar\"},{\"alignmentgroup\":\"True\",\"hovertemplate\":\"furniture_type=StereoAndLaptop<br>date=2012-10<br>hours=%{x}<br>overload=%{y}<extra></extra>\",\"legendgroup\":\"StereoAndLaptop\",\"marker\":{\"color\":\"#FF6692\",\"pattern\":{\"shape\":\"\"}},\"name\":\"StereoAndLaptop\",\"offsetgroup\":\"StereoAndLaptop\",\"orientation\":\"v\",\"showlegend\":true,\"textposition\":\"auto\",\"x\":[\"0h\",\"1h\",\"2h\",\"3h\",\"4h\",\"5h\",\"6h\",\"7h\",\"8h\",\"9h\",\"10h\",\"11h\",\"12h\",\"13h\",\"14h\",\"15h\",\"16h\",\"17h\",\"18h\",\"19h\",\"20h\",\"21h\",\"22h\",\"23h\"],\"xaxis\":\"x\",\"y\":[25787.567058,25638.299684,25836.562213,25772.643344,25654.325245,25569.343719999997,25556.0697295,25633.164389999998,25814.4306,31106.749730500003,33687.114734999996,36312.910851,31725.138495,24949.689690000003,28829.296295,37185.972635,46340.295265,42206.503792,39665.084646999996,43158.714421,35757.086696,33938.806085000004,30661.103120000003,39122.242517],\"yaxis\":\"y\",\"type\":\"bar\"},{\"alignmentgroup\":\"True\",\"hovertemplate\":\"furniture_type=Tablet<br>date=2012-10<br>hours=%{x}<br>overload=%{y}<extra></extra>\",\"legendgroup\":\"Tablet\",\"marker\":{\"color\":\"#B6E880\",\"pattern\":{\"shape\":\"\"}},\"name\":\"Tablet\",\"offsetgroup\":\"Tablet\",\"orientation\":\"v\",\"showlegend\":true,\"textposition\":\"auto\",\"x\":[\"0h\",\"1h\",\"2h\",\"3h\",\"4h\",\"5h\",\"6h\",\"7h\",\"8h\",\"9h\",\"10h\",\"11h\",\"12h\",\"13h\",\"14h\",\"15h\",\"16h\",\"17h\",\"18h\",\"19h\",\"20h\",\"21h\",\"22h\",\"23h\"],\"xaxis\":\"x\",\"y\":[4035.4499227999995,4035.628234,4080.0277227999995,4168.283458,4092.687818,4020.2934708,4033.3034647999993,4091.5983811999995,4037.1374287999997,4061.6912963999994,4080.6568408,4298.4122596,4327.915762799999,4144.203901999999,4104.7368336,4200.1457887999995,4084.7786607999997,4287.6005444,4073.5968759999996,4109.3832016,3904.6183708,4196.970679599999,3854.5103543999994,3859.1893016],\"yaxis\":\"y\",\"type\":\"bar\"}],\"name\":\"2012-10\"},{\"data\":[{\"alignmentgroup\":\"True\",\"hovertemplate\":\"furniture_type=Entertainment<br>date=2012-11<br>hours=%{x}<br>overload=%{y}<extra></extra>\",\"legendgroup\":\"Entertainment\",\"marker\":{\"color\":\"#636efa\",\"pattern\":{\"shape\":\"\"}},\"name\":\"Entertainment\",\"offsetgroup\":\"Entertainment\",\"orientation\":\"v\",\"showlegend\":true,\"textposition\":\"auto\",\"x\":[\"0h\",\"1h\",\"2h\",\"3h\",\"4h\",\"5h\",\"6h\",\"7h\",\"8h\",\"9h\",\"10h\",\"11h\",\"12h\",\"13h\",\"14h\",\"15h\",\"16h\",\"17h\",\"18h\",\"19h\",\"20h\",\"21h\",\"22h\",\"23h\"],\"xaxis\":\"x\",\"y\":[38078.83345666667,38151.72355333334,38207.121979166666,38146.14833666667,38381.54694416667,38177.4757375,37726.604655,43199.06438833333,59581.11499416667,66826.5362375,82560.37968416668,119367.34176708333,112848.79835416666,297162.08595083334,208136.5982466667,159228.0410925,123566.5073225,109972.5756,236521.24497749997,393568.8002708333,393871.6643708334,411259.13209333335,163885.09127166666,56001.097883333336],\"yaxis\":\"y\",\"type\":\"bar\"},{\"alignmentgroup\":\"True\",\"hovertemplate\":\"furniture_type=Freezer<br>date=2012-11<br>hours=%{x}<br>overload=%{y}<extra></extra>\",\"legendgroup\":\"Freezer\",\"marker\":{\"color\":\"#EF553B\",\"pattern\":{\"shape\":\"\"}},\"name\":\"Freezer\",\"offsetgroup\":\"Freezer\",\"orientation\":\"v\",\"showlegend\":true,\"textposition\":\"auto\",\"x\":[\"0h\",\"1h\",\"2h\",\"3h\",\"4h\",\"5h\",\"6h\",\"7h\",\"8h\",\"9h\",\"10h\",\"11h\",\"12h\",\"13h\",\"14h\",\"15h\",\"16h\",\"17h\",\"18h\",\"19h\",\"20h\",\"21h\",\"22h\",\"23h\"],\"xaxis\":\"x\",\"y\":[666316.2210916666,659037.666825,719692.2392958333,645916.0993458333,693261.5674208333,695697.1757166666,664324.0877041667,714804.2210749999,660402.0042583334,675107.3362375,721501.9251416667,654667.7985708333,693402.0046,683897.2273041666,670667.5466291667,718548.00979,630435.7772,894778.8796250001,742087.5285416666,687966.4937083333,729907.214825,740452.0445,676244.5389208334,742243.086675],\"yaxis\":\"y\",\"type\":\"bar\"},{\"alignmentgroup\":\"True\",\"hovertemplate\":\"furniture_type=Fridge<br>date=2012-11<br>hours=%{x}<br>overload=%{y}<extra></extra>\",\"legendgroup\":\"Fridge\",\"marker\":{\"color\":\"#00cc96\",\"pattern\":{\"shape\":\"\"}},\"name\":\"Fridge\",\"offsetgroup\":\"Fridge\",\"orientation\":\"v\",\"showlegend\":true,\"textposition\":\"auto\",\"x\":[\"0h\",\"1h\",\"2h\",\"3h\",\"4h\",\"5h\",\"6h\",\"7h\",\"8h\",\"9h\",\"10h\",\"11h\",\"12h\",\"13h\",\"14h\",\"15h\",\"16h\",\"17h\",\"18h\",\"19h\",\"20h\",\"21h\",\"22h\",\"23h\"],\"xaxis\":\"x\",\"y\":[69512.69633083334,98287.44574125,82473.40312,70353.04471,93058.15390291666,76634.57770458334,103990.11069125,72682.44204583333,92324.60920916667,97745.34963999999,71402.549615,93112.09476374999,100827.72871541667,83789.28715583333,92789.07547416666,98481.13973166667,84597.24079625,93902.36350458332,114042.09039458334,87801.58065833333,90343.26215083332,95211.32424375,95517.18596375,90298.22664333333],\"yaxis\":\"y\",\"type\":\"bar\"},{\"alignmentgroup\":\"True\",\"hovertemplate\":\"furniture_type=KitchenAppliances<br>date=2012-11<br>hours=%{x}<br>overload=%{y}<extra></extra>\",\"legendgroup\":\"KitchenAppliances\",\"marker\":{\"color\":\"#ab63fa\",\"pattern\":{\"shape\":\"\"}},\"name\":\"KitchenAppliances\",\"offsetgroup\":\"KitchenAppliances\",\"orientation\":\"v\",\"showlegend\":true,\"textposition\":\"auto\",\"x\":[\"0h\",\"1h\",\"2h\",\"3h\",\"4h\",\"5h\",\"6h\",\"7h\",\"8h\",\"9h\",\"10h\",\"11h\",\"12h\",\"13h\",\"14h\",\"15h\",\"16h\",\"17h\",\"18h\",\"19h\",\"20h\",\"21h\",\"22h\",\"23h\"],\"xaxis\":\"x\",\"y\":[1754.4988483333336,1751.2535800000003,1710.020381666667,1697.1221083333332,1724.2792950000003,1695.1373783333336,217385.99645,69837.1304425,53317.19242583334,5096.681050833334,30147.372805833333,51868.54210666667,27648.745716666668,24784.18366916667,39681.981205,24394.012892500003,1827.6632133333335,37279.938105,310083.69290333334,4576.971369166667,29785.786459166662,19330.332902500002,1929.5159483333334,1878.366515],\"yaxis\":\"y\",\"type\":\"bar\"},{\"alignmentgroup\":\"True\",\"hovertemplate\":\"furniture_type=Lamp<br>date=2012-11<br>hours=%{x}<br>overload=%{y}<extra></extra>\",\"legendgroup\":\"Lamp\",\"marker\":{\"color\":\"#FFA15A\",\"pattern\":{\"shape\":\"\"}},\"name\":\"Lamp\",\"offsetgroup\":\"Lamp\",\"orientation\":\"v\",\"showlegend\":true,\"textposition\":\"auto\",\"x\":[\"0h\",\"1h\",\"2h\",\"3h\",\"4h\",\"5h\",\"6h\",\"7h\",\"8h\",\"9h\",\"10h\",\"11h\",\"12h\",\"13h\",\"14h\",\"15h\",\"16h\",\"17h\",\"18h\",\"19h\",\"20h\",\"21h\",\"22h\",\"23h\"],\"xaxis\":\"x\",\"y\":[2743.385354,2792.77268,1859.2413780000002,1837.291534,1857.225576,1809.966218,4237.842034,13569.78639,8486.527932,12358.533318000002,14384.828338000001,14105.828669999999,8507.186064,23027.841277,4710.4341540000005,12961.650314,16287.762736,20045.386608,15955.012196000001,13219.709852,9415.731952,14043.215066,18141.90123,4781.509782],\"yaxis\":\"y\",\"type\":\"bar\"},{\"alignmentgroup\":\"True\",\"hovertemplate\":\"furniture_type=Microwave<br>date=2012-11<br>hours=%{x}<br>overload=%{y}<extra></extra>\",\"legendgroup\":\"Microwave\",\"marker\":{\"color\":\"#19d3f3\",\"pattern\":{\"shape\":\"\"}},\"name\":\"Microwave\",\"offsetgroup\":\"Microwave\",\"orientation\":\"v\",\"showlegend\":true,\"textposition\":\"auto\",\"x\":[\"0h\",\"1h\",\"2h\",\"3h\",\"4h\",\"5h\",\"6h\",\"7h\",\"8h\",\"9h\",\"10h\",\"11h\",\"12h\",\"13h\",\"14h\",\"15h\",\"16h\",\"17h\",\"18h\",\"19h\",\"20h\",\"21h\",\"22h\",\"23h\"],\"xaxis\":\"x\",\"y\":[12785.237796666666,12825.5721,12785.126549999999,12690.048666666667,12795.348083333332,12833.414483333334,59167.705604999996,30085.850519999996,107763.44424083334,42463.85387083333,146554.34610833332,767359.3846491667,183719.122875,65522.700731666664,27863.564192499998,12743.130316666668,12779.222733333334,100317.63150999999,346023.78802333336,13295.204389999999,27593.78912083333,13337.397322499999,13336.080521666665,13463.308976666667],\"yaxis\":\"y\",\"type\":\"bar\"},{\"alignmentgroup\":\"True\",\"hovertemplate\":\"furniture_type=StereoAndLaptop<br>date=2012-11<br>hours=%{x}<br>overload=%{y}<extra></extra>\",\"legendgroup\":\"StereoAndLaptop\",\"marker\":{\"color\":\"#FF6692\",\"pattern\":{\"shape\":\"\"}},\"name\":\"StereoAndLaptop\",\"offsetgroup\":\"StereoAndLaptop\",\"orientation\":\"v\",\"showlegend\":true,\"textposition\":\"auto\",\"x\":[\"0h\",\"1h\",\"2h\",\"3h\",\"4h\",\"5h\",\"6h\",\"7h\",\"8h\",\"9h\",\"10h\",\"11h\",\"12h\",\"13h\",\"14h\",\"15h\",\"16h\",\"17h\",\"18h\",\"19h\",\"20h\",\"21h\",\"22h\",\"23h\"],\"xaxis\":\"x\",\"y\":[2516.6033333333335,1286.3010406666665,679.2887826666667,153.50568,77.12362666666668,89.13711466666668,82.61126933333334,2098.643971333333,5650.40251,5397.143784,27.141584,16.462928,13.941578666666667,20.764053333333333,22.383948,11118.448371333334,22225.025850666665,33085.806036,3831.306456,5165.765826000001,9998.855466666666,8695.218470666667,7721.280619333334,3300.237665333333],\"yaxis\":\"y\",\"type\":\"bar\"},{\"alignmentgroup\":\"True\",\"hovertemplate\":\"furniture_type=Tablet<br>date=2012-11<br>hours=%{x}<br>overload=%{y}<extra></extra>\",\"legendgroup\":\"Tablet\",\"marker\":{\"color\":\"#B6E880\",\"pattern\":{\"shape\":\"\"}},\"name\":\"Tablet\",\"offsetgroup\":\"Tablet\",\"orientation\":\"v\",\"showlegend\":true,\"textposition\":\"auto\",\"x\":[\"0h\",\"1h\",\"2h\",\"3h\",\"4h\",\"5h\",\"6h\",\"7h\",\"8h\",\"9h\",\"10h\",\"11h\",\"12h\",\"13h\",\"14h\",\"15h\",\"16h\",\"17h\",\"18h\",\"19h\",\"20h\",\"21h\",\"22h\",\"23h\"],\"xaxis\":\"x\",\"y\":[2056.4442999999997,2057.8356210526313,2053.2769299999995,2018.08393,2077.5600999999997,2054.4390973684212,2206.8210463157893,2252.7963526315784,1873.408189473684,3904.094940526316,5132.19676368421,5118.09454631579,7183.322778421053,6090.350700526315,5086.07574,4742.922548421052,13361.095964736844,3055.862322105263,4255.557692105263,4662.922235263158,5400.85926368421,5451.830061052631,3681.7882931578943,2592.20705368421],\"yaxis\":\"y\",\"type\":\"bar\"}],\"name\":\"2012-11\"},{\"data\":[{\"alignmentgroup\":\"True\",\"hovertemplate\":\"furniture_type=Entertainment<br>date=2012-12<br>hours=%{x}<br>overload=%{y}<extra></extra>\",\"legendgroup\":\"Entertainment\",\"marker\":{\"color\":\"#636efa\",\"pattern\":{\"shape\":\"\"}},\"name\":\"Entertainment\",\"offsetgroup\":\"Entertainment\",\"orientation\":\"v\",\"showlegend\":true,\"textposition\":\"auto\",\"x\":[\"0h\",\"1h\",\"2h\",\"3h\",\"4h\",\"5h\",\"6h\",\"7h\",\"8h\",\"9h\",\"10h\",\"11h\",\"12h\",\"13h\",\"14h\",\"15h\",\"16h\",\"17h\",\"18h\",\"19h\",\"20h\",\"21h\",\"22h\",\"23h\"],\"xaxis\":\"x\",\"y\":[37495.34647290323,38070.41981935484,38885.0605032258,38887.53521161291,39153.696592258064,38886.35978645161,40076.11083806452,40542.30701193548,68822.80518967743,84696.81816967743,77964.30388193548,80566.42638645163,103778.6987916129,215014.33846580645,169720.09590709678,126604.70943612902,145083.91282838708,170829.3295083871,191490.9401367742,324934.14270645165,379175.82856838714,383212.2554012903,156713.8843316129,52766.16686322581],\"yaxis\":\"y\",\"type\":\"bar\"},{\"alignmentgroup\":\"True\",\"hovertemplate\":\"furniture_type=Freezer<br>date=2012-12<br>hours=%{x}<br>overload=%{y}<extra></extra>\",\"legendgroup\":\"Freezer\",\"marker\":{\"color\":\"#EF553B\",\"pattern\":{\"shape\":\"\"}},\"name\":\"Freezer\",\"offsetgroup\":\"Freezer\",\"orientation\":\"v\",\"showlegend\":true,\"textposition\":\"auto\",\"x\":[\"0h\",\"1h\",\"2h\",\"3h\",\"4h\",\"5h\",\"6h\",\"7h\",\"8h\",\"9h\",\"10h\",\"11h\",\"12h\",\"13h\",\"14h\",\"15h\",\"16h\",\"17h\",\"18h\",\"19h\",\"20h\",\"21h\",\"22h\",\"23h\"],\"xaxis\":\"x\",\"y\":[480056.68574193545,468227.46629612905,447864.5004703226,489363.3774196774,452806.5730548387,460940.2947454839,482069.6647351613,455588.9886822581,466312.0785225806,456710.02818741935,437501.9209274194,464864.05057322583,446425.6959648387,457373.52184258064,485855.2333135483,476537.85000193544,546044.61653,582212.1611274193,614325.6642003225,462444.95388000004,437128.0640570968,454710.6466180645,458960.96920225804,434781.5187],\"yaxis\":\"y\",\"type\":\"bar\"},{\"alignmentgroup\":\"True\",\"hovertemplate\":\"furniture_type=Fridge<br>date=2012-12<br>hours=%{x}<br>overload=%{y}<extra></extra>\",\"legendgroup\":\"Fridge\",\"marker\":{\"color\":\"#00cc96\",\"pattern\":{\"shape\":\"\"}},\"name\":\"Fridge\",\"offsetgroup\":\"Fridge\",\"orientation\":\"v\",\"showlegend\":true,\"textposition\":\"auto\",\"x\":[\"0h\",\"1h\",\"2h\",\"3h\",\"4h\",\"5h\",\"6h\",\"7h\",\"8h\",\"9h\",\"10h\",\"11h\",\"12h\",\"13h\",\"14h\",\"15h\",\"16h\",\"17h\",\"18h\",\"19h\",\"20h\",\"21h\",\"22h\",\"23h\"],\"xaxis\":\"x\",\"y\":[97070.3382167742,83367.07880483872,81035.19035806452,85494.12002451613,81917.43109322581,88802.45658387097,86348.5621183871,83974.09025774193,80280.26053870968,86023.95656225806,95025.40844903226,89756.60252967742,71820.56167516128,93419.28796999999,93408.01231,79801.22497096776,91359.67716193547,101325.50349967742,95308.67594354838,91994.84563096774,95523.96115096773,91437.86353354839,87253.53789451614,91140.29255290322],\"yaxis\":\"y\",\"type\":\"bar\"},{\"alignmentgroup\":\"True\",\"hovertemplate\":\"furniture_type=KitchenAppliances<br>date=2012-12<br>hours=%{x}<br>overload=%{y}<extra></extra>\",\"legendgroup\":\"KitchenAppliances\",\"marker\":{\"color\":\"#ab63fa\",\"pattern\":{\"shape\":\"\"}},\"name\":\"KitchenAppliances\",\"offsetgroup\":\"KitchenAppliances\",\"orientation\":\"v\",\"showlegend\":true,\"textposition\":\"auto\",\"x\":[\"0h\",\"1h\",\"2h\",\"3h\",\"4h\",\"5h\",\"6h\",\"7h\",\"8h\",\"9h\",\"10h\",\"11h\",\"12h\",\"13h\",\"14h\",\"15h\",\"16h\",\"17h\",\"18h\",\"19h\",\"20h\",\"21h\",\"22h\",\"23h\"],\"xaxis\":\"x\",\"y\":[1524.1989690322582,1524.8237367741938,1538.3112580645163,1525.6695174193549,1538.0318825806453,11531.007732258064,152745.46264903227,62122.162356129025,154620.47743741938,64967.13320258065,29637.57124903226,66633.35318967742,2264.776638064516,17970.072911612904,16877.97422967742,19789.3886916129,32297.00965032258,46241.27742387097,247745.58835483872,36784.35265741936,1487.8122258064518,1485.29976,1490.466292903226,1476.078455483871],\"yaxis\":\"y\",\"type\":\"bar\"},{\"alignmentgroup\":\"True\",\"hovertemplate\":\"furniture_type=Lamp<br>date=2012-12<br>hours=%{x}<br>overload=%{y}<extra></extra>\",\"legendgroup\":\"Lamp\",\"marker\":{\"color\":\"#FFA15A\",\"pattern\":{\"shape\":\"\"}},\"name\":\"Lamp\",\"offsetgroup\":\"Lamp\",\"orientation\":\"v\",\"showlegend\":true,\"textposition\":\"auto\",\"x\":[\"0h\",\"1h\",\"2h\",\"3h\",\"4h\",\"5h\",\"6h\",\"7h\",\"8h\",\"9h\",\"10h\",\"11h\",\"12h\",\"13h\",\"14h\",\"15h\",\"16h\",\"17h\",\"18h\",\"19h\",\"20h\",\"21h\",\"22h\",\"23h\"],\"xaxis\":\"x\",\"y\":[132839.55635774194,143622.5522567742,130843.12935709677,137072.58197774194,130321.14417096775,126561.22466354838,132848.33887451614,133147.39854935484,138639.17925548388,129392.45737387096,134558.70901,136098.42163935484,144499.68982354837,133163.96307451613,145031.56093387096,140493.3451351613,140983.9039516129,142335.07945548385,145478.67385032255,141638.11030903223,127680.8100516129,131988.4286012903,143382.26859419353,138693.79636612904],\"yaxis\":\"y\",\"type\":\"bar\"},{\"alignmentgroup\":\"True\",\"hovertemplate\":\"furniture_type=Microwave<br>date=2012-12<br>hours=%{x}<br>overload=%{y}<extra></extra>\",\"legendgroup\":\"Microwave\",\"marker\":{\"color\":\"#19d3f3\",\"pattern\":{\"shape\":\"\"}},\"name\":\"Microwave\",\"offsetgroup\":\"Microwave\",\"orientation\":\"v\",\"showlegend\":true,\"textposition\":\"auto\",\"x\":[\"0h\",\"1h\",\"2h\",\"3h\",\"4h\",\"5h\",\"6h\",\"7h\",\"8h\",\"9h\",\"10h\",\"11h\",\"12h\",\"13h\",\"14h\",\"15h\",\"16h\",\"17h\",\"18h\",\"19h\",\"20h\",\"21h\",\"22h\",\"23h\"],\"xaxis\":\"x\",\"y\":[13305.486072258065,13282.745365161289,13287.19768451613,13239.230956774194,13341.7372,14807.39937032258,36944.90166580646,29643.35490129032,23110.66598903226,55506.64889354839,104956.24995161289,262071.43869032257,134878.02169999998,50848.29127806451,18258.67906516129,17271.213447741935,15079.137888387095,85852.46440774194,294509.41956903227,68950.23268,15270.42392,13264.021097419356,16752.084172903225,13324.200108387096],\"yaxis\":\"y\",\"type\":\"bar\"},{\"alignmentgroup\":\"True\",\"hovertemplate\":\"furniture_type=StereoAndLaptop<br>date=2012-12<br>hours=%{x}<br>overload=%{y}<extra></extra>\",\"legendgroup\":\"StereoAndLaptop\",\"marker\":{\"color\":\"#FF6692\",\"pattern\":{\"shape\":\"\"}},\"name\":\"StereoAndLaptop\",\"offsetgroup\":\"StereoAndLaptop\",\"orientation\":\"v\",\"showlegend\":true,\"textposition\":\"auto\",\"x\":[\"0h\",\"1h\",\"2h\",\"3h\",\"4h\",\"5h\",\"6h\",\"7h\",\"8h\",\"9h\",\"10h\",\"11h\",\"12h\",\"13h\",\"14h\",\"15h\",\"16h\",\"17h\",\"18h\",\"19h\",\"20h\",\"21h\",\"22h\",\"23h\"],\"xaxis\":\"x\",\"y\":[12977.808212,12820.830654,13018.991533,12901.413923333334,13026.24881,12954.917109666667,12900.183973333333,13274.604973333333,26121.24203266667,20085.527732333332,25742.247639666668,24441.068044666667,14515.668513999999,16017.378231,20629.972512,16295.099114666666,14947.941126333335,32627.988542,19705.729172000003,16723.275370333333,15345.061033,17142.12836,14718.423966666667,15097.091830000001],\"yaxis\":\"y\",\"type\":\"bar\"},{\"alignmentgroup\":\"True\",\"hovertemplate\":\"furniture_type=Tablet<br>date=2012-12<br>hours=%{x}<br>overload=%{y}<extra></extra>\",\"legendgroup\":\"Tablet\",\"marker\":{\"color\":\"#B6E880\",\"pattern\":{\"shape\":\"\"}},\"name\":\"Tablet\",\"offsetgroup\":\"Tablet\",\"orientation\":\"v\",\"showlegend\":true,\"textposition\":\"auto\",\"x\":[\"0h\",\"1h\",\"2h\",\"3h\",\"4h\",\"5h\",\"6h\",\"7h\",\"8h\",\"9h\",\"10h\",\"11h\",\"12h\",\"13h\",\"14h\",\"15h\",\"16h\",\"17h\",\"18h\",\"19h\",\"20h\",\"21h\",\"22h\",\"23h\"],\"xaxis\":\"x\",\"y\":[6443.507465483871,5172.500568387097,4393.2751303225805,4009.342152580645,3898.250009677419,3755.4546493548382,4705.57878,4811.17803032258,5403.818546129032,6038.003526774194,6493.001377096774,7245.129784838709,5137.989049354838,4928.329561290322,6468.183260967741,6364.235704838709,6796.438596774193,11794.179835483872,6225.235762903226,4539.312824838709,4616.569701290322,4721.764126451612,7510.999514516128,8201.525431612903],\"yaxis\":\"y\",\"type\":\"bar\"}],\"name\":\"2012-12\"},{\"data\":[{\"alignmentgroup\":\"True\",\"hovertemplate\":\"furniture_type=Entertainment<br>date=2013-01<br>hours=%{x}<br>overload=%{y}<extra></extra>\",\"legendgroup\":\"Entertainment\",\"marker\":{\"color\":\"#636efa\",\"pattern\":{\"shape\":\"\"}},\"name\":\"Entertainment\",\"offsetgroup\":\"Entertainment\",\"orientation\":\"v\",\"showlegend\":true,\"textposition\":\"auto\",\"x\":[\"0h\",\"1h\",\"2h\",\"3h\",\"4h\",\"5h\",\"6h\",\"7h\",\"8h\",\"9h\",\"10h\",\"11h\",\"12h\",\"13h\",\"14h\",\"15h\",\"16h\",\"17h\",\"18h\",\"19h\",\"20h\",\"21h\",\"22h\",\"23h\"],\"xaxis\":\"x\",\"y\":[1765.2989995652176,1774.1656286956525,1786.479834347826,1795.2242104347827,1695.629318695652,1763.1715404347826,29069.29132652174,47062.9680647826,47089.41963347826,55267.17232,45128.33543,71906.84288347827,70141.31851652174,176687.62692347827,146861.90448173913,93075.0027178261,84626.68012521739,97383.79275173912,164394.54021347826,210827.01943652175,234288.4825352174,231002.77827695652,72124.20059000001,72.26883304347827],\"yaxis\":\"y\",\"type\":\"bar\"},{\"alignmentgroup\":\"True\",\"hovertemplate\":\"furniture_type=Freezer<br>date=2013-01<br>hours=%{x}<br>overload=%{y}<extra></extra>\",\"legendgroup\":\"Freezer\",\"marker\":{\"color\":\"#EF553B\",\"pattern\":{\"shape\":\"\"}},\"name\":\"Freezer\",\"offsetgroup\":\"Freezer\",\"orientation\":\"v\",\"showlegend\":true,\"textposition\":\"auto\",\"x\":[\"0h\",\"1h\",\"2h\",\"3h\",\"4h\",\"5h\",\"6h\",\"7h\",\"8h\",\"9h\",\"10h\",\"11h\",\"12h\",\"13h\",\"14h\",\"15h\",\"16h\",\"17h\",\"18h\",\"19h\",\"20h\",\"21h\",\"22h\",\"23h\"],\"xaxis\":\"x\",\"y\":[114937.39367904763,109036.06647809524,115796.02883047619,125433.48869,116147.77303904764,130365.79429380952,111308.5162542857,115548.17817,118040.91492142857,125585.14509047619,106520.99428190477,109096.60622761904,118967.0252947619,113301.35619333333,114341.41191904762,107881.35622714287,85181.6334552381,100503.22811952382,104977.7389209524,124391.79250523809,97427.84663904762,111615.00330857144,106767.60797428573,116785.23689952379],\"yaxis\":\"y\",\"type\":\"bar\"},{\"alignmentgroup\":\"True\",\"hovertemplate\":\"furniture_type=Fridge<br>date=2013-01<br>hours=%{x}<br>overload=%{y}<extra></extra>\",\"legendgroup\":\"Fridge\",\"marker\":{\"color\":\"#00cc96\",\"pattern\":{\"shape\":\"\"}},\"name\":\"Fridge\",\"offsetgroup\":\"Fridge\",\"orientation\":\"v\",\"showlegend\":true,\"textposition\":\"auto\",\"x\":[\"0h\",\"1h\",\"2h\",\"3h\",\"4h\",\"5h\",\"6h\",\"7h\",\"8h\",\"9h\",\"10h\",\"11h\",\"12h\",\"13h\",\"14h\",\"15h\",\"16h\",\"17h\",\"18h\",\"19h\",\"20h\",\"21h\",\"22h\",\"23h\"],\"xaxis\":\"x\",\"y\":[81331.10869,85974.97672434783,81057.77864391304,83710.12279130434,75523.52617782609,79475.23735130434,88180.6327947826,69776.23967304348,80847.97185652173,81826.59088956522,87497.82028782609,89764.95088130435,79439.25700782609,81236.69041869565,81548.56660086957,76230.03670826087,80584.31638304348,71161.07625130434,91613.01014260869,81050.36334043478,84096.18952391305,74999.76641260869,86121.51097304348,79157.39184695653],\"yaxis\":\"y\",\"type\":\"bar\"},{\"alignmentgroup\":\"True\",\"hovertemplate\":\"furniture_type=KitchenAppliances<br>date=2013-01<br>hours=%{x}<br>overload=%{y}<extra></extra>\",\"legendgroup\":\"KitchenAppliances\",\"marker\":{\"color\":\"#ab63fa\",\"pattern\":{\"shape\":\"\"}},\"name\":\"KitchenAppliances\",\"offsetgroup\":\"KitchenAppliances\",\"orientation\":\"v\",\"showlegend\":true,\"textposition\":\"auto\",\"x\":[\"0h\",\"1h\",\"2h\",\"3h\",\"4h\",\"5h\",\"6h\",\"7h\",\"8h\",\"9h\",\"10h\",\"11h\",\"12h\",\"13h\",\"14h\",\"15h\",\"16h\",\"17h\",\"18h\",\"19h\",\"20h\",\"21h\",\"22h\",\"23h\"],\"xaxis\":\"x\",\"y\":[448.9386400000001,441.59334434782613,438.39783130434785,443.1962591304348,434.8180313043478,433.59682434782616,174673.5434678261,18813.994636521737,136616.42806347826,43660.73812521739,20559.68491304348,6763.083977391304,61354.396863478265,35664.53844608696,119494.98824869566,8618.972255652174,424.8317304347826,10109.423413043478,298867.4005443478,22096.185592173915,423.6156817391305,441.2193739130435,424.1830852173913,420.13001913043485],\"yaxis\":\"y\",\"type\":\"bar\"},{\"alignmentgroup\":\"True\",\"hovertemplate\":\"furniture_type=Lamp<br>date=2013-01<br>hours=%{x}<br>overload=%{y}<extra></extra>\",\"legendgroup\":\"Lamp\",\"marker\":{\"color\":\"#FFA15A\",\"pattern\":{\"shape\":\"\"}},\"name\":\"Lamp\",\"offsetgroup\":\"Lamp\",\"orientation\":\"v\",\"showlegend\":true,\"textposition\":\"auto\",\"x\":[\"0h\",\"1h\",\"2h\",\"3h\",\"4h\",\"5h\",\"6h\",\"7h\",\"8h\",\"9h\",\"10h\",\"11h\",\"12h\",\"13h\",\"14h\",\"15h\",\"16h\",\"17h\",\"18h\",\"19h\",\"20h\",\"21h\",\"22h\",\"23h\"],\"xaxis\":\"x\",\"y\":[59999.155199230765,68305.47323153846,78391.02316923077,57208.57600153846,68741.4588376923,57771.121234615384,50167.58838846153,50315.6324,46926.709141538464,63648.56671846153,67644.43546692308,89673.42992153847,51879.03977538462,41079.32989923077,39346.21325384615,41896.6575876923,45756.829163846145,52527.69589230769,63281.43209307692,52514.96174923076,52294.19521692307,48505.519246153846,47292.85368461538,68211.66208153845],\"yaxis\":\"y\",\"type\":\"bar\"},{\"alignmentgroup\":\"True\",\"hovertemplate\":\"furniture_type=Microwave<br>date=2013-01<br>hours=%{x}<br>overload=%{y}<extra></extra>\",\"legendgroup\":\"Microwave\",\"marker\":{\"color\":\"#19d3f3\",\"pattern\":{\"shape\":\"\"}},\"name\":\"Microwave\",\"offsetgroup\":\"Microwave\",\"orientation\":\"v\",\"showlegend\":true,\"textposition\":\"auto\",\"x\":[\"0h\",\"1h\",\"2h\",\"3h\",\"4h\",\"5h\",\"6h\",\"7h\",\"8h\",\"9h\",\"10h\",\"11h\",\"12h\",\"13h\",\"14h\",\"15h\",\"16h\",\"17h\",\"18h\",\"19h\",\"20h\",\"21h\",\"22h\",\"23h\"],\"xaxis\":\"x\",\"y\":[13486.46307826087,13457.223669565217,13384.730765217391,13467.70572173913,13502.131202608696,13444.85280869565,39866.969575652176,31070.607446086957,24794.86922782609,56578.83466521739,86701.95570086956,313051.16907304345,172852.61274608693,44004.43702347826,13232.107486086956,14388.88234695652,13014.93406173913,29824.35746956522,345921.2944652174,37186.40196956522,15015.02242173913,12806.478186956521,12891.170473913042,12890.681173043477],\"yaxis\":\"y\",\"type\":\"bar\"},{\"alignmentgroup\":\"True\",\"hovertemplate\":\"furniture_type=StereoAndLaptop<br>date=2013-01<br>hours=%{x}<br>overload=%{y}<extra></extra>\",\"legendgroup\":\"StereoAndLaptop\",\"marker\":{\"color\":\"#FF6692\",\"pattern\":{\"shape\":\"\"}},\"name\":\"StereoAndLaptop\",\"offsetgroup\":\"StereoAndLaptop\",\"orientation\":\"v\",\"showlegend\":true,\"textposition\":\"auto\",\"x\":[\"0h\",\"1h\",\"2h\",\"3h\",\"4h\",\"5h\",\"6h\",\"7h\",\"8h\",\"9h\",\"10h\",\"11h\",\"12h\",\"13h\",\"14h\",\"15h\",\"16h\",\"17h\",\"18h\",\"19h\",\"20h\",\"21h\",\"22h\",\"23h\"],\"xaxis\":\"x\",\"y\":[13387.968761538463,13386.653123076925,13442.567430769232,13366.754207692305,13178.168255384615,13303.610614615385,33796.76044615385,42990.58826153846,35053.71900153846,21120.263553846155,15159.098132307692,28442.416484615384,42570.73970769231,74835.89904615385,51502.40736153846,15410.755715384616,12132.415661538464,42540.21605692308,66040.78227,99921.53254538462,137246.29140000002,160560.74933692307,58349.45005461539,9627.108361538461],\"yaxis\":\"y\",\"type\":\"bar\"},{\"alignmentgroup\":\"True\",\"hovertemplate\":\"furniture_type=Tablet<br>date=2013-01<br>hours=%{x}<br>overload=%{y}<extra></extra>\",\"legendgroup\":\"Tablet\",\"marker\":{\"color\":\"#B6E880\",\"pattern\":{\"shape\":\"\"}},\"name\":\"Tablet\",\"offsetgroup\":\"Tablet\",\"orientation\":\"v\",\"showlegend\":true,\"textposition\":\"auto\",\"x\":[\"0h\",\"1h\",\"2h\",\"3h\",\"4h\",\"5h\",\"6h\",\"7h\",\"8h\",\"9h\",\"10h\",\"11h\",\"12h\",\"13h\",\"14h\",\"15h\",\"16h\",\"17h\",\"18h\",\"19h\",\"20h\",\"21h\",\"22h\",\"23h\"],\"xaxis\":\"x\",\"y\":[9097.583974347826,7268.904942173913,6086.936246956521,5309.367397826087,4837.888482173913,4678.246293478261,4228.848768695651,6097.181837391305,7288.416396521739,9330.517816956522,10048.545170869564,8969.153868695652,6529.292548260869,5361.294837826086,7729.98618,7919.797973478261,7108.056513478261,6357.334083913043,6140.356496086956,4603.4012008695645,10182.754388695652,10657.936296086957,12010.01297826087,11290.727511739131],\"yaxis\":\"y\",\"type\":\"bar\"}],\"name\":\"2013-01\"}]);\n",
              "                        }).then(function(){\n",
              "                            \n",
              "var gd = document.getElementById('b116c758-7b0f-4e7d-8731-f3ed0464d480');\n",
              "var x = new MutationObserver(function (mutations, observer) {{\n",
              "        var display = window.getComputedStyle(gd).display;\n",
              "        if (!display || display === 'none') {{\n",
              "            console.log([gd, 'removed!']);\n",
              "            Plotly.purge(gd);\n",
              "            observer.disconnect();\n",
              "        }}\n",
              "}});\n",
              "\n",
              "// Listen for the removal of the full notebook cells\n",
              "var notebookContainer = gd.closest('#notebook-container');\n",
              "if (notebookContainer) {{\n",
              "    x.observe(notebookContainer, {childList: true});\n",
              "}}\n",
              "\n",
              "// Listen for the clearing of the current output cell\n",
              "var outputEl = gd.closest('.output');\n",
              "if (outputEl) {{\n",
              "    x.observe(outputEl, {childList: true});\n",
              "}}\n",
              "\n",
              "                        })                };                });            </script>        </div>"
            ]
          },
          "metadata": {},
          "output_type": "display_data"
        }
      ],
      "source": [
        "fig = px.bar(show_data, x='hours', y='overload', animation_frame='date', color='furniture_type')\n",
        "fig.layout.title = 'The mean of electricity overload in Family Fourth'\n",
        "fig.layout.yaxis.title = 'Electricity Overload'\n",
        "fig.layout.xaxis.title = 'Hours'\n",
        "fig.show()"
      ]
    },
    {
      "attachments": {},
      "cell_type": "markdown",
      "metadata": {},
      "source": [
        "Discovery:\n",
        "\n",
        "From June to December 2016, refrigerators electricity overload rank 1 of all appliances, but by January 2013, they shrank to 1/7 of their original consumption, guessing that the low winter temperatures reduced refrigerator usage.\n",
        "Kitchen appliances are found to be in use from 6am-8am and 6pm-7pm.\n",
        "Microwave were found to be in use from 11am-12am and 6pm.\n",
        "Because of the relationship between the direct sun point movement, the closer the time is to winter, the longer the time of darkness, the greater the proportion of time and load of light use.\n"
      ]
    }
  ],
  "metadata": {
    "colab": {
      "provenance": []
    },
    "kernelspec": {
      "display_name": "Python 3 (ipykernel)",
      "language": "python",
      "name": "python3"
    },
    "language_info": {
      "codemirror_mode": {
        "name": "ipython",
        "version": 3
      },
      "file_extension": ".py",
      "mimetype": "text/x-python",
      "name": "python",
      "nbconvert_exporter": "python",
      "pygments_lexer": "ipython3",
      "version": "3.9.12"
    },
    "vscode": {
      "interpreter": {
        "hash": "ec92d9ae88f3431bb6081fff3ea9c366482afeae4639ee182ffc6b9fbe6c4d59"
      }
    }
  },
  "nbformat": 4,
  "nbformat_minor": 0
}
